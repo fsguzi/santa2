{
 "cells": [
  {
   "cell_type": "code",
   "execution_count": 82,
   "metadata": {
    "collapsed": true
   },
   "outputs": [],
   "source": [
    "import numpy as np\n",
    "from itertools import combinations,permutations,product"
   ]
  },
  {
   "cell_type": "code",
   "execution_count": 3,
   "metadata": {
    "collapsed": true
   },
   "outputs": [],
   "source": [
    "import pandas as pd\n",
    "import numpy as np\n",
    "import matplotlib.pyplot as plt\n",
    "%matplotlib inline\n",
    "from sympy import sieve\n",
    "import time\n",
    "\n",
    "from common import *\n",
    "#from solver\n"
   ]
  },
  {
   "cell_type": "code",
   "execution_count": 83,
   "metadata": {},
   "outputs": [
    {
     "data": {
      "text/plain": [
       "[(0, 1), (0, 2), (1, 2)]"
      ]
     },
     "execution_count": 83,
     "metadata": {},
     "output_type": "execute_result"
    }
   ],
   "source": [
    "list(combinations(np.arange(3),2))"
   ]
  },
  {
   "cell_type": "code",
   "execution_count": 116,
   "metadata": {
    "collapsed": true
   },
   "outputs": [],
   "source": [
    "def generate(opt):\n",
    "    links = np.arange(opt*2)\n",
    "    r = opt-1\n",
    "    first,last = links[[0,-1]]\n",
    "    pair = links[1:-1].reshape(r,2)\n",
    "    \n",
    "    permus = np.array(list(permutations(np.arange(r))))\n",
    "    prods = np.array(list(product([1,-1],repeat = r)))\n",
    "    \n",
    "    permus_n = len(permus)\n",
    "    prods_n = len(prods)\n",
    "    \n",
    "    mask_p = np.zeros((permus_n*prods_n,opt),dtype=int)\n",
    "    mask_p[:,0] = 0\n",
    "    \n",
    "    mask_t_node = np.zeros((permus_n*prods_n,opt-2,r),dtype=int)\n",
    "    mask_t_pos = np.zeros((permus_n*prods_n,opt-2),dtype=int)\n",
    "    for i in range(opt-2):\n",
    "        mask_t_pos[:,i] = i + 1\n",
    "        \n",
    "    offset_idx_from_node = np.zeros((r,permus_n*2,r),dtype=int)\n",
    "    offset_idx_from_pos = np.zeros((r,permus_n*2),dtype=int)\n",
    "    which_middle_idx = np.zeros((r,permus_n*prods_n),dtype=int)\n",
    "    reconstruct = []\n",
    "    for i,permu in enumerate(permus):\n",
    "        \n",
    "        middle = pair[[permu]]\n",
    "        where = np.argsort(permu)\n",
    "        \n",
    "        for j,pro in enumerate(prods):\n",
    "            \n",
    "               \n",
    "            middle_ = middle.copy()\n",
    "            for k,flip in enumerate(pro):\n",
    "                \n",
    "                middle_[k] = middle_[k][::flip]\n",
    "                mask_p[i*prods_n+j,k+1] = middle_[k][-1]\n",
    "                \n",
    "                actual_seg = permu[k]\n",
    "                before_current = permu[:k]\n",
    "                if k>0:\n",
    "                    mask_t_node[i*prods_n+j,k-1,before_current] = 1\n",
    "                if flip == 1:\n",
    "                    which_middle_idx[actual_seg,i*prods_n+j] = i\n",
    "                else:\n",
    "                    which_middle_idx[actual_seg,i*prods_n+j] = i+permus_n\n",
    "            row = np.concatenate([[first],middle_.ravel(),[last]])\n",
    "            reconstruct.append(row)\n",
    "            \n",
    "        for k in range(r):\n",
    "            actual_seg = permu[k]\n",
    "            before_current = permu[:k]\n",
    "\n",
    "            offset_idx_from_pos[actual_seg,i] = k+1\n",
    "            offset_idx_from_pos[actual_seg,i+permus_n] = k+1\n",
    "\n",
    "            offset_idx_from_node[actual_seg,i,[before_current]] = 1\n",
    "            offset_idx_from_node[actual_seg,i+permus_n,[before_current]] = 1\n",
    "                \n",
    "        \n",
    "    reconstruct = np.array(reconstruct)            \n",
    "    return reconstruct,permus,prods,which_middle_idx,offset_idx_from_node,offset_idx_from_pos,mask_p,mask_t_pos,mask_t_node"
   ]
  },
  {
   "cell_type": "code",
   "execution_count": 128,
   "metadata": {
    "scrolled": true
   },
   "outputs": [],
   "source": [
    "def which_one(links,steps):\n",
    "    links_ = links[1:-1:2,np.newaxis]\n",
    "    reverse_pos = 197769 - links[2:-1:2,np.newaxis]\n",
    "    \n",
    "    new_pos = (steps * offset_idx_from_node).sum(axis=-1) + offset_idx_from_pos + links[0]\n",
    "    new_pos[:,:num_permu] = (new_pos[:,:num_permu] - links_)%10\n",
    "    new_pos[:,num_permu:] = (new_pos[:,num_permu:] - reverse_pos)%10+10\n",
    "    return new_pos\n",
    "\n",
    "def connector_dist(connector,nodes):\n",
    "    return distance(nodes[connector[:,::2]],nodes[connector[:,1::2]])\n",
    "\n",
    "def segment_dist(which_offset,links,dist):\n",
    "    segs = links[1:-1].reshape(opt-1,2)\n",
    "    \n",
    "    segs_penalty = []\n",
    "    for a,b in segs:\n",
    "        seg_penalty = dist[:,b] - dist[:,a]\n",
    "        \n",
    "        segs_penalty.append(seg_penalty)\n",
    "    segment = sum([segs_penalty[i][which_offset[i]][which_middle_idx[i]] for i in range(len(segs))])\n",
    "    \n",
    "    return segment\n",
    "\n",
    "def pair_step(links):\n",
    "    return links[2:-1:2] - links[1:-1:2]\n",
    "\n",
    "def check(links,nodes,solution,prime_set,dist):\n",
    "    links_node = solution[links]\n",
    "    steps = pair_step(links)\n",
    "    \n",
    "    not_prime = np.array([not x in prime_set for x in links_node])\n",
    "    mask_prime = not_prime[mask_p]\n",
    "    #print(mask_prime)\n",
    "    mask_ten = np.zeros_like(mask_prime,dtype=int)\n",
    "    mask_ten[:,[0,-1]] = links[[1,-1]]\n",
    "    mask_ten[:,1:-1] = mask_t_pos + (mask_t_node*steps).sum(axis=-1) + links[1]\n",
    "    #print(mask_ten)\n",
    "    mask_ten = (mask_ten%10)==0\n",
    "    \n",
    "    mask = np.logical_and(mask_prime,mask_ten)*0.1\n",
    "    #print(mask)\n",
    "    \n",
    "    connector = links_node[reconstruct]\n",
    "\n",
    "    connector = connector_dist(connector,nodes)\n",
    "    connector = (connector+connector*mask).sum(axis=-1)\n",
    "    \n",
    "    which_offset = which_one(links,steps)\n",
    "    segment = segment_dist(which_offset,links,dist)\n",
    "    \n",
    "    out = connector+segment\n",
    "    return np.argmin(out),out.min()-out[0]\n",
    "    \n",
    "def excute_swap(code,links,solution):\n",
    "    permu = permus[code//num_prod]\n",
    "    prod = prods[code%num_prod]\n",
    "    segs = links[1:-1].reshape(opt-1,2).copy()\n",
    "    segs[:,1] += 1\n",
    "    \n",
    "    copies = []\n",
    "    for i in permu:\n",
    "        a,b = segs[i]\n",
    "        copies.append(solution[a:b].copy())\n",
    "    \n",
    "    solution[segs[0,0]:segs[-1,-1]] = np.concatenate([copies[i][::prod[i]] for i in range(len(segs))])\n",
    "    \n",
    "def two_way_distance(nodes,solution,prime):\n",
    "    s = nodes[solution[:-1]]\n",
    "    e = nodes[solution[1:]]\n",
    "    raw_d = distance(s,e)\n",
    "    rever_raw_d = raw_d[::-1]\n",
    "    \n",
    "    n = len(raw_d)\n",
    "    dist = np.zeros((20,n),dtype=float)\n",
    "    zero_column = np.zeros((20,1),dtype=float)\n",
    "    \n",
    "    notprime = np.logical_not(np.isin(solution,prime))\n",
    "    notprime_forward = notprime[:-1]\n",
    "    notprime_backward = notprime[-1:0:-1]\n",
    "    \n",
    "    for offset in range(10):\n",
    "        dist[offset,9-offset::10] += raw_d[9-offset::10] * notprime_forward [9-offset::10] * 0.1\n",
    "        dist[offset+10,9-offset::10] += (rever_raw_d[9-offset::10] * notprime_backward[9-offset::10] * 0.1)\n",
    "        dist[offset+10] = dist[offset+10][::-1]\n",
    "    dist = np.concatenate([zero_column,dist],axis=-1)\n",
    "    return dist.cumsum(axis=-1)"
   ]
  },
  {
   "cell_type": "code",
   "execution_count": 129,
   "metadata": {
    "scrolled": true
   },
   "outputs": [
    {
     "name": "stdout",
     "output_type": "stream",
     "text": [
      "iteration 1 start\n",
      "[ 77  78  78  79 110 111] 4 -0.925298022787 1516561.95469\n",
      "[   230    231    233    234 197751 197752] 7 -7.18014035467 1516554.77455\n",
      "[280 281 548 549 549 550] 4 -2.21191148358 1516552.56263\n",
      "[370 371 407 408 408 409] 4 -0.00808006593029 1516552.55455\n",
      "[676 677 679 680 685 686] 5 -0.314238099644 1516552.24032\n",
      "[  753   754   755   756 39706 39707] 1 -5.17113174018 1516547.06918\n",
      "[  766   767   892   893 39720 39721] 7 -1.80646166411 1516545.26272\n",
      "[   755    756    780    781 197567 197568] 2 -7.33115626584 1516537.93157\n",
      "[1222 1223 1223 1224 1894 1895] 4 -1.50814259103 1516536.42342\n",
      "[1230 1231 1376 1377 1377 1378] 4 -0.547324367302 1516535.8761\n",
      "[1921 1922 1922 1923 1939 1940] 4 -0.629610757648 1516535.24649\n",
      "[2072 2073 2094 2095 2095 2096] 4 -0.0114096849022 1516535.23508\n",
      "[2138 2139 2140 2141 2197 2198] 5 -0.832931994545 1516534.40215\n",
      "[2093 2094 2149 2150 2150 2151] 4 -0.432422484054 1516533.96972\n",
      "[2627 2628 2629 2630 2878 2879] 5 -0.906821517861 1516533.0629\n",
      "[2730 2731 3207 3208 3208 3209] 4 -1.22951852626 1516531.83338\n",
      "[  3720   3721  10525  10526 196332 196333] 2 -2.41400627839 1516529.41938\n",
      "[ 3733  3734  3735  3736 10051 10052] 7 -1.69472595706 1516527.72465\n",
      "[3873 3874 3874 3875 5920 5921] 4 -4.42697097316 1516523.29768\n"
     ]
    },
    {
     "ename": "KeyboardInterrupt",
     "evalue": "",
     "output_type": "error",
     "traceback": [
      "\u001b[0;31m---------------------------------------------------------------------------\u001b[0m",
      "\u001b[0;31mKeyboardInterrupt\u001b[0m                         Traceback (most recent call last)",
      "\u001b[0;32m<ipython-input-129-8867ab931b2d>\u001b[0m in \u001b[0;36m<module>\u001b[0;34m()\u001b[0m\n\u001b[1;32m     31\u001b[0m \u001b[0;34m\u001b[0m\u001b[0m\n\u001b[1;32m     32\u001b[0m         \u001b[0mleft_d\u001b[0m \u001b[0;34m=\u001b[0m \u001b[0mright_d\u001b[0m\u001b[0;34m.\u001b[0m\u001b[0mcopy\u001b[0m\u001b[0;34m(\u001b[0m\u001b[0;34m)\u001b[0m\u001b[0;34m\u001b[0m\u001b[0m\n\u001b[0;32m---> 33\u001b[0;31m         \u001b[0mright_d\u001b[0m \u001b[0;34m=\u001b[0m \u001b[0mdistance\u001b[0m\u001b[0;34m(\u001b[0m\u001b[0mnodes\u001b[0m\u001b[0;34m[\u001b[0m\u001b[0mright_node\u001b[0m\u001b[0;34m]\u001b[0m\u001b[0;34m,\u001b[0m\u001b[0mnodes\u001b[0m\u001b[0;34m)\u001b[0m\u001b[0;34m\u001b[0m\u001b[0m\n\u001b[0m\u001b[1;32m     34\u001b[0m         \u001b[0mright_d\u001b[0m\u001b[0;34m[\u001b[0m\u001b[0mright_node\u001b[0m\u001b[0;34m]\u001b[0m \u001b[0;34m=\u001b[0m \u001b[0;36m99999\u001b[0m\u001b[0;34m\u001b[0m\u001b[0m\n\u001b[1;32m     35\u001b[0m \u001b[0;34m\u001b[0m\u001b[0m\n",
      "\u001b[0;32m/media/fsguzi/shits/kaggle/santa2/common.py\u001b[0m in \u001b[0;36mdistance\u001b[0;34m(coor1, coor2)\u001b[0m\n\u001b[1;32m     23\u001b[0m \u001b[0;34m\u001b[0m\u001b[0m\n\u001b[1;32m     24\u001b[0m \u001b[0;32mdef\u001b[0m \u001b[0mdistance\u001b[0m\u001b[0;34m(\u001b[0m\u001b[0mcoor1\u001b[0m\u001b[0;34m,\u001b[0m\u001b[0mcoor2\u001b[0m\u001b[0;34m)\u001b[0m\u001b[0;34m:\u001b[0m\u001b[0;34m\u001b[0m\u001b[0m\n\u001b[0;32m---> 25\u001b[0;31m     \u001b[0;32mreturn\u001b[0m \u001b[0mnp\u001b[0m\u001b[0;34m.\u001b[0m\u001b[0msqrt\u001b[0m\u001b[0;34m(\u001b[0m\u001b[0;34m(\u001b[0m\u001b[0;34m(\u001b[0m\u001b[0mcoor1\u001b[0m\u001b[0;34m-\u001b[0m\u001b[0mcoor2\u001b[0m\u001b[0;34m)\u001b[0m\u001b[0;34m**\u001b[0m\u001b[0;36m2\u001b[0m\u001b[0;34m)\u001b[0m\u001b[0;34m.\u001b[0m\u001b[0msum\u001b[0m\u001b[0;34m(\u001b[0m\u001b[0maxis\u001b[0m\u001b[0;34m=\u001b[0m\u001b[0;34m-\u001b[0m\u001b[0;36m1\u001b[0m\u001b[0;34m)\u001b[0m\u001b[0;34m)\u001b[0m\u001b[0;34m\u001b[0m\u001b[0m\n\u001b[0m\u001b[1;32m     26\u001b[0m \u001b[0;34m\u001b[0m\u001b[0m\n\u001b[1;32m     27\u001b[0m \u001b[0;32mclass\u001b[0m \u001b[0mproblem\u001b[0m\u001b[0;34m:\u001b[0m\u001b[0;34m\u001b[0m\u001b[0m\n",
      "\u001b[0;32m~/anaconda3/lib/python3.6/site-packages/numpy/core/_methods.py\u001b[0m in \u001b[0;36m_sum\u001b[0;34m(a, axis, dtype, out, keepdims)\u001b[0m\n\u001b[1;32m     30\u001b[0m \u001b[0;34m\u001b[0m\u001b[0m\n\u001b[1;32m     31\u001b[0m \u001b[0;32mdef\u001b[0m \u001b[0m_sum\u001b[0m\u001b[0;34m(\u001b[0m\u001b[0ma\u001b[0m\u001b[0;34m,\u001b[0m \u001b[0maxis\u001b[0m\u001b[0;34m=\u001b[0m\u001b[0;32mNone\u001b[0m\u001b[0;34m,\u001b[0m \u001b[0mdtype\u001b[0m\u001b[0;34m=\u001b[0m\u001b[0;32mNone\u001b[0m\u001b[0;34m,\u001b[0m \u001b[0mout\u001b[0m\u001b[0;34m=\u001b[0m\u001b[0;32mNone\u001b[0m\u001b[0;34m,\u001b[0m \u001b[0mkeepdims\u001b[0m\u001b[0;34m=\u001b[0m\u001b[0;32mFalse\u001b[0m\u001b[0;34m)\u001b[0m\u001b[0;34m:\u001b[0m\u001b[0;34m\u001b[0m\u001b[0m\n\u001b[0;32m---> 32\u001b[0;31m     \u001b[0;32mreturn\u001b[0m \u001b[0mumr_sum\u001b[0m\u001b[0;34m(\u001b[0m\u001b[0ma\u001b[0m\u001b[0;34m,\u001b[0m \u001b[0maxis\u001b[0m\u001b[0;34m,\u001b[0m \u001b[0mdtype\u001b[0m\u001b[0;34m,\u001b[0m \u001b[0mout\u001b[0m\u001b[0;34m,\u001b[0m \u001b[0mkeepdims\u001b[0m\u001b[0;34m)\u001b[0m\u001b[0;34m\u001b[0m\u001b[0m\n\u001b[0m\u001b[1;32m     33\u001b[0m \u001b[0;34m\u001b[0m\u001b[0m\n\u001b[1;32m     34\u001b[0m \u001b[0;32mdef\u001b[0m \u001b[0m_prod\u001b[0m\u001b[0;34m(\u001b[0m\u001b[0ma\u001b[0m\u001b[0;34m,\u001b[0m \u001b[0maxis\u001b[0m\u001b[0;34m=\u001b[0m\u001b[0;32mNone\u001b[0m\u001b[0;34m,\u001b[0m \u001b[0mdtype\u001b[0m\u001b[0;34m=\u001b[0m\u001b[0;32mNone\u001b[0m\u001b[0;34m,\u001b[0m \u001b[0mout\u001b[0m\u001b[0;34m=\u001b[0m\u001b[0;32mNone\u001b[0m\u001b[0;34m,\u001b[0m \u001b[0mkeepdims\u001b[0m\u001b[0;34m=\u001b[0m\u001b[0;32mFalse\u001b[0m\u001b[0;34m)\u001b[0m\u001b[0;34m:\u001b[0m\u001b[0;34m\u001b[0m\u001b[0m\n",
      "\u001b[0;31mKeyboardInterrupt\u001b[0m: "
     ]
    }
   ],
   "source": [
    "p = problem(base_path='./solution/base3.csv')\n",
    "p.score(p.base,raw=False)\n",
    "\n",
    "solution = p.base.copy()\n",
    "nodes = p.nodes.copy()\n",
    "prime = p.prime.copy()\n",
    "prime_set = p.prime_set\n",
    "n = len(nodes)\n",
    "\n",
    "opt = 3\n",
    "reconstruct,permus,prods,which_middle_idx,offset_idx_from_node,offset_idx_from_pos,mask_p,mask_t_pos,mask_t_node = generate(opt)\n",
    "num_permu = len(permus)\n",
    "num_prod = len(prods)\n",
    "a=time.time()\n",
    "\n",
    "dist = two_way_distance(nodes,solution,prime)\n",
    "swaps = 1\n",
    "iteration = 1\n",
    "while swaps>0:\n",
    "    swaps = 0\n",
    "    iterstart = time.time()\n",
    "    print('iteration %s start'%iteration)\n",
    "    right_d = distance(nodes[0],nodes)\n",
    "    right_d[0] = 99999\n",
    "\n",
    "    for left in range(n):\n",
    "        left_node,right_node = solution[left:left+2]\n",
    "        left_prime = not left_node in prime_set\n",
    "\n",
    "        current_d = distance(nodes[left_node], nodes[right_node])\n",
    "\n",
    "        left_d = right_d.copy()\n",
    "        right_d = distance(nodes[right_node],nodes)\n",
    "        right_d[right_node] = 99999\n",
    "\n",
    "        left_candidates = np.argwhere(left_d<current_d).ravel()\n",
    "        right_candidates = np.argwhere(right_d<current_d).ravel()\n",
    "\n",
    "        if len(left_candidates)==0 or len(right_candidates)==0:\n",
    "            continue\n",
    "        for node_l in left_candidates:\n",
    "\n",
    "            ll = np.argwhere(solution==node_l)[0,0]\n",
    "            for node_r in right_candidates:\n",
    "                rr = np.argwhere(solution==node_r)[0,0]\n",
    "\n",
    "                for l,r in [(ll,rr),(ll-1,rr),(ll,rr-1),(ll-1,rr-1)]:\n",
    "                    aa,cc,ee = np.sort([left,l,r])\n",
    "\n",
    "                    if cc-aa>0 and ee-cc>0:\n",
    "                        links = np.array([aa,aa+1,cc,cc+1,ee,ee+1])\n",
    "                        \n",
    "                        code,improvement = check(links,nodes,solution,prime_set,dist)\n",
    "                        \n",
    "                        if code>0:\n",
    "                            swaps += 1\n",
    "                            excute_swap(code,links,solution)\n",
    "                            dist = two_way_distance(nodes,solution,prime)\n",
    "                            print(links,code,improvement,p.score(solution))\n",
    "    iterend = time.time()\n",
    "    iterduation = iterend-iterstart\n",
    "    print('iteration %s end, swaps %s, time lapse %s'%(iteration,swaps,iterduation))\n",
    "    print('###############################')\n",
    "    iteration += 1\n",
    "print('done')"
   ]
  },
  {
   "cell_type": "code",
   "execution_count": 120,
   "metadata": {},
   "outputs": [],
   "source": [
    "mess = np.array([132901 ,132902, 132907, 132908,132909,132910])\n",
    "restore = np.array([132907,132908, 132908 ,132909, 132909, 132910])"
   ]
  },
  {
   "cell_type": "code",
   "execution_count": 127,
   "metadata": {},
   "outputs": [
    {
     "name": "stdout",
     "output_type": "stream",
     "text": [
      "[[ True  True  True]\n",
      " [ True  True False]\n",
      " [ True  True  True]\n",
      " [ True  True False]\n",
      " [ True  True  True]\n",
      " [ True  True  True]\n",
      " [ True False  True]\n",
      " [ True False  True]]\n",
      "[[132902 132908 132910]\n",
      " [132902 132908 132910]\n",
      " [132902 132908 132910]\n",
      " [132902 132908 132910]\n",
      " [132902 132904 132910]\n",
      " [132902 132904 132910]\n",
      " [132902 132904 132910]\n",
      " [132902 132904 132910]]\n",
      "[[ 0.   0.   0.1]\n",
      " [ 0.   0.   0. ]\n",
      " [ 0.   0.   0.1]\n",
      " [ 0.   0.   0. ]\n",
      " [ 0.   0.   0.1]\n",
      " [ 0.   0.   0.1]\n",
      " [ 0.   0.   0.1]\n",
      " [ 0.   0.   0.1]]\n"
     ]
    },
    {
     "data": {
      "text/plain": [
       "(0, 0.0)"
      ]
     },
     "execution_count": 127,
     "metadata": {},
     "output_type": "execute_result"
    }
   ],
   "source": [
    "check(mess,nodes,solution,prime_set,dist)"
   ]
  },
  {
   "cell_type": "code",
   "execution_count": 34,
   "metadata": {},
   "outputs": [
    {
     "data": {
      "text/plain": [
       "1516047.4102352227"
      ]
     },
     "execution_count": 34,
     "metadata": {},
     "output_type": "execute_result"
    }
   ],
   "source": [
    "p.score(solution)"
   ]
  },
  {
   "cell_type": "code",
   "execution_count": 45,
   "metadata": {},
   "outputs": [
    {
     "data": {
      "text/plain": [
       "33.572255944814401"
      ]
     },
     "execution_count": 45,
     "metadata": {},
     "output_type": "execute_result"
    }
   ],
   "source": [
    "score(nodes,solution,prime)[132907:132910].sum()"
   ]
  },
  {
   "cell_type": "code",
   "execution_count": null,
   "metadata": {
    "collapsed": true
   },
   "outputs": [],
   "source": []
  },
  {
   "cell_type": "code",
   "execution_count": null,
   "metadata": {
    "collapsed": true
   },
   "outputs": [],
   "source": []
  },
  {
   "cell_type": "code",
   "execution_count": 44,
   "metadata": {},
   "outputs": [
    {
     "data": {
      "text/plain": [
       "1516048.149900066"
      ]
     },
     "execution_count": 44,
     "metadata": {},
     "output_type": "execute_result"
    }
   ],
   "source": [
    "solution2 = solution.copy()\n",
    "left,target = 132908,132909\n",
    "solution2[left:target+1] = solution2[left:target+1][::-1]\n",
    "p.score(solution2)"
   ]
  }
 ],
 "metadata": {
  "kernelspec": {
   "display_name": "Python 3",
   "language": "python",
   "name": "python3"
  },
  "language_info": {
   "codemirror_mode": {
    "name": "ipython",
    "version": 3
   },
   "file_extension": ".py",
   "mimetype": "text/x-python",
   "name": "python",
   "nbconvert_exporter": "python",
   "pygments_lexer": "ipython3",
   "version": "3.6.3"
  }
 },
 "nbformat": 4,
 "nbformat_minor": 2
}
