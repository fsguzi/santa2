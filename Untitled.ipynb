{
 "cells": [
  {
   "cell_type": "code",
   "execution_count": 45,
   "metadata": {
    "collapsed": true
   },
   "outputs": [],
   "source": [
    "import numpy as np\n",
    "from itertools import permutations,product"
   ]
  },
  {
   "cell_type": "code",
   "execution_count": 178,
   "metadata": {
    "collapsed": true
   },
   "outputs": [],
   "source": [
    "import pandas as pd\n",
    "import numpy as np\n",
    "import matplotlib.pyplot as plt\n",
    "%matplotlib inline\n",
    "from sympy import sieve\n",
    "import time\n",
    "\n",
    "from common import *\n",
    "#from solver\n"
   ]
  },
  {
   "cell_type": "code",
   "execution_count": 180,
   "metadata": {
    "collapsed": false
   },
   "outputs": [],
   "source": [
    "p = problem(base_path='./solution/base3.csv')\n",
    "p.score(p.base,raw=False)\n",
    "\n",
    "solution = p.base\n",
    "nodes = p.nodes\n",
    "prime = p.prime\n",
    "prime_set = p.prime_set\n",
    "n = len(nodes)\n",
    "not_prime = np.logical_not(np.isin(solution,prime))"
   ]
  },
  {
   "cell_type": "code",
   "execution_count": 365,
   "metadata": {
    "collapsed": false
   },
   "outputs": [],
   "source": [
    "def generate(opt):\n",
    "    links = np.arange(opt*2)\n",
    "    r = (len(links)-2)//2 \n",
    "    first,last = links[[0,-1]]\n",
    "    pair = links[1:-1].reshape(r,2)\n",
    "    \n",
    "    permus = np.array(list(permutations(np.arange(r))))\n",
    "    prods = np.array(list(product([1,-1],repeat = r)))\n",
    "    \n",
    "    permus_n = len(permus)\n",
    "    prods_n = len(prods)\n",
    "    \n",
    "    \n",
    "    offset_idx_from_node = np.zeros((r,permus_n*2,r),dtype=int)\n",
    "    offset_idx_from_pos = np.zeros((r,permus_n*2),dtype=int)\n",
    "    which_middle_idx = np.zeros((r,permus_n*prods_n),dtype=int)\n",
    "    reconstruct = []\n",
    "    for i,permu in enumerate(permus):\n",
    "        \n",
    "        middle = pair[[permu]]\n",
    "        where = np.argsort(permu)\n",
    "        \n",
    "        for j,pro in enumerate(prods):\n",
    "            \n",
    "               \n",
    "            middle_ = middle.copy()\n",
    "            for k,flip in enumerate(pro):\n",
    "                \n",
    "                middle_[k] = middle_[k][::flip]\n",
    "                \n",
    "                actual_seg = permu[k]\n",
    "                if flip == 1:\n",
    "                    which_middle_idx[actual_seg,i*prods_n+j] = i\n",
    "                else:\n",
    "                    which_middle_idx[actual_seg,i*prods_n+j] = i+permus_n\n",
    "            row = np.concatenate([[first],middle_.ravel(),[last]])\n",
    "            reconstruct.append(row)\n",
    "            \n",
    "        for k in range(r):\n",
    "            actual_seg = permu[k]\n",
    "            before_current = permu[:k]\n",
    "\n",
    "            offset_idx_from_pos[actual_seg,i] = k+1\n",
    "            offset_idx_from_pos[actual_seg,i+permus_n] = k+1\n",
    "\n",
    "            offset_idx_from_node[actual_seg,i,[before_current]] = 1\n",
    "            offset_idx_from_node[actual_seg,i+permus_n,[before_current]] = 1\n",
    "                \n",
    "        \n",
    "    reconstruct = np.array(reconstruct)            \n",
    "    return reconstruct,permus,prods,which_middle_idx,offset_idx_from_node,offset_idx_from_pos"
   ]
  },
  {
   "cell_type": "code",
   "execution_count": 431,
   "metadata": {
    "collapsed": false,
    "scrolled": true
   },
   "outputs": [],
   "source": [
    "def which_one(links):\n",
    "    links_ = links[1:-1:2,np.newaxis]\n",
    "    reverse_pos = 197769 - links[2:-1:2,np.newaxis]\n",
    "    pair_step = links[2:-1:2] - links[1:-1:2]\n",
    "    \n",
    "    new_pos = (pair_step * offset_idx_from_node).sum(axis=-1) + offset_idx_from_pos + links[0]\n",
    "    new_pos[:,:num_permu] = (new_pos[:,:num_permu] - links_)%10\n",
    "    new_pos[:,num_permu:] = (new_pos[:,num_permu:] - reverse_pos)%10+10\n",
    "    return new_pos\n",
    "\n",
    "def connector_dist(connector,nodes):\n",
    "    return distance(nodes[connector[:,::2]],nodes[connector[:,1::2]])\n",
    "\n",
    "def segment_dist(which_offset,links,dist):\n",
    "    segs = links[1:-1].reshape(opt-1,2)\n",
    "    \n",
    "    segs_penalty = []\n",
    "    for a,b in segs:\n",
    "        seg_penalty = dist[:,a:b].sum(axis=-1)\n",
    "        \n",
    "        segs_penalty.append(seg_penalty)\n",
    "    segment = sum([segs_penalty[i][which_offset[i]][which_middle_idx[i]] for i in range(len(segs))])\n",
    "    \n",
    "    return segment\n",
    "\n",
    "\n",
    "def check(links,nodes,solution,prime_set,dist):\n",
    "    a,b,c,d,e,f = links\n",
    "     \n",
    "    links_node = a_,b_,c_,d_,e_,f_ = solution[links]\n",
    "    a_p = not a_ in prime_set\n",
    "    b_p = not b_ in prime_set\n",
    "    c_p = not c_ in prime_set\n",
    "    d_p = not e_ in prime_set\n",
    "    e_p = not e_ in prime_set\n",
    "    \n",
    "    a_ten = b%10==0\n",
    "    c_ten = d%10==0\n",
    "    e_ten = f%10==0\n",
    "    m_ten = (b+e-d+1)%10==0\n",
    "      \n",
    "    first = a_ten and a_p\n",
    "    mask = [[first, c_ten and c_p, e_ten and e_p],\n",
    "            [first, c_ten and c_p, e_ten and d_p],\n",
    "            [first, c_ten and b_p, e_ten and e_p],\n",
    "            [first, c_ten and b_p, e_ten and d_p],\n",
    "            [first, m_ten and e_p, e_ten and c_p],\n",
    "            [first, m_ten and e_p, e_ten and b_p],\n",
    "            [first, m_ten and d_p, e_ten and c_p],\n",
    "            [first, m_ten and d_p, e_ten and b_p]]\n",
    "    mask = np.array(mask)*0.1\n",
    "    \n",
    "    connector = links_node[reconstruct]\n",
    "\n",
    "    connector = connector_dist(connector,nodes)\n",
    "    connector = (connector+connector*mask).sum(axis=-1)\n",
    "    \n",
    "    which_offset = which_one(links)\n",
    "    segment = segment_dist(which_offset,links,dist)\n",
    "    \n",
    "    out = connector+segment\n",
    "    return np.argmin(out),out.min()-out[0]\n",
    "\n",
    "def excute_swap(code,links,solution):\n",
    "    permu = permus[code//num_prod]\n",
    "    prod = prods[code%num_prod]\n",
    "    segs = links[1:-1].reshape(opt-1,2).copy()\n",
    "    segs[:,1] += 1\n",
    "    \n",
    "    copies = []\n",
    "    for i in permu:\n",
    "        a,b = segs[i]\n",
    "        copies.append(solution[a:b].copy())\n",
    "    \n",
    "    solution[segs[0,0]:segs[-1,-1]] = np.concatenate([copies[i][::prod[i]] for i in range(len(segs))])\n",
    "    \n",
    "def two_way_distance(nodes,solution,prime):\n",
    "    s = nodes[solution[:-1]]\n",
    "    e = nodes[solution[1:]]\n",
    "    raw_d = distance(s,e)\n",
    "    rever_raw_d = raw_d[::-1]\n",
    "    \n",
    "    n = len(raw_d)\n",
    "    dist = np.zeros((20,n),dtype=float)\n",
    "    \n",
    "    notprime = np.logical_not(np.isin(solution,prime))\n",
    "    notprime_forward = notprime[:-1]\n",
    "    notprime_backward = notprime[-1:0:-1]\n",
    "    \n",
    "    for offset in range(10):\n",
    "        dist[offset,9-offset::10] += raw_d[9-offset::10] * notprime_forward [9-offset::10] * 0.1\n",
    "        dist[offset+10,9-offset::10] += (rever_raw_d[9-offset::10] * notprime_backward[9-offset::10] * 0.1)\n",
    "        dist[offset+10] = dist[offset+10][::-1]\n",
    "    \n",
    "    return dist"
   ]
  },
  {
   "cell_type": "code",
   "execution_count": 425,
   "metadata": {
    "collapsed": false
   },
   "outputs": [
    {
     "name": "stdout",
     "output_type": "stream",
     "text": [
      "78 78\n",
      "79 110\n"
     ]
    },
    {
     "data": {
      "text/plain": [
       "(4,\n",
       " -0.92529802278737,\n",
       " array([22.4379979 , 30.12995577, 22.4379979 , 30.12995577, 23.96090293,\n",
       "        23.96090293, 30.65639244, 30.65639244]),\n",
       " array([3.06779488, 1.53417471, 3.06779488, 1.53417471, 0.61959182,\n",
       "        0.61959182, 2.80727901, 2.80727901]))"
      ]
     },
     "execution_count": 425,
     "metadata": {},
     "output_type": "execute_result"
    }
   ],
   "source": [
    "p = problem(base_path='./solution/base3.csv')\n",
    "p.score(p.base,raw=False)\n",
    "\n",
    "solution = p.base.copy()\n",
    "nodes = p.nodes.copy()\n",
    "prime = p.prime.copy()\n",
    "prime_set = p.prime_set\n",
    "n = len(nodes)\n",
    "not_prime = np.logical_not(np.isin(solution,prime))\n",
    "\n",
    "opt = 3\n",
    "reconstruct,permus,prods,which_middle_idx,offset_idx_from_node,offset_idx_from_pos = generate(opt)\n",
    "num_permu = len(permus)\n",
    "num_prod = len(prods)\n",
    "\n",
    "aa,cc,ee = 77,78,110\n",
    "links = np.array([aa,aa+1,cc,cc+1,ee,ee+1])\n",
    "dist = two_way_distance(nodes,solution,prime)                   \n",
    "check(links,nodes,solution,prime_set,dist)"
   ]
  },
  {
   "cell_type": "code",
   "execution_count": 432,
   "metadata": {
    "collapsed": false,
    "scrolled": true
   },
   "outputs": [
    {
     "name": "stdout",
     "output_type": "stream",
     "text": [
      "iteration 1 start\n",
      "[ 77  78  78  79 110 111] 4 -0.92529802278737 1516561.9546860007\n",
      "[   230    231    233    234 197751 197752] 7 -7.180140354774267 1516554.7745456456\n",
      "[280 281 548 549 549 550] 4 -2.211911483581659 1516552.5626341621\n",
      "[370 371 407 408 408 409] 4 -0.00808006593028665 1516552.5545540962\n",
      "[676 677 679 680 685 686] 5 -0.3142380996443066 1516552.2403159966\n",
      "[  753   754   755   756 39706 39707] 1 -5.1711317401886845 1516547.0691842563\n",
      "[  766   767   892   893 39720 39721] 7 -1.806461664098606 1516545.2627225923\n",
      "[   755    756    780    781 197567 197568] 2 -7.331156265836398 1516537.9315663264\n"
     ]
    },
    {
     "ename": "KeyboardInterrupt",
     "evalue": "",
     "output_type": "error",
     "traceback": [
      "\u001b[1;31m---------------------------------------------------------------------------\u001b[0m",
      "\u001b[1;31mKeyboardInterrupt\u001b[0m                         Traceback (most recent call last)",
      "\u001b[1;32m<ipython-input-432-dd4a42b0654a>\u001b[0m in \u001b[0;36m<module>\u001b[1;34m()\u001b[0m\n\u001b[0;32m     32\u001b[0m \u001b[1;33m\u001b[0m\u001b[0m\n\u001b[0;32m     33\u001b[0m         \u001b[0mleft_d\u001b[0m \u001b[1;33m=\u001b[0m \u001b[0mright_d\u001b[0m\u001b[1;33m.\u001b[0m\u001b[0mcopy\u001b[0m\u001b[1;33m(\u001b[0m\u001b[1;33m)\u001b[0m\u001b[1;33m\u001b[0m\u001b[0m\n\u001b[1;32m---> 34\u001b[1;33m         \u001b[0mright_d\u001b[0m \u001b[1;33m=\u001b[0m \u001b[0mdistance\u001b[0m\u001b[1;33m(\u001b[0m\u001b[0mnodes\u001b[0m\u001b[1;33m[\u001b[0m\u001b[0mright_node\u001b[0m\u001b[1;33m]\u001b[0m\u001b[1;33m,\u001b[0m\u001b[0mnodes\u001b[0m\u001b[1;33m)\u001b[0m\u001b[1;33m\u001b[0m\u001b[0m\n\u001b[0m\u001b[0;32m     35\u001b[0m         \u001b[0mright_d\u001b[0m\u001b[1;33m[\u001b[0m\u001b[0mright_node\u001b[0m\u001b[1;33m]\u001b[0m \u001b[1;33m=\u001b[0m \u001b[1;36m99999\u001b[0m\u001b[1;33m\u001b[0m\u001b[0m\n\u001b[0;32m     36\u001b[0m \u001b[1;33m\u001b[0m\u001b[0m\n",
      "\u001b[1;32mE:\\data\\kaggle\\santa2\\common.py\u001b[0m in \u001b[0;36mdistance\u001b[1;34m(coor1, coor2)\u001b[0m\n\u001b[0;32m     25\u001b[0m \u001b[1;33m\u001b[0m\u001b[0m\n\u001b[0;32m     26\u001b[0m \u001b[1;32mdef\u001b[0m \u001b[0mdistance\u001b[0m\u001b[1;33m(\u001b[0m\u001b[0mcoor1\u001b[0m\u001b[1;33m,\u001b[0m\u001b[0mcoor2\u001b[0m\u001b[1;33m)\u001b[0m\u001b[1;33m:\u001b[0m\u001b[1;33m\u001b[0m\u001b[0m\n\u001b[1;32m---> 27\u001b[1;33m     \u001b[1;32mreturn\u001b[0m \u001b[0mnp\u001b[0m\u001b[1;33m.\u001b[0m\u001b[0msqrt\u001b[0m\u001b[1;33m(\u001b[0m\u001b[1;33m(\u001b[0m\u001b[1;33m(\u001b[0m\u001b[0mcoor1\u001b[0m\u001b[1;33m-\u001b[0m\u001b[0mcoor2\u001b[0m\u001b[1;33m)\u001b[0m\u001b[1;33m**\u001b[0m\u001b[1;36m2\u001b[0m\u001b[1;33m)\u001b[0m\u001b[1;33m.\u001b[0m\u001b[0msum\u001b[0m\u001b[1;33m(\u001b[0m\u001b[0maxis\u001b[0m\u001b[1;33m=\u001b[0m\u001b[1;33m-\u001b[0m\u001b[1;36m1\u001b[0m\u001b[1;33m)\u001b[0m\u001b[1;33m)\u001b[0m\u001b[1;33m\u001b[0m\u001b[0m\n\u001b[0m\u001b[0;32m     28\u001b[0m \u001b[1;33m\u001b[0m\u001b[0m\n\u001b[0;32m     29\u001b[0m \u001b[1;32mclass\u001b[0m \u001b[0mproblem\u001b[0m\u001b[1;33m:\u001b[0m\u001b[1;33m\u001b[0m\u001b[0m\n",
      "\u001b[1;32mC:\\ProgramData\\Anaconda3\\lib\\site-packages\\numpy\\core\\_methods.py\u001b[0m in \u001b[0;36m_sum\u001b[1;34m(a, axis, dtype, out, keepdims)\u001b[0m\n\u001b[0;32m     30\u001b[0m \u001b[1;33m\u001b[0m\u001b[0m\n\u001b[0;32m     31\u001b[0m \u001b[1;32mdef\u001b[0m \u001b[0m_sum\u001b[0m\u001b[1;33m(\u001b[0m\u001b[0ma\u001b[0m\u001b[1;33m,\u001b[0m \u001b[0maxis\u001b[0m\u001b[1;33m=\u001b[0m\u001b[1;32mNone\u001b[0m\u001b[1;33m,\u001b[0m \u001b[0mdtype\u001b[0m\u001b[1;33m=\u001b[0m\u001b[1;32mNone\u001b[0m\u001b[1;33m,\u001b[0m \u001b[0mout\u001b[0m\u001b[1;33m=\u001b[0m\u001b[1;32mNone\u001b[0m\u001b[1;33m,\u001b[0m \u001b[0mkeepdims\u001b[0m\u001b[1;33m=\u001b[0m\u001b[1;32mFalse\u001b[0m\u001b[1;33m)\u001b[0m\u001b[1;33m:\u001b[0m\u001b[1;33m\u001b[0m\u001b[0m\n\u001b[1;32m---> 32\u001b[1;33m     \u001b[1;32mreturn\u001b[0m \u001b[0mumr_sum\u001b[0m\u001b[1;33m(\u001b[0m\u001b[0ma\u001b[0m\u001b[1;33m,\u001b[0m \u001b[0maxis\u001b[0m\u001b[1;33m,\u001b[0m \u001b[0mdtype\u001b[0m\u001b[1;33m,\u001b[0m \u001b[0mout\u001b[0m\u001b[1;33m,\u001b[0m \u001b[0mkeepdims\u001b[0m\u001b[1;33m)\u001b[0m\u001b[1;33m\u001b[0m\u001b[0m\n\u001b[0m\u001b[0;32m     33\u001b[0m \u001b[1;33m\u001b[0m\u001b[0m\n\u001b[0;32m     34\u001b[0m \u001b[1;32mdef\u001b[0m \u001b[0m_prod\u001b[0m\u001b[1;33m(\u001b[0m\u001b[0ma\u001b[0m\u001b[1;33m,\u001b[0m \u001b[0maxis\u001b[0m\u001b[1;33m=\u001b[0m\u001b[1;32mNone\u001b[0m\u001b[1;33m,\u001b[0m \u001b[0mdtype\u001b[0m\u001b[1;33m=\u001b[0m\u001b[1;32mNone\u001b[0m\u001b[1;33m,\u001b[0m \u001b[0mout\u001b[0m\u001b[1;33m=\u001b[0m\u001b[1;32mNone\u001b[0m\u001b[1;33m,\u001b[0m \u001b[0mkeepdims\u001b[0m\u001b[1;33m=\u001b[0m\u001b[1;32mFalse\u001b[0m\u001b[1;33m)\u001b[0m\u001b[1;33m:\u001b[0m\u001b[1;33m\u001b[0m\u001b[0m\n",
      "\u001b[1;31mKeyboardInterrupt\u001b[0m: "
     ]
    }
   ],
   "source": [
    "p = problem(base_path='./solution/base3.csv')\n",
    "p.score(p.base,raw=False)\n",
    "\n",
    "solution = p.base.copy()\n",
    "nodes = p.nodes.copy()\n",
    "prime = p.prime.copy()\n",
    "prime_set = p.prime_set\n",
    "n = len(nodes)\n",
    "not_prime = np.logical_not(np.isin(solution,prime))\n",
    "\n",
    "opt = 3\n",
    "reconstruct,permus,prods,which_middle_idx,offset_idx_from_node,offset_idx_from_pos = generate(opt)\n",
    "num_permu = len(permus)\n",
    "num_prod = len(prods)\n",
    "a=time.time()\n",
    "\n",
    "dist = two_way_distance(nodes,solution,prime)\n",
    "swaps = 1\n",
    "iteration = 1\n",
    "while swaps>0:\n",
    "    swaps = 0\n",
    "    iterstart = time.time()\n",
    "    print('iteration %s start'%iteration)\n",
    "    right_d = distance(nodes[0],nodes)\n",
    "    right_d[0] = 99999\n",
    "\n",
    "    for left in range(n):\n",
    "        left_node,right_node = solution[left:left+2]\n",
    "        left_prime = not left_node in prime_set\n",
    "\n",
    "        current_d = distance(nodes[left_node], nodes[right_node])\n",
    "\n",
    "        left_d = right_d.copy()\n",
    "        right_d = distance(nodes[right_node],nodes)\n",
    "        right_d[right_node] = 99999\n",
    "\n",
    "        left_candidates = np.argwhere(left_d<current_d).ravel()\n",
    "        right_candidates = np.argwhere(right_d<current_d).ravel()\n",
    "\n",
    "        if len(left_candidates)==0 or len(right_candidates)==0:\n",
    "            continue\n",
    "        for node_l in left_candidates:\n",
    "\n",
    "            ll = np.argwhere(solution==node_l)[0,0]\n",
    "            for node_r in right_candidates:\n",
    "                rr = np.argwhere(solution==node_r)[0,0]\n",
    "\n",
    "                for l,r in [(ll,rr),(ll-1,rr),(ll,rr-1),(ll-1,rr-1)]:\n",
    "                    aa,cc,ee = np.sort([left,l,r])\n",
    "\n",
    "                    if cc-aa>0 and ee-cc>0:\n",
    "                        links = np.array([aa,aa+1,cc,cc+1,ee,ee+1])\n",
    "                        \n",
    "                        code,improvement = check(links,nodes,solution,prime_set,dist)\n",
    "                        \n",
    "                        if code>0:\n",
    "                            swaps += 1\n",
    "                            excute_swap(code,links,solution)\n",
    "                            dist = two_way_distance(nodes,solution,prime)\n",
    "                            print(links,code,improvement,p.score(solution))\n",
    "    iterend = time.time()\n",
    "    iterduation = iterend-iterstart\n",
    "    print('iteration %s end, swaps %s, time lapse %s'%(iteration,swaps,iterduation))\n",
    "    print('###############################')\n",
    "    iteration += 1\n",
    "print('done')"
   ]
  },
  {
   "cell_type": "code",
   "execution_count": 205,
   "metadata": {
    "collapsed": false
   },
   "outputs": [
    {
     "data": {
      "text/plain": [
       "(8, 6)"
      ]
     },
     "execution_count": 205,
     "metadata": {},
     "output_type": "execute_result"
    }
   ],
   "source": [
    "links[reconstruct].shape"
   ]
  },
  {
   "cell_type": "code",
   "execution_count": 345,
   "metadata": {
    "collapsed": false
   },
   "outputs": [
    {
     "data": {
      "text/plain": [
       "(0, 0.0)"
      ]
     },
     "execution_count": 345,
     "metadata": {},
     "output_type": "execute_result"
    }
   ],
   "source": [
    "check(links,nodes,solution,prime_set,dist)"
   ]
  },
  {
   "cell_type": "code",
   "execution_count": 207,
   "metadata": {
    "collapsed": false
   },
   "outputs": [],
   "source": [
    "q,w = check(links,nodes,solution,prime_set,dist)"
   ]
  },
  {
   "cell_type": "code",
   "execution_count": 217,
   "metadata": {
    "collapsed": false
   },
   "outputs": [],
   "source": [
    "links_node = a_,b_,c_,d_,e_,f_ = solution[links]\n",
    "pair_distance = distance(nodes[links_node[1:-1:2]],nodes[links_node[2:-1:2]])"
   ]
  }
 ],
 "metadata": {
  "kernelspec": {
   "display_name": "Python 3",
   "language": "python",
   "name": "python3"
  },
  "language_info": {
   "codemirror_mode": {
    "name": "ipython",
    "version": 3
   },
   "file_extension": ".py",
   "mimetype": "text/x-python",
   "name": "python",
   "nbconvert_exporter": "python",
   "pygments_lexer": "ipython3",
   "version": "3.6.0"
  }
 },
 "nbformat": 4,
 "nbformat_minor": 2
}
