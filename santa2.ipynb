{
 "cells": [
  {
   "cell_type": "code",
   "execution_count": 1,
   "metadata": {
    "collapsed": false
   },
   "outputs": [],
   "source": [
    "import pandas as pd\n",
    "import numpy as np\n",
    "import matplotlib.pyplot as plt\n",
    "%matplotlib inline\n",
    "from sympy import sieve\n",
    "import time\n",
    "\n",
    "from common import *\n",
    "#from solver"
   ]
  },
  {
   "cell_type": "code",
   "execution_count": 2,
   "metadata": {
    "collapsed": false
   },
   "outputs": [
    {
     "data": {
      "text/plain": [
       "1516562.8799840237"
      ]
     },
     "execution_count": 2,
     "metadata": {},
     "output_type": "execute_result"
    }
   ],
   "source": [
    "p = problem(base_path='./solution/base3.csv')\n",
    "p.score(p.base,raw=False)"
   ]
  },
  {
   "cell_type": "code",
   "execution_count": 23,
   "metadata": {
    "collapsed": true
   },
   "outputs": [
    {
     "name": "stdout",
     "output_type": "stream",
     "text": [
      "Start iteration 1\n",
      "a: 204 | saving: -2.115 | cumsave: -2.115\n",
      "a: 744 | saving: -1.165 | cumsave: -3.280\n",
      "a: 746 | saving: -4.001 | cumsave: -7.282\n",
      "a: 3691 | saving: -2.414 | cumsave: -9.696\n",
      "a: 3691 | saving: -15.142 | cumsave: -24.838\n",
      "a: 17745 | saving: -1.998 | cumsave: -26.836\n",
      "a: 17745 | saving: -1.330 | cumsave: -28.166\n",
      "a: 22864 | saving: -1.473 | cumsave: -29.639\n",
      "a: 28902 | saving: -0.073 | cumsave: -29.712\n",
      "a: 30774 | saving: -1.732 | cumsave: -31.444\n",
      "a: 30779 | saving: -0.182 | cumsave: -31.626\n",
      "a: 31006 | saving: -0.666 | cumsave: -32.291\n",
      "a: 37338 | saving: -0.130 | cumsave: -32.422\n",
      "a: 39860 | saving: -5.553 | cumsave: -37.975\n",
      "a: 39860 | saving: -5.238 | cumsave: -43.214\n",
      "a: 39876 | saving: -0.326 | cumsave: -43.540\n",
      "a: 39876 | saving: -2.336 | cumsave: -45.876\n",
      "a: 44011 | saving: -0.279 | cumsave: -46.155\n",
      "a: 48331 | saving: -4.292 | cumsave: -50.447\n",
      "a: 52487 | saving: -0.189 | cumsave: -50.636\n",
      "a: 52805 | saving: -0.683 | cumsave: -51.320\n",
      "a: 52807 | saving: -0.267 | cumsave: -51.587\n",
      "a: 53308 | saving: -0.162 | cumsave: -51.748\n",
      "a: 54111 | saving: -1.064 | cumsave: -52.813\n",
      "a: 57168 | saving: -0.040 | cumsave: -52.852\n",
      "a: 62178 | saving: -2.054 | cumsave: -54.906\n",
      "a: 64310 | saving: -0.054 | cumsave: -54.960\n",
      "a: 64311 | saving: -4.691 | cumsave: -59.652\n",
      "a: 66230 | saving: -3.197 | cumsave: -62.848\n",
      "a: 71180 | saving: -1.161 | cumsave: -64.010\n",
      "a: 74821 | saving: -0.298 | cumsave: -64.307\n",
      "a: 75420 | saving: -3.162 | cumsave: -67.469\n",
      "a: 83646 | saving: -0.383 | cumsave: -67.852\n",
      "a: 85289 | saving: -0.287 | cumsave: -68.139\n",
      "a: 90300 | saving: -0.150 | cumsave: -68.289\n",
      "a: 90470 | saving: -0.310 | cumsave: -68.599\n",
      "a: 92794 | saving: -0.301 | cumsave: -68.900\n",
      "a: 92795 | saving: -2.716 | cumsave: -71.616\n",
      "a: 93959 | saving: -0.606 | cumsave: -72.222\n",
      "a: 96542 | saving: -6.493 | cumsave: -78.716\n",
      "a: 96542 | saving: -14.171 | cumsave: -92.887\n",
      "a: 96542 | saving: -0.944 | cumsave: -93.831\n",
      "a: 97418 | saving: -0.304 | cumsave: -94.135\n",
      "a: 97542 | saving: -0.507 | cumsave: -94.643\n",
      "a: 97544 | saving: -1.031 | cumsave: -95.674\n",
      "a: 99071 | saving: -0.547 | cumsave: -96.222\n",
      "a: 99110 | saving: -0.056 | cumsave: -96.278\n",
      "a: 101607 | saving: -0.158 | cumsave: -96.436\n",
      "a: 101607 | saving: -0.910 | cumsave: -97.346\n",
      "a: 103241 | saving: -3.400 | cumsave: -100.746\n",
      "a: 103994 | saving: -0.186 | cumsave: -100.932\n",
      "a: 106016 | saving: -0.187 | cumsave: -101.118\n",
      "a: 106029 | saving: -1.713 | cumsave: -102.831\n",
      "a: 108425 | saving: -2.997 | cumsave: -105.828\n",
      "a: 110020 | saving: -1.738 | cumsave: -107.566\n",
      "a: 113763 | saving: -0.502 | cumsave: -108.068\n",
      "a: 115730 | saving: -0.386 | cumsave: -108.454\n",
      "a: 124171 | saving: -4.107 | cumsave: -112.561\n",
      "a: 125314 | saving: -0.402 | cumsave: -112.963\n",
      "a: 126938 | saving: -0.206 | cumsave: -113.169\n",
      "a: 126938 | saving: -3.336 | cumsave: -116.505\n",
      "a: 128882 | saving: -2.084 | cumsave: -118.589\n",
      "a: 128882 | saving: -5.079 | cumsave: -123.668\n",
      "a: 129195 | saving: -0.526 | cumsave: -124.194\n",
      "a: 137329 | saving: -1.898 | cumsave: -126.092\n",
      "a: 144573 | saving: -0.424 | cumsave: -126.516\n",
      "a: 145152 | saving: -1.520 | cumsave: -128.036\n",
      "a: 145152 | saving: -6.045 | cumsave: -134.081\n",
      "a: 150843 | saving: -0.831 | cumsave: -134.912\n",
      "a: 159042 | saving: -0.953 | cumsave: -135.865\n",
      "a: 159345 | saving: -0.407 | cumsave: -136.272\n",
      "a: 164578 | saving: -0.025 | cumsave: -136.297\n",
      "a: 176841 | saving: -3.513 | cumsave: -139.810\n",
      "a: 176944 | saving: -0.321 | cumsave: -140.131\n",
      "a: 177539 | saving: -1.683 | cumsave: -141.814\n",
      "a: 180147 | saving: -5.709 | cumsave: -147.523\n",
      "a: 180147 | saving: -1.316 | cumsave: -148.839\n",
      "a: 180314 | saving: -0.400 | cumsave: -149.239\n",
      "a: 184036 | saving: -0.454 | cumsave: -149.693\n",
      "a: 187786 | saving: -0.638 | cumsave: -150.332\n",
      "a: 191221 | saving: -0.776 | cumsave: -151.108\n",
      "a: 192516 | saving: -0.386 | cumsave: -151.493\n",
      "a: 192517 | saving: -0.159 | cumsave: -151.652\n",
      "a: 195407 | saving: -0.058 | cumsave: -151.711\n",
      "iter 1 done, total swap 84, saves -151.711, time 927.6\n",
      "1516411.16938371\n",
      "####################################\n",
      "Start iteration 2\n",
      "a: 742 | saving: -0.771 | cumsave: -0.771\n",
      "a: 744 | saving: -10.585 | cumsave: -11.356\n",
      "a: 28281 | saving: -0.463 | cumsave: -11.819\n",
      "a: 28488 | saving: -1.086 | cumsave: -12.904\n",
      "a: 29592 | saving: -1.071 | cumsave: -13.975\n",
      "a: 41065 | saving: -0.990 | cumsave: -14.965\n",
      "a: 64308 | saving: -0.781 | cumsave: -15.746\n",
      "a: 64310 | saving: -1.225 | cumsave: -16.971\n",
      "a: 74183 | saving: -0.903 | cumsave: -17.874\n",
      "a: 74491 | saving: -1.550 | cumsave: -19.424\n",
      "a: 97418 | saving: -3.068 | cumsave: -22.492\n",
      "a: 103993 | saving: -4.012 | cumsave: -26.504\n",
      "a: 105210 | saving: -1.171 | cumsave: -27.674\n",
      "a: 105761 | saving: -3.268 | cumsave: -30.942\n",
      "a: 112305 | saving: -0.119 | cumsave: -31.061\n",
      "a: 113016 | saving: -2.602 | cumsave: -33.663\n",
      "a: 128887 | saving: -6.663 | cumsave: -40.326\n",
      "a: 135910 | saving: -0.969 | cumsave: -41.295\n",
      "a: 138337 | saving: -0.426 | cumsave: -41.720\n",
      "a: 159042 | saving: -0.939 | cumsave: -42.659\n",
      "a: 176843 | saving: -3.787 | cumsave: -46.446\n",
      "a: 192516 | saving: -2.651 | cumsave: -49.097\n",
      "iter 2 done, total swap 22, saves -49.097, time 896.6\n",
      "1516362.07247706\n",
      "####################################\n",
      "Start iteration 3\n",
      "a: 742 | saving: -1.219 | cumsave: -1.219\n",
      "a: 744 | saving: -2.772 | cumsave: -3.991\n",
      "a: 64308 | saving: -0.569 | cumsave: -4.560\n",
      "a: 64309 | saving: -4.215 | cumsave: -8.775\n",
      "a: 137860 | saving: -1.210 | cumsave: -9.984\n",
      "iter 3 done, total swap 5, saves -9.984, time 857.5\n",
      "1516352.088310062\n",
      "####################################\n",
      "Start iteration 4\n",
      "iter 4 done, total swap 0, saves 0.000, time 924.1\n",
      "1516352.088310062\n",
      "####################################\n",
      "zero\n",
      "1516352.088310062\n"
     ]
    }
   ],
   "source": [
    "p.base = solution\n",
    "p.solve()"
   ]
  },
  {
   "cell_type": "code",
   "execution_count": 3,
   "metadata": {
    "collapsed": true
   },
   "outputs": [],
   "source": [
    "solution = p.base\n",
    "nodes = p.nodes\n",
    "prime = p.prime\n",
    "prime_set = p.prime_set\n",
    "n = len(nodes)\n",
    "not_prime = np.logical_not(np.isin(solution,prime))"
   ]
  },
  {
   "cell_type": "code",
   "execution_count": 4,
   "metadata": {
    "collapsed": false
   },
   "outputs": [
    {
     "name": "stdout",
     "output_type": "stream",
     "text": [
      "647.9612607955933\n"
     ]
    }
   ],
   "source": [
    "a = time.time()\n",
    "best = []\n",
    "for i,node in enumerate(nodes):\n",
    "    best_d = distance(node,nodes)\n",
    "    best_d[i] = 9999\n",
    "    best.append(best_d.min())\n",
    "print(time.time()-a)"
   ]
  },
  {
   "cell_type": "code",
   "execution_count": 627,
   "metadata": {
    "collapsed": false
   },
   "outputs": [
    {
     "name": "stdout",
     "output_type": "stream",
     "text": [
      "123087\n",
      "0.30493879318237305\n"
     ]
    }
   ],
   "source": [
    "a = time.time()\n",
    "good = 0\n",
    "goods = []\n",
    "dist = score(nodes,solution,prime,raw=True)\n",
    "for i in range(len(nodes)):\n",
    "    left_node = solution[i]\n",
    "    right_node = solution[i+1]\n",
    "    \n",
    "    link = dist[i]\n",
    "    left_best = best[left_node]\n",
    "    right_best = best[right_node]\n",
    "    \n",
    "    left_prime = left_node not in p.prime_set\n",
    "    is_ten = (i+1)%10 == 0\n",
    "    if left_prime and is_ten:\n",
    "        left_best = left_best*1.0\n",
    "    \n",
    "    is_good = link<=left_best or link<=right_best\n",
    "    if is_good:\n",
    "        good+=1\n",
    "    goods.append(is_good)\n",
    "print(good)\n",
    "print(time.time()-a)"
   ]
  },
  {
   "cell_type": "code",
   "execution_count": 628,
   "metadata": {
    "collapsed": false
   },
   "outputs": [],
   "source": [
    "bads = np.logical_not(np.array(goods))"
   ]
  },
  {
   "cell_type": "code",
   "execution_count": 629,
   "metadata": {
    "collapsed": false
   },
   "outputs": [
    {
     "name": "stdout",
     "output_type": "stream",
     "text": [
      "137.18729543685913\n"
     ]
    }
   ],
   "source": [
    "targets = np.argwhere(bads).ravel()\n",
    "\n",
    "a=time.time()\n",
    "candidates = []\n",
    "candidates_ = []\n",
    "for left in targets[0:10000]:\n",
    "    current_d = dist[left]\n",
    "    \n",
    "    right = left+1\n",
    "    left_node,right_node = solution[[left,right]]\n",
    "    \n",
    "    left_d = distance(nodes[left_node],nodes)\n",
    "    right_d = distance(nodes[right_node],nodes)\n",
    "    \n",
    "    left_n = (left_d<current_d).sum()-1\n",
    "    right_n = (right_d<current_d).sum()-1\n",
    "    \n",
    "    left_d[left_node] = 9999\n",
    "    right_d[right_node] = 9999\n",
    "    \n",
    "    left_room = np.argwhere(left_d<current_d).ravel()\n",
    "    right_room = np.argwhere(right_d<current_d).ravel()\n",
    "    candidates.append((left,left_room,right_room))\n",
    "    \n",
    "print(time.time()-a)\n",
    "\n",
    "real_candidates = []\n",
    "for current,left,right in candidates:  \n",
    "    left_pos = []\n",
    "    right_pos = []\n",
    "    for node in left:\n",
    "        \n",
    "        left_pos.append(np.argwhere(solution==node)[0,0]-1)\n",
    "    for node in right:\n",
    "        right_pos.append(np.argwhere(solution==node)[0,0]-1)\n",
    "    real_candidates.append((current,left_pos,right_pos))"
   ]
  },
  {
   "cell_type": "code",
   "execution_count": 56,
   "metadata": {
    "collapsed": true
   },
   "outputs": [],
   "source": [
    "def which_one(four_points):\n",
    "    b,c,d,e = four_points\n",
    "    first_reverse_pos = 197769-c\n",
    "    second_reverse_pos = 197769-e\n",
    "\n",
    "    first_switch_pos = b+e-d+1\n",
    "    \n",
    "    first_non_for_off = 0\n",
    "    first_swi_for_off = (first_switch_pos-b)%10\n",
    "    first_non_back_off = (b - first_reverse_pos)%10+10\n",
    "    first_swi_back_off = (first_switch_pos - first_reverse_pos)%10+10\n",
    "    \n",
    "    second_non_for_off = 0\n",
    "    second_swi_for_off = (b-d)%10\n",
    "    second_non_back_off = (d - second_reverse_pos)%10+10\n",
    "    second_swi_back_off = (b - second_reverse_pos)%10+10\n",
    "    \n",
    "    return [[first_non_for_off,first_swi_for_off,first_non_back_off,first_swi_back_off], \n",
    "            [second_non_for_off,second_swi_for_off,second_non_back_off,second_swi_back_off]]\n",
    "\n",
    "def connector_dist(row,nodes):\n",
    "    return distance(nodes[row[::2]],nodes[row[1::2]])\n",
    "\n",
    "def segment_dist(which_ones,four_points,dist):\n",
    "    which_1,which_2 = which_ones\n",
    "    b,c,d,e = four_points\n",
    "    \n",
    "    segment_1 = dist[which_1,b:c].sum(axis=-1)\n",
    "    segment_2 = dist[which_2,d:e].sum(axis=-1)\n",
    "    segment = segment_1[[0,0,2,2,3,1,1,3]] + segment_2[[0,2,0,2,1,1,3,3]] \n",
    "    \n",
    "    return segment\n",
    "\n",
    "\n",
    "def check(links,nodes,solution,prime_set,dist):\n",
    "    a,b = links[0],links[0]+1\n",
    "    c,d = links[1],links[1]+1\n",
    "    e,f = links[2],links[2]+1\n",
    "    \n",
    "    four_points = (b,c,d,e)\n",
    "    \n",
    "    a_,b_,c_,d_,e_,f_ = solution[[a,b,c,d,e,f]]\n",
    "    a_p = not a_ in prime_set\n",
    "    b_p = not b_ in prime_set\n",
    "    c_p = not c_ in prime_set\n",
    "    d_p = not e_ in prime_set\n",
    "    e_p = not e_ in prime_set\n",
    "    \n",
    "    a_ten = b%10==0\n",
    "    c_ten = d%10==0\n",
    "    e_ten = f%10==0\n",
    "    m_ten = (b+e-d+1)%10==0\n",
    "    \n",
    "    check = [[a_,b_,c_,d_,e_,f_],\n",
    "             [a_,b_,c_,e_,d_,f_],\n",
    "             [a_,c_,b_,d_,e_,f_],\n",
    "             [a_,c_,b_,e_,d_,f_],\n",
    "             [a_,d_,e_,c_,b_,f_],\n",
    "             [a_,d_,e_,b_,c_,f_],\n",
    "             [a_,e_,d_,b_,c_,f_],\n",
    "             [a_,e_,d_,c_,b_,f_]]   \n",
    "    first = a_ten and a_p\n",
    "    mask = [[first, c_ten and c_p, e_ten and e_p],\n",
    "            [first, c_ten and c_p, e_ten and d_p],\n",
    "            [first, c_ten and b_p, e_ten and e_p],\n",
    "            [first, c_ten and b_p, e_ten and d_p],\n",
    "            [first, m_ten and e_p, e_ten and b_p],\n",
    "            [first, m_ten and e_p, e_ten and c_p],\n",
    "            [first, m_ten and d_p, e_ten and c_p],\n",
    "            [first, m_ten and d_p, e_ten and b_p]]\n",
    "    mask = np.array(mask)*0.1\n",
    "    connector = []\n",
    "    for row in check:\n",
    "        connector.append(connector_dist(row,nodes))\n",
    "    connector = np.array(connector)\n",
    "    connector = (connector+connector*mask).sum(axis=-1)\n",
    "    \n",
    "    which_ones = which_one(four_points)\n",
    "    segment = segment_dist(which_ones,four_points,dist)\n",
    "    \n",
    "    out = connector+segment\n",
    "    return np.argmin(out),out.min()-out[0]\n",
    "\n",
    "def excute_swap(code,three_points,solution):\n",
    "    b,d,f = three_points\n",
    "    first = solution[b:d].copy()\n",
    "    second = solution[d:f].copy()\n",
    "    \n",
    "    if code == 1:\n",
    "        solution[b:f] = np.concatenate([first,second[::-1]])\n",
    "        return\n",
    "    elif code == 2:\n",
    "        solution[b:f] = np.concatenate([first[::-1],second])\n",
    "        return\n",
    "    elif code == 3:\n",
    "        solution[b:f] = np.concatenate([first[::-1],second[::-1]])\n",
    "        return\n",
    "    elif code == 4:\n",
    "        solution[b:f] = np.concatenate([second,first[::-1]])\n",
    "        return\n",
    "    elif code == 5:\n",
    "        solution[b:f] = np.concatenate([second,first])\n",
    "        return\n",
    "    elif code == 6:\n",
    "        solution[b:f] = np.concatenate([second[::-1],first])\n",
    "        return\n",
    "    elif code == 7:\n",
    "        solution[b:f] = np.concatenate([second[::-1],first[::-1]])\n",
    "        return\n",
    "    \n",
    "def two_way_distance(nodes,solution,prime):\n",
    "    s = nodes[solution[:-1]]\n",
    "    e = nodes[solution[1:]]\n",
    "    raw_d = distance(s,e)\n",
    "    rever_raw_d = raw_d[::-1]\n",
    "    \n",
    "    n = len(raw_d)\n",
    "    dist = np.zeros((20,n),dtype=float)\n",
    "    \n",
    "    notprime = np.logical_not(np.isin(solution,prime))\n",
    "    notprime_forward = notprime[:-1]\n",
    "    notprime_backward = notprime[-1:0:-1]\n",
    "    \n",
    "    for offset in range(10):\n",
    "        dist[offset,9-offset::10] += raw_d[9-offset::10] * notprime_forward [9-offset::10] * 0.1\n",
    "        dist[offset+10,9-offset::10] += (rever_raw_d[9-offset::10] * notprime_backward[9-offset::10] * 0.1)\n",
    "        dist[offset+10] = dist[offset+10][::-1]\n",
    "    \n",
    "    return dist"
   ]
  },
  {
   "cell_type": "code",
   "execution_count": 57,
   "metadata": {
    "collapsed": false
   },
   "outputs": [
    {
     "data": {
      "text/plain": [
       "(4, -0.92529802278737)"
      ]
     },
     "execution_count": 57,
     "metadata": {},
     "output_type": "execute_result"
    }
   ],
   "source": [
    "p = problem(base_path='./solution/base3.csv')\n",
    "solution = p.base.copy()\n",
    "nodes = p.nodes.copy()\n",
    "prime = p.prime.copy()\n",
    "prime_set = p.prime_set\n",
    "n = len(nodes)\n",
    "not_prime = np.logical_not(np.isin(solution,prime))\n",
    "\n",
    "links = (77,78,110)\n",
    "dist = two_way_distance(nodes,solution,prime)                    \n",
    "check(links,nodes,solution,prime_set,dist)"
   ]
  },
  {
   "cell_type": "code",
   "execution_count": 48,
   "metadata": {
    "collapsed": false
   },
   "outputs": [
    {
     "data": {
      "text/plain": [
       "[[0, 2, 17, 19], [0, 9, 10, 19]]"
      ]
     },
     "execution_count": 48,
     "metadata": {},
     "output_type": "execute_result"
    }
   ],
   "source": [
    "which_one((78,78,79,110))"
   ]
  },
  {
   "cell_type": "code",
   "execution_count": 58,
   "metadata": {
    "collapsed": false,
    "scrolled": true
   },
   "outputs": [
    {
     "name": "stdout",
     "output_type": "stream",
     "text": [
      "iteration 1 start\n",
      "77 78 110 4 -0.92529802278737 1516561.9546860007\n",
      "230 233 197751 7 -7.180140354774267 1516554.7745456456\n",
      "280 548 549 5 -2.211911483581659 1516552.5626341621\n",
      "370 407 408 5 -0.00808006593028665 1516552.5545540962\n",
      "676 679 685 4 -0.3142380996443066 1516552.2403159966\n"
     ]
    },
    {
     "ename": "KeyboardInterrupt",
     "evalue": "",
     "output_type": "error",
     "traceback": [
      "\u001b[1;31m---------------------------------------------------------------------------\u001b[0m",
      "\u001b[1;31mKeyboardInterrupt\u001b[0m                         Traceback (most recent call last)",
      "\u001b[1;32m<ipython-input-58-3393b00f125e>\u001b[0m in \u001b[0;36m<module>\u001b[1;34m()\u001b[0m\n\u001b[0;32m     37\u001b[0m                     \u001b[1;32mif\u001b[0m \u001b[0mc\u001b[0m\u001b[1;33m-\u001b[0m\u001b[0ma\u001b[0m\u001b[1;33m>\u001b[0m\u001b[1;36m0\u001b[0m \u001b[1;32mand\u001b[0m \u001b[0me\u001b[0m\u001b[1;33m-\u001b[0m\u001b[0mc\u001b[0m\u001b[1;33m>\u001b[0m\u001b[1;36m0\u001b[0m\u001b[1;33m:\u001b[0m\u001b[1;33m\u001b[0m\u001b[0m\n\u001b[0;32m     38\u001b[0m                         \u001b[1;31m#num+=1\u001b[0m\u001b[1;33m\u001b[0m\u001b[1;33m\u001b[0m\u001b[0m\n\u001b[1;32m---> 39\u001b[1;33m                         \u001b[0mcode\u001b[0m\u001b[1;33m,\u001b[0m\u001b[0mimprovement\u001b[0m \u001b[1;33m=\u001b[0m \u001b[0mcheck\u001b[0m\u001b[1;33m(\u001b[0m\u001b[1;33m(\u001b[0m\u001b[0ma\u001b[0m\u001b[1;33m,\u001b[0m\u001b[0mc\u001b[0m\u001b[1;33m,\u001b[0m\u001b[0me\u001b[0m\u001b[1;33m)\u001b[0m\u001b[1;33m,\u001b[0m\u001b[0mnodes\u001b[0m\u001b[1;33m,\u001b[0m\u001b[0msolution\u001b[0m\u001b[1;33m,\u001b[0m\u001b[0mprime_set\u001b[0m\u001b[1;33m,\u001b[0m\u001b[0mdist\u001b[0m\u001b[1;33m)\u001b[0m\u001b[1;33m\u001b[0m\u001b[0m\n\u001b[0m\u001b[0;32m     40\u001b[0m                         \u001b[1;32mif\u001b[0m \u001b[0mcode\u001b[0m\u001b[1;33m>\u001b[0m\u001b[1;36m0\u001b[0m\u001b[1;33m:\u001b[0m\u001b[1;33m\u001b[0m\u001b[0m\n\u001b[0;32m     41\u001b[0m                             \u001b[0mswaps\u001b[0m \u001b[1;33m+=\u001b[0m \u001b[1;36m1\u001b[0m\u001b[1;33m\u001b[0m\u001b[0m\n",
      "\u001b[1;32m<ipython-input-56-d52ecfd900da>\u001b[0m in \u001b[0;36mcheck\u001b[1;34m(links, nodes, solution, prime_set, dist)\u001b[0m\n\u001b[0;32m     77\u001b[0m \u001b[1;33m\u001b[0m\u001b[0m\n\u001b[0;32m     78\u001b[0m     \u001b[0mwhich_ones\u001b[0m \u001b[1;33m=\u001b[0m \u001b[0mwhich_one\u001b[0m\u001b[1;33m(\u001b[0m\u001b[0mfour_points\u001b[0m\u001b[1;33m)\u001b[0m\u001b[1;33m\u001b[0m\u001b[0m\n\u001b[1;32m---> 79\u001b[1;33m     \u001b[0msegment\u001b[0m \u001b[1;33m=\u001b[0m \u001b[0msegment_dist\u001b[0m\u001b[1;33m(\u001b[0m\u001b[0mwhich_ones\u001b[0m\u001b[1;33m,\u001b[0m\u001b[0mfour_points\u001b[0m\u001b[1;33m,\u001b[0m\u001b[0mdist\u001b[0m\u001b[1;33m)\u001b[0m\u001b[1;33m\u001b[0m\u001b[0m\n\u001b[0m\u001b[0;32m     80\u001b[0m \u001b[1;33m\u001b[0m\u001b[0m\n\u001b[0;32m     81\u001b[0m     \u001b[0mout\u001b[0m \u001b[1;33m=\u001b[0m \u001b[0mconnector\u001b[0m\u001b[1;33m+\u001b[0m\u001b[0msegment\u001b[0m\u001b[1;33m\u001b[0m\u001b[0m\n",
      "\u001b[1;32m<ipython-input-56-d52ecfd900da>\u001b[0m in \u001b[0;36msegment_dist\u001b[1;34m(which_ones, four_points, dist)\u001b[0m\n\u001b[0;32m     27\u001b[0m \u001b[1;33m\u001b[0m\u001b[0m\n\u001b[0;32m     28\u001b[0m     \u001b[0msegment_1\u001b[0m \u001b[1;33m=\u001b[0m \u001b[0mdist\u001b[0m\u001b[1;33m[\u001b[0m\u001b[0mwhich_1\u001b[0m\u001b[1;33m,\u001b[0m\u001b[0mb\u001b[0m\u001b[1;33m:\u001b[0m\u001b[0mc\u001b[0m\u001b[1;33m]\u001b[0m\u001b[1;33m.\u001b[0m\u001b[0msum\u001b[0m\u001b[1;33m(\u001b[0m\u001b[0maxis\u001b[0m\u001b[1;33m=\u001b[0m\u001b[1;33m-\u001b[0m\u001b[1;36m1\u001b[0m\u001b[1;33m)\u001b[0m\u001b[1;33m\u001b[0m\u001b[0m\n\u001b[1;32m---> 29\u001b[1;33m     \u001b[0msegment_2\u001b[0m \u001b[1;33m=\u001b[0m \u001b[0mdist\u001b[0m\u001b[1;33m[\u001b[0m\u001b[0mwhich_2\u001b[0m\u001b[1;33m,\u001b[0m\u001b[0md\u001b[0m\u001b[1;33m:\u001b[0m\u001b[0me\u001b[0m\u001b[1;33m]\u001b[0m\u001b[1;33m.\u001b[0m\u001b[0msum\u001b[0m\u001b[1;33m(\u001b[0m\u001b[0maxis\u001b[0m\u001b[1;33m=\u001b[0m\u001b[1;33m-\u001b[0m\u001b[1;36m1\u001b[0m\u001b[1;33m)\u001b[0m\u001b[1;33m\u001b[0m\u001b[0m\n\u001b[0m\u001b[0;32m     30\u001b[0m     \u001b[0msegment\u001b[0m \u001b[1;33m=\u001b[0m \u001b[0msegment_1\u001b[0m\u001b[1;33m[\u001b[0m\u001b[1;33m[\u001b[0m\u001b[1;36m0\u001b[0m\u001b[1;33m,\u001b[0m\u001b[1;36m0\u001b[0m\u001b[1;33m,\u001b[0m\u001b[1;36m2\u001b[0m\u001b[1;33m,\u001b[0m\u001b[1;36m2\u001b[0m\u001b[1;33m,\u001b[0m\u001b[1;36m3\u001b[0m\u001b[1;33m,\u001b[0m\u001b[1;36m1\u001b[0m\u001b[1;33m,\u001b[0m\u001b[1;36m1\u001b[0m\u001b[1;33m,\u001b[0m\u001b[1;36m3\u001b[0m\u001b[1;33m]\u001b[0m\u001b[1;33m]\u001b[0m \u001b[1;33m+\u001b[0m \u001b[0msegment_2\u001b[0m\u001b[1;33m[\u001b[0m\u001b[1;33m[\u001b[0m\u001b[1;36m0\u001b[0m\u001b[1;33m,\u001b[0m\u001b[1;36m2\u001b[0m\u001b[1;33m,\u001b[0m\u001b[1;36m0\u001b[0m\u001b[1;33m,\u001b[0m\u001b[1;36m2\u001b[0m\u001b[1;33m,\u001b[0m\u001b[1;36m1\u001b[0m\u001b[1;33m,\u001b[0m\u001b[1;36m1\u001b[0m\u001b[1;33m,\u001b[0m\u001b[1;36m3\u001b[0m\u001b[1;33m,\u001b[0m\u001b[1;36m3\u001b[0m\u001b[1;33m]\u001b[0m\u001b[1;33m]\u001b[0m\u001b[1;33m\u001b[0m\u001b[0m\n\u001b[0;32m     31\u001b[0m \u001b[1;33m\u001b[0m\u001b[0m\n",
      "\u001b[1;31mKeyboardInterrupt\u001b[0m: "
     ]
    }
   ],
   "source": [
    "a=time.time()\n",
    "\n",
    "dist = two_way_distance(nodes,solution,prime)\n",
    "swaps = 1\n",
    "iteration = 1\n",
    "while swaps>0:\n",
    "    swaps = 0\n",
    "    iterstart = time.time()\n",
    "    print('iteration %s start'%iteration)\n",
    "    right_d = distance(nodes[0],nodes)\n",
    "    right_d[0] = 99999\n",
    "\n",
    "    for left in range(n):\n",
    "        left_node,right_node = solution[left:left+2]\n",
    "        left_prime = not left_node in prime_set\n",
    "\n",
    "        current_d = distance(nodes[left_node], nodes[right_node])\n",
    "\n",
    "        left_d = right_d.copy()\n",
    "        right_d = distance(nodes[right_node],nodes)\n",
    "        right_d[right_node] = 99999\n",
    "\n",
    "        left_candidates = np.argwhere(left_d<current_d).ravel()\n",
    "        right_candidates = np.argwhere(right_d<current_d).ravel()\n",
    "\n",
    "        if len(left_candidates)==0 or len(right_candidates)==0:\n",
    "            continue\n",
    "        for node_l in left_candidates:\n",
    "\n",
    "            ll = np.argwhere(solution==node_l)[0,0]\n",
    "            for node_r in right_candidates:\n",
    "                rr = np.argwhere(solution==node_r)[0,0]\n",
    "\n",
    "                for l,r in [(ll,rr),(ll-1,rr),(ll,rr-1),(ll-1,rr-1)]:\n",
    "                    a,c,e = np.sort([left,l,r])\n",
    "\n",
    "                    if c-a>0 and e-c>0:\n",
    "                        #num+=1\n",
    "                        code,improvement = check((a,c,e),nodes,solution,prime_set,dist)\n",
    "                        if code>0:\n",
    "                            swaps += 1\n",
    "                            excute_swap(code,(a+1,c+1,e+1),solution)\n",
    "                            dist = two_way_distance(nodes,solution,prime)\n",
    "                            print(a,c,e,code,improvement,p.score(solution))\n",
    "    iterend = time.time()\n",
    "    iterduation = iterend-iterstart\n",
    "    print('iteration %s end, swaps %s, time lapse %s'%(iteration,swaps,iterduation))\n",
    "    print('###############################')\n",
    "    iteration += 1\n",
    "print('done')"
   ]
  },
  {
   "cell_type": "code",
   "execution_count": 672,
   "metadata": {
    "collapsed": false
   },
   "outputs": [
    {
     "data": {
      "text/plain": [
       "(197769,)"
      ]
     },
     "execution_count": 672,
     "metadata": {},
     "output_type": "execute_result"
    }
   ],
   "source": [
    "np.unique(solution).shape"
   ]
  },
  {
   "cell_type": "code",
   "execution_count": 664,
   "metadata": {
    "collapsed": false
   },
   "outputs": [
    {
     "data": {
      "text/plain": [
       "61.21322924710441"
      ]
     },
     "execution_count": 664,
     "metadata": {},
     "output_type": "execute_result"
    }
   ],
   "source": [
    "190000**2/num/200"
   ]
  },
  {
   "cell_type": "code",
   "execution_count": 639,
   "metadata": {
    "collapsed": false,
    "scrolled": true
   },
   "outputs": [],
   "source": [
    "num = 0\n",
    "dist = two_way_distance(nodes,solution,prime)\n",
    "for current,left,right in real_candidates[:10000]:\n",
    "    for l in left:\n",
    "        for r in right:\n",
    "            a,c,e = np.sort([current,l,r])\n",
    "            \n",
    "            if c-a>=2 and e-c>=2:\n",
    "                num+=1\n",
    "                code,improvement = check((a,c,e),nodes,solution,prime_set,dist)\n",
    "                if code>0:\n",
    "                    excute_swap(code,(a+1,c+1,e+1),solution)\n",
    "                    dist = two_way_distance(nodes,solution,prime)\n",
    "                    print(a,c,e,code,improvement,p.score(solution))"
   ]
  },
  {
   "cell_type": "code",
   "execution_count": 427,
   "metadata": {
    "collapsed": false
   },
   "outputs": [
    {
     "data": {
      "text/plain": [
       "0.0"
      ]
     },
     "execution_count": 427,
     "metadata": {},
     "output_type": "execute_result"
    }
   ],
   "source": [
    "p.score(solution)-1516562.8799840237"
   ]
  },
  {
   "cell_type": "markdown",
   "metadata": {},
   "source": [
    "# UTILITY"
   ]
  },
  {
   "cell_type": "code",
   "execution_count": 41,
   "metadata": {
    "collapsed": false
   },
   "outputs": [],
   "source": [
    "#write result\n",
    "pd.DataFrame({'Path':solution}).to_csv('./solution/base3.csv',index=False)"
   ]
  },
  {
   "cell_type": "code",
   "execution_count": 39,
   "metadata": {
    "collapsed": false
   },
   "outputs": [],
   "source": [
    "#read LKH result into solution\n",
    "f = open('./solver/tour_alpha_10.txt','r')\n",
    "line = 1\n",
    "content = '123'\n",
    "sol = []\n",
    "while content != '':\n",
    "    content = f.readline()\n",
    "    if line >=7:\n",
    "        \n",
    "        sol.append(content)\n",
    "    line+=1\n",
    "f.close()\n",
    "\n",
    "sol = sol[:-2]\n",
    "sol = [int(line.split('\\n')[0]) for line in sol]\n",
    "sol[-1] = 1\n",
    "solution = np.array(sol)\n",
    "solution-=1"
   ]
  },
  {
   "cell_type": "code",
   "execution_count": null,
   "metadata": {
    "collapsed": false
   },
   "outputs": [],
   "source": [
    "n=p.n\n",
    "nodes = p.nodes"
   ]
  },
  {
   "cell_type": "code",
   "execution_count": null,
   "metadata": {
    "collapsed": false
   },
   "outputs": [],
   "source": [
    "#make .tsp problem\n",
    "fname =  './problem/santa_.tsp'\n",
    "with open(fname, 'w') as f:\n",
    "    f.write('NAME : santa\\n')\n",
    "    f.write('COMMENT : santa\\n')\n",
    "    f.write('TYPE : TSP\\n')\n",
    "    f.write('DIMENSION : %d\\n' % n)\n",
    "    f.write('EDGE_WEIGHT_TYPE : EUC_2D\\n')\n",
    "    f.write('NODE_COORD_SECTION\\n')\n",
    "    for idx,node in enumerate(nodes):\n",
    "        x,y=node*1000\n",
    "        x = int(x)\n",
    "        y=int(y)\n",
    "        f.write('%s %s %s\\n' % (idx+1,x,y))\n",
    "    f.write('EOF\\n')"
   ]
  },
  {
   "cell_type": "code",
   "execution_count": null,
   "metadata": {
    "collapsed": true
   },
   "outputs": [],
   "source": [
    "#read neos html\n",
    "fname = path + 'solution/neos2.html'\n",
    "l = 1\n",
    "sol = []\n",
    "with open(fname, 'r') as f:\n",
    "    while l< 207274:\n",
    "        line = f.readline()\n",
    "        if l>=9505:\n",
    "            sol.append(int(line.split(' ')[0]))\n",
    "        l += 1\n",
    "sol.append(0)\n",
    "solution = np.array(sol)"
   ]
  },
  {
   "cell_type": "code",
   "execution_count": null,
   "metadata": {
    "collapsed": false
   },
   "outputs": [],
   "source": [
    "#2-opt manual check calcucation\n",
    "a,d = 185337,186129 \n",
    "a_pre,d_nex = a-1,d+1\n",
    "\n",
    "node_a,node_d,node_a_pre,node_d_nex = solution[[a,d,a_pre,d_nex]]\n",
    "old = score(solution)[a_pre:d_nex].sum()\n",
    "\n",
    "to_d  = distance(nodes[node_a_pre],nodes[node_d])\n",
    "from_a = distance(nodes[node_a],nodes[node_d_nex])\n",
    "check = (d+1)%10 ==0 and node_a not in prime\n",
    "print(check)\n",
    "if check:\n",
    "    from_a*=1.1\n",
    "\n",
    "partial = solution[185337:186129+1][::-1]\n",
    "total = score(partial,offset = a%10).sum()"
   ]
  },
  {
   "cell_type": "code",
   "execution_count": null,
   "metadata": {
    "collapsed": false
   },
   "outputs": [],
   "source": [
    "#2-opt functions\n",
    "def calc_reverse(left, nodes, solution):\n",
    "    r_solution = solution[left:-1][::-1]\n",
    "    reverse_dist = []\n",
    "    for offset in range(10):\n",
    "        reverse_dist.append(np.cumsum(score(nodes,r_solution,offset)[::-1])[::-1])\n",
    "    reverse_dist = np.array(reverse_dist)\n",
    "    \n",
    "    return reverse_dist\n",
    "\n",
    "def calc_old_dist(nodes, solution, from_node):\n",
    "    offset = from_node%10\n",
    "    return np.cumsum(score(nodes,solution[from_node:],offset=offset))\n",
    "\n",
    "def calc_middle(reverse_dist, left):\n",
    "    middle = np.zeros(shape=(reverse_dist.shape[1]))\n",
    "    offset = left%10\n",
    "    \n",
    "    for o in range(10):\n",
    "        order = (offset-o)%10\n",
    "        using_reverse = reverse_dist[order]\n",
    "        middle[o::10] = using_reverse[o::10]\n",
    "    \n",
    "    reverse_dist[:,:-1] -= reverse_dist[:,-1:]\n",
    "    reverse_dist = reverse_dist[:,:-1]\n",
    "    return middle[::-1], reverse_dist\n",
    "\n",
    "def calc_connector(nodes, solution_nodes, roller, left, node_before_a, node_a, prime_set):\n",
    "    to_d = roller[:-1].copy()\n",
    "    offset = left%10\n",
    "    if node_before_a not in prime_set and offset == 0:\n",
    "        to_d *= 1.1\n",
    "        \n",
    "    roller = distance(nodes[node_a],solution_nodes[left+2:])\n",
    "    if node_a in prime_set:\n",
    "        return to_d, roller, roller  \n",
    "    else:\n",
    "        start_leg = (10-left+2)%10\n",
    "        from_a = roller.copy()\n",
    "        from_a[start_leg::10] *= 1.1\n",
    "        return to_d, from_a, roller\n",
    "    \n",
    "def calc_save(from_a,to_d,middle,old_dist):\n",
    "    save = from_a+to_d-old_dist[2:]+middle\n",
    "    old_dist[1:] -= old_dist[0]\n",
    "    old_dist = old_dist[1:]\n",
    "    \n",
    "    place = np.argmin(save)\n",
    "    saving = save[place]\n",
    "    return place, saving, old_dist\n",
    "\n",
    "def calc_basis(start_at, nodes, solution, solution_nodes):\n",
    "    reverse_dist = calc_reverse(start_at, nodes, solution)\n",
    "    old_dist = calc_old_dist(nodes, solution,from_node=start_at-1)\n",
    "    roller = distance(nodes[solution[start_at-1]],solution_nodes[start_at-1+2:])\n",
    "    \n",
    "    return reverse_dist, old_dist, roller\n",
    "\n",
    "def excute_swap(left,place,solution,solution_nodes):\n",
    "    target = place+1+left\n",
    "    \n",
    "    solution[left:target+1] = solution[target:left-1:-1]\n",
    "    solution_nodes[left:target+1] = solution_nodes[target:left-1:-1]\n",
    "    "
   ]
  },
  {
   "cell_type": "code",
   "execution_count": null,
   "metadata": {
    "collapsed": true
   },
   "outputs": [],
   "source": [
    "bests = []\n",
    "dids = []\n",
    "\n",
    "asd = nodes[solution]\n",
    "df = pd.DataFrame(asd)\n",
    "df.to_csv('asd.csv')\n",
    "solution_nodes = pd.read_csv('asd.csv').iloc[:,1:].values\n",
    "\n",
    "start = time.time()\n",
    "\n",
    "i=1\n",
    "iter_num = 5\n",
    "start_at = 1\n",
    "run_through = 2000\n",
    "\n",
    "fast = \n",
    "\n",
    "while i <= iter_num:\n",
    "    iter_start = time.time()\n",
    "    best = []\n",
    "    did = 0\n",
    "    \n",
    "    reverse_dist, old_dist, roller = calc_basis(start_at, nodes, solution, solution_nodes)\n",
    "\n",
    "    for left in range(start_at, run_through):\n",
    "        node_before_a, node_a = solution[left-1:left+1]\n",
    "\n",
    "        middle, reverse_dist = calc_middle(reverse_dist, left)\n",
    "\n",
    "        to_d, from_a, roller =  calc_connector(nodes, solution_nodes, roller, left, node_before_a, node_a, prime_set)\n",
    "\n",
    "        place, saving, old_dist = calc_save(from_a,to_d,middle,old_dist)\n",
    "        \n",
    "        if saving<0:\n",
    "            \n",
    "            best.append(saving)\n",
    "            did += saving\n",
    "            target = place+1+left\n",
    "            \n",
    "            #execute swap\n",
    "            excute_swap(left,place,solution,solution_nodes)\n",
    "            print('a: %s | saving: %.3f | cumsave: %.3f'%(left, saving, did))\n",
    "            \n",
    "            #reset infos\n",
    "            reverse_dist, old_dist, roller = calc_basis(left+1, nodes, solution, solution_nodes)\n",
    "\n",
    "    #pd.DataFrame({'Path':solution}).to_csv('./solution/neos_iter_%s.csv'%(i+1),index=False)\n",
    "    bests.append(best)\n",
    "    dids.append(did)\n",
    "    print('iter %s done, total swap %s, saves %.3f, time %.1f'%(i,len(best),did,time.time()-iter_start))\n",
    "    print(score(nodes,solution).sum())\n",
    "    print('####################################')\n",
    "    i+=1\n",
    "    if len(best) == 0:\n",
    "        print('zero')\n",
    "        break\n",
    "print(time.time()-start)"
   ]
  },
  {
   "cell_type": "markdown",
   "metadata": {},
   "source": [
    "# node swap"
   ]
  },
  {
   "cell_type": "code",
   "execution_count": 24,
   "metadata": {
    "collapsed": true
   },
   "outputs": [],
   "source": [
    "\n",
    "nodes = p.nodes\n",
    "solution = p.solution\n",
    "prime = p.prime\n",
    "n = len(nodes)"
   ]
  },
  {
   "cell_type": "code",
   "execution_count": 665,
   "metadata": {
    "collapsed": false
   },
   "outputs": [
    {
     "name": "stdout",
     "output_type": "stream",
     "text": [
      "10000 123.50499987602234\n",
      "20000 115.93300008773804\n",
      "30000 108.6489999294281\n",
      "40000 103.66299986839294\n",
      "50000 96.67000031471252\n",
      "60000 89.70099973678589\n",
      "70000 77.0220000743866\n",
      "80000 54.45700001716614\n",
      "90000 48.789000034332275\n",
      "100000 43.92300009727478\n",
      "110000 39.602999687194824\n",
      "120000 35.05200004577637\n",
      "130000 29.98799991607666\n",
      "140000 23.11400032043457\n",
      "150000 18.20799994468689\n",
      "160000 14.726999998092651\n",
      "170000 10.738999843597412\n",
      "180000 7.234000205993652\n",
      "190000 4.010999917984009\n",
      "1046.2929999828339\n",
      "11\n"
     ]
    }
   ],
   "source": [
    "start = time.time()\n",
    "\n",
    "#every iter\n",
    "coor = nodes[solution]\n",
    "dist = score(nodes,solution,prime)\n",
    "neighbor = pd.DataFrame({'d':dist}).d.rolling(2,center=True).sum().values\n",
    "oldnext = pd.DataFrame({'d':dist}).d.rolling(3,center=True).sum().values\n",
    "notprime = ~np.isin(solution[:-1], prime)\n",
    "isten = (np.arange(n)+1)%10==0\n",
    "isextra = isten&notprime\n",
    "better = 0\n",
    "\n",
    "time_a = time.time()\n",
    "\n",
    "cur = np.append([0],distance(coor[0],coor))\n",
    "nex = np.append([0],distance(coor[1],coor))\n",
    "\n",
    "swap = {}\n",
    "for left in range(1,n-1):\n",
    "#every left\n",
    "    pre_coor, left_coor, next_coor = coor[left-1:left+2]\n",
    "    adj_dist = distance(left_coor, next_coor)\n",
    "    \n",
    "    FROM_FLAG = (left+1)%10 == 0\n",
    "    TO_FLAG = left%10 == 0\n",
    "    LEFT_FLAG = notprime[left]\n",
    "    LEFT_pre_FLAG = notprime[left-1]\n",
    "    LEFT_nex_FLAG = notprime[left+1]\n",
    "    \n",
    "    ##old cost\n",
    "    left_nb = neighbor[left]\n",
    "    old_cost = neighbor[left:] + left_nb\n",
    "    old_cost[0] = 0\n",
    "    old_cost[1] = oldnext[left]\n",
    "\n",
    "    ##new cost\n",
    "    pre = cur[1:]\n",
    "    \n",
    "    cur = nex[1:]\n",
    "    \n",
    "    nex = distance(next_coor,coor[left-1:])\n",
    "\n",
    "    cur_1 = cur[:-2]\n",
    "    cur_2 = cur[2:]\n",
    "    pre_ = pre[1:-1]\n",
    "    nex_ = nex[1:-1]\n",
    "    \n",
    "    if TO_FLAG & LEFT_pre_FLAG:\n",
    "        pre_ = pre_ + pre_*0.1\n",
    "    if FROM_FLAG:\n",
    "        nex_ = nex_ + nex_*notprime[left:]*0.1\n",
    "        \n",
    "    cur_1 = cur_1 + cur_1*isextra[left-1:-1]*0.1\n",
    "    \n",
    "    if LEFT_FLAG:\n",
    "        cur_2 = cur_2 + cur_2*isten[left:]*0.1\n",
    "    \n",
    "    if FROM_FLAG & LEFT_nex_FLAG:\n",
    "        adj_dist *= 1.1\n",
    "    new_cost = pre_ + nex_ + cur_1 + cur_2\n",
    "    \n",
    "    \n",
    "    new_cost[0] = 0\n",
    "    new_cost[1] += adj_dist\n",
    "    \n",
    "    save = old_cost - new_cost\n",
    "    good = np.where(save>0)[0]\n",
    "    \n",
    "    if len(good)>0:\n",
    "        good_save = save[good]\n",
    "        swap[left] = [good+left,good_save]\n",
    "    \n",
    "    if left%10000 == 0:\n",
    "        time_b = time.time()\n",
    "        print(left,time_b-time_a)\n",
    "        time_a = time_b\n",
    "print(time.time()-start)\n",
    "print(len(swap))\n",
    "###############################################\n",
    "bk = set()\n",
    "candidate = []\n",
    "for left in swap:\n",
    "    right,improve = swap[left]\n",
    "    for i in range(len(right)):\n",
    "        candidate.append((improve[i],right[i],left))\n",
    "        \n",
    "candidate = sorted(candidate)[::-1]\n",
    "l=[]\n",
    "r=[]\n",
    "for improve,left,right in candidate:\n",
    "    fill = [left-1,left,left+1,right-1,right,right+1]\n",
    "    fill = [not (x in bk) for x in fill]\n",
    "    if all(fill):\n",
    "        l.append(left)\n",
    "        r.append(right)\n",
    "        bk.add(left-1)\n",
    "        bk.add(left)\n",
    "        bk.add(left+1)\n",
    "        bk.add(right-1)\n",
    "        bk.add(right)\n",
    "        bk.add(right+1)\n",
    "\n",
    "buf = solution[l]\n",
    "solution[l] = solution[r]\n",
    "solution[r] = buf\n",
    "\n",
    "dist = score(nodes,solution,prime).sum()"
   ]
  },
  {
   "cell_type": "code",
   "execution_count": 666,
   "metadata": {
    "collapsed": false
   },
   "outputs": [
    {
     "data": {
      "text/plain": [
       "[(5.512188079260476, 189095, 96583),\n",
       " (5.313985566707899, 39720, 769),\n",
       " (4.014918448782723, 82685, 61057),\n",
       " (3.465779936194707, 45401, 39871),\n",
       " (1.1158088994012303, 133517, 109051),\n",
       " (0.86968993612453, 60012, 48341),\n",
       " (0.7396648432312389, 145139, 145138),\n",
       " (0.46492546636212495, 197750, 230),\n",
       " (0.33728463005964215, 162566, 161279),\n",
       " (0.3166854086281887, 91110, 91109),\n",
       " (0.03957997718850237, 57179, 57178)]"
      ]
     },
     "execution_count": 666,
     "metadata": {},
     "output_type": "execute_result"
    }
   ],
   "source": [
    "candidate"
   ]
  },
  {
   "cell_type": "code",
   "execution_count": 667,
   "metadata": {
    "collapsed": false
   },
   "outputs": [
    {
     "data": {
      "text/plain": [
       "1516277.1968996653"
      ]
     },
     "execution_count": 667,
     "metadata": {},
     "output_type": "execute_result"
    }
   ],
   "source": [
    "p.score(solution)"
   ]
  }
 ],
 "metadata": {
  "kernelspec": {
   "display_name": "Python 3",
   "language": "python",
   "name": "python3"
  },
  "language_info": {
   "codemirror_mode": {
    "name": "ipython",
    "version": 3
   },
   "file_extension": ".py",
   "mimetype": "text/x-python",
   "name": "python",
   "nbconvert_exporter": "python",
   "pygments_lexer": "ipython3",
   "version": "3.6.0"
  }
 },
 "nbformat": 4,
 "nbformat_minor": 2
}
