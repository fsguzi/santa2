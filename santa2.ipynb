{
 "cells": [
  {
   "cell_type": "code",
   "execution_count": 1,
   "metadata": {
    "collapsed": true
   },
   "outputs": [],
   "source": [
    "import pandas as pd\n",
    "import numpy as np\n",
    "import matplotlib.pyplot as plt\n",
    "%matplotlib inline\n",
    "from sympy import sieve\n",
    "import time"
   ]
  },
  {
   "cell_type": "code",
   "execution_count": 2,
   "metadata": {
    "collapsed": false
   },
   "outputs": [],
   "source": [
    "nodes = pd.read_csv('./problem/cities.csv')\n",
    "nodes = nodes.iloc[:,1:].values\n",
    "n = len(nodes)\n",
    "prime_ = sieve.primerange(0,n)\n",
    "prime = list(prime_)"
   ]
  },
  {
   "cell_type": "code",
   "execution_count": 3,
   "metadata": {
    "collapsed": false
   },
   "outputs": [],
   "source": [
    "def score(solution,offset=0,raw=False):\n",
    "    s = nodes[solution[:-1]]\n",
    "    e = nodes[solution[1:]]\n",
    "    out = distance(s,e)\n",
    "    n = len(s)\n",
    "    if raw:\n",
    "        return out\n",
    "    isten = (np.arange(n)+1+offset)%10==0\n",
    "    notprime = ~np.isin(solution[:-1],prime)\n",
    "    isextra = (isten&notprime)*0.1\n",
    "    out += out*isextra\n",
    "    return out\n",
    "\n",
    "def distance(coor1,coor2):\n",
    "    return np.sqrt(((coor1-coor2)**2).sum(axis=-1))\n"
   ]
  },
  {
   "cell_type": "code",
   "execution_count": 4,
   "metadata": {
    "collapsed": false
   },
   "outputs": [
    {
     "data": {
      "text/plain": [
       "1516912.3751145517"
      ]
     },
     "execution_count": 4,
     "metadata": {},
     "output_type": "execute_result"
    }
   ],
   "source": [
    "solution = pd.read_csv('./solution/base.csv').values[:,0]\n",
    "score(solution).sum()"
   ]
  },
  {
   "cell_type": "code",
   "execution_count": 44,
   "metadata": {
    "collapsed": false
   },
   "outputs": [],
   "source": [
    "r_solution = solution[-2:0:-1]\n",
    "reverse_dist = []\n",
    "for offset in range(10):\n",
    "    reverse_dist.append(np.cumsum(score(r_solution,offset)[::-1])[::-1])\n",
    "reverse_dist = np.array(reverse_dist)\n",
    "loop = reverse_dist.shape[1]"
   ]
  },
  {
   "cell_type": "code",
   "execution_count": 48,
   "metadata": {
    "collapsed": false
   },
   "outputs": [],
   "source": [
    "dist = np.cumsum(score(solution))"
   ]
  },
  {
   "cell_type": "code",
   "execution_count": 52,
   "metadata": {
    "collapsed": false
   },
   "outputs": [
    {
     "name": "stdout",
     "output_type": "stream",
     "text": [
      "6.107999801635742\n"
     ]
    }
   ],
   "source": [
    "asd = []\n",
    "start = time.time()\n",
    "for left in range(1900):\n",
    "    node_before_a, node_a = solution[left:left+2]\n",
    "    offset = (left+1)%10\n",
    "    middle = np.zeros(shape=(n-2-left))\n",
    "    for o in range(10):\n",
    "        order = (offset-o)%10\n",
    "        using_reverse = reverse_dist[order][:n-2-left]\n",
    "        middle[o::10] = using_reverse[o::10]\n",
    "    reverse_dist[:,:loop-left-1] -= reverse_dist[:,loop-left-1:loop-left]\n",
    "    asd.append(middle[0])\n",
    "    \n",
    "    old_dist = dist[left+2:]\n",
    "    \n",
    "    dist[left+1:] -= dist[left]\n",
    "print(time.time()-start)       "
   ]
  },
  {
   "cell_type": "code",
   "execution_count": 51,
   "metadata": {
    "collapsed": false
   },
   "outputs": [
    {
     "data": {
      "text/plain": [
       "array([ 8.71387618,  7.24548268,  5.9463006 ,  7.49827218,  8.53004849,\n",
       "        8.84179965, 17.95567891, 26.50275793, 33.26565234, 39.7231002 ])"
      ]
     },
     "execution_count": 51,
     "metadata": {},
     "output_type": "execute_result"
    }
   ],
   "source": [
    "dist[:10]"
   ]
  },
  {
   "cell_type": "code",
   "execution_count": 49,
   "metadata": {
    "collapsed": false
   },
   "outputs": [
    {
     "data": {
      "text/plain": [
       "array([ 8.71387618, 15.95935886, 21.90565946, 29.40393164, 37.93398013,\n",
       "       46.77577979, 55.88965904, 64.43673807, 71.19963247, 77.65708034])"
      ]
     },
     "execution_count": 49,
     "metadata": {},
     "output_type": "execute_result"
    }
   ],
   "source": [
    "dist[:10]"
   ]
  },
  {
   "cell_type": "code",
   "execution_count": null,
   "metadata": {
    "collapsed": true
   },
   "outputs": [],
   "source": []
  },
  {
   "cell_type": "code",
   "execution_count": null,
   "metadata": {
    "collapsed": true
   },
   "outputs": [],
   "source": []
  },
  {
   "cell_type": "markdown",
   "metadata": {},
   "source": [
    "# UTILITY"
   ]
  },
  {
   "cell_type": "code",
   "execution_count": 20,
   "metadata": {
    "collapsed": false
   },
   "outputs": [],
   "source": [
    "#write result\n",
    "pd.DataFrame({'Path':solution}).to_csv(path+'solution/submit2.csv',index=False)"
   ]
  },
  {
   "cell_type": "code",
   "execution_count": 21,
   "metadata": {
    "collapsed": true
   },
   "outputs": [],
   "source": [
    "#make .tsp problem\n",
    "fname = path + 'problem/santa.tsp'\n",
    "with open(fname, 'w') as f:\n",
    "    f.write('NAME : santa\\n')\n",
    "    f.write('COMMENT : santa\\n')\n",
    "    f.write('TYPE : TSP\\n')\n",
    "    f.write('DIMENSION : %d\\n' % n)\n",
    "    f.write('EDGE_WEIGHT_TYPE : EUC_2D\\n')\n",
    "    f.write('NODE_COORD_SECTION\\n')\n",
    "    for idx,node in enumerate(nodes):\n",
    "        x,y=node*100000\n",
    "        f.write('%s %s %s\\n' % (idx+1,x,y))\n",
    "    f.write('EOF\\n')"
   ]
  },
  {
   "cell_type": "code",
   "execution_count": 24,
   "metadata": {
    "collapsed": true
   },
   "outputs": [],
   "source": [
    "#read neos html\n",
    "fname = path + 'solution/neos2.html'\n",
    "l = 1\n",
    "sol = []\n",
    "with open(fname, 'r') as f:\n",
    "    while l< 207274:\n",
    "        line = f.readline()\n",
    "        if l>=9505:\n",
    "            sol.append(int(line.split(' ')[0]))\n",
    "        l += 1\n",
    "sol.append(0)\n",
    "solution = np.array(sol)"
   ]
  },
  {
   "cell_type": "markdown",
   "metadata": {},
   "source": [
    "# node swap"
   ]
  },
  {
   "cell_type": "code",
   "execution_count": 14,
   "metadata": {
    "collapsed": true
   },
   "outputs": [
    {
     "name": "stdout",
     "output_type": "stream",
     "text": [
      "10000 126.58199977874756\n",
      "20000 121.46800017356873\n",
      "30000 112.0699999332428\n",
      "40000 105.73300004005432\n",
      "50000 98.03699994087219\n",
      "60000 93.94600009918213\n",
      "70000 85.03600001335144\n",
      "80000 58.355000019073486\n",
      "90000 50.651999950408936\n",
      "100000 45.80800008773804\n",
      "110000 40.49499988555908\n",
      "120000 35.301000118255615\n",
      "130000 31.38599991798401\n",
      "140000 24.236000061035156\n",
      "150000 19.155999898910522\n",
      "160000 15.098999977111816\n",
      "170000 11.743000030517578\n",
      "180000 8.926999807357788\n",
      "190000 4.612000226974487\n",
      "1090.026999950409\n",
      "0\n"
     ]
    }
   ],
   "source": [
    "start = time.time()\n",
    "\n",
    "#every iter\n",
    "coor = nodes[solution]\n",
    "dist = score(solution)\n",
    "neighbor = pd.DataFrame({'d':dist}).d.rolling(2,center=True).sum().values\n",
    "oldnext = pd.DataFrame({'d':dist}).d.rolling(3,center=True).sum().values\n",
    "notprime = ~np.isin(solution[:-1], prime)\n",
    "isten = (np.arange(n)+1)%10==0\n",
    "isextra = isten&notprime\n",
    "better = 0\n",
    "\n",
    "time_a = time.time()\n",
    "\n",
    "cur = np.append([0],distance(coor[0],coor))\n",
    "nex = np.append([0],distance(coor[1],coor))\n",
    "\n",
    "swap = {}\n",
    "for left in range(1,n-1):\n",
    "#every left\n",
    "    pre_coor, left_coor, next_coor = coor[left-1:left+2]\n",
    "    adj_dist = distance(left_coor, next_coor)\n",
    "    \n",
    "    FROM_FLAG = (left+1)%10 == 0\n",
    "    TO_FLAG = left%10 == 0\n",
    "    LEFT_FLAG = notprime[left]\n",
    "    LEFT_pre_FLAG = notprime[left-1]\n",
    "    LEFT_nex_FLAG = notprime[left+1]\n",
    "    \n",
    "    ##old cost\n",
    "    left_nb = neighbor[left]\n",
    "    old_cost = neighbor[left:] + left_nb\n",
    "    old_cost[0] = 0\n",
    "    old_cost[1] = oldnext[left]\n",
    "\n",
    "    ##new cost\n",
    "    pre = cur[1:]\n",
    "    \n",
    "    cur = nex[1:]\n",
    "    \n",
    "    nex = distance(next_coor,coor[left-1:])\n",
    "\n",
    "    cur_1 = cur[:-2]\n",
    "    cur_2 = cur[2:]\n",
    "    pre_ = pre[1:-1]\n",
    "    nex_ = nex[1:-1]\n",
    "    \n",
    "    if TO_FLAG & LEFT_pre_FLAG:\n",
    "        pre_ = pre_ + pre_*0.1\n",
    "    if FROM_FLAG:\n",
    "        nex_ = nex_ + nex_*notprime[left:]*0.1\n",
    "        \n",
    "    cur_1 = cur_1 + cur_1*isextra[left-1:-1]*0.1\n",
    "    \n",
    "    if LEFT_FLAG:\n",
    "        cur_2 = cur_2 + cur_2*isten[left:]*0.1\n",
    "    \n",
    "    if FROM_FLAG & LEFT_nex_FLAG:\n",
    "        adj_dist *= 1.1\n",
    "    new_cost = pre_ + nex_ + cur_1 + cur_2\n",
    "    \n",
    "    \n",
    "    new_cost[0] = 0\n",
    "    new_cost[1] += adj_dist\n",
    "    \n",
    "    save = old_cost - new_cost\n",
    "    good = np.where(save>0)[0]\n",
    "    \n",
    "    if len(good)>0:\n",
    "        good_save = save[good]\n",
    "        swap[left] = [good+left,good_save]\n",
    "    \n",
    "    if left%10000 == 0:\n",
    "        time_b = time.time()\n",
    "        print(left,time_b-time_a)\n",
    "        time_a = time_b\n",
    "print(time.time()-start)\n",
    "print(len(swap))\n",
    "###############################################\n",
    "bk = set()\n",
    "candidate = []\n",
    "for left in swap:\n",
    "    right,improve = swap[left]\n",
    "    for i in range(len(right)):\n",
    "        candidate.append((improve[i],right[i],left))\n",
    "        \n",
    "candidate = sorted(candidate)[::-1]\n",
    "l=[]\n",
    "r=[]\n",
    "for improve,left,right in candidate:\n",
    "    fill = [left-1,left,left+1,right-1,right,right+1]\n",
    "    fill = [not (x in bk) for x in fill]\n",
    "    if all(fill):\n",
    "        l.append(left)\n",
    "        r.append(right)\n",
    "        bk.add(left-1)\n",
    "        bk.add(left)\n",
    "        bk.add(left+1)\n",
    "        bk.add(right-1)\n",
    "        bk.add(right)\n",
    "        bk.add(right+1)\n",
    "\n",
    "buf = solution[l]\n",
    "solution[l] = solution[r]\n",
    "solution[r] = buf\n",
    "\n",
    "score(solution).sum()"
   ]
  }
 ],
 "metadata": {
  "kernelspec": {
   "display_name": "Python 3",
   "language": "python",
   "name": "python3"
  },
  "language_info": {
   "codemirror_mode": {
    "name": "ipython",
    "version": 3
   },
   "file_extension": ".py",
   "mimetype": "text/x-python",
   "name": "python",
   "nbconvert_exporter": "python",
   "pygments_lexer": "ipython3",
   "version": "3.6.0"
  }
 },
 "nbformat": 4,
 "nbformat_minor": 2
}
