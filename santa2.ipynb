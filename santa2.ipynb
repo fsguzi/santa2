{
 "cells": [
  {
   "cell_type": "code",
   "execution_count": 1,
   "metadata": {
    "collapsed": false
   },
   "outputs": [],
   "source": [
    "import pandas as pd\n",
    "import numpy as np\n",
    "import matplotlib.pyplot as plt\n",
    "%matplotlib inline\n",
    "from sympy import sieve\n",
    "import time\n",
    "\n",
    "from common import *"
   ]
  },
  {
   "cell_type": "code",
   "execution_count": 2,
   "metadata": {
    "collapsed": false
   },
   "outputs": [],
   "source": [
    "p = problem(base_path='./solution/base2.csv')"
   ]
  },
  {
   "cell_type": "code",
   "execution_count": 3,
   "metadata": {
    "collapsed": false
   },
   "outputs": [
    {
     "name": "stdout",
     "output_type": "stream",
     "text": [
      "Start iteration 1\n",
      "a: 1 | saving: -33.777 | cumsave: -33.777\n",
      "a: 1 | saving: -11.610 | cumsave: -45.386\n",
      "a: 4796 | saving: -0.176 | cumsave: -45.562\n",
      "a: 4934 | saving: -0.970 | cumsave: -46.532\n",
      "a: 15033 | saving: -0.590 | cumsave: -47.122\n",
      "a: 15034 | saving: -3.560 | cumsave: -50.682\n",
      "a: 20698 | saving: -0.215 | cumsave: -50.896\n",
      "a: 22746 | saving: -0.804 | cumsave: -51.701\n",
      "a: 26458 | saving: -1.616 | cumsave: -53.317\n",
      "a: 26511 | saving: -1.037 | cumsave: -54.354\n",
      "a: 30362 | saving: -6.685 | cumsave: -61.038\n",
      "a: 31446 | saving: -0.555 | cumsave: -61.593\n",
      "a: 31484 | saving: -1.392 | cumsave: -62.985\n",
      "a: 31863 | saving: -0.520 | cumsave: -63.506\n",
      "a: 32691 | saving: -0.709 | cumsave: -64.214\n",
      "a: 32811 | saving: -0.955 | cumsave: -65.169\n",
      "a: 33438 | saving: -0.104 | cumsave: -65.273\n",
      "a: 34322 | saving: -4.788 | cumsave: -70.062\n",
      "a: 34322 | saving: -2.987 | cumsave: -73.049\n",
      "a: 35492 | saving: -1.485 | cumsave: -74.534\n",
      "a: 38400 | saving: -1.618 | cumsave: -76.152\n",
      "a: 38406 | saving: -0.725 | cumsave: -76.877\n",
      "a: 38802 | saving: -2.168 | cumsave: -79.045\n",
      "a: 42408 | saving: -0.449 | cumsave: -79.495\n",
      "a: 43301 | saving: -0.011 | cumsave: -79.506\n",
      "a: 47388 | saving: -0.051 | cumsave: -79.556\n",
      "a: 48678 | saving: -0.070 | cumsave: -79.627\n",
      "a: 50200 | saving: -0.001 | cumsave: -79.628\n",
      "a: 51099 | saving: -0.296 | cumsave: -79.924\n",
      "a: 57598 | saving: -0.657 | cumsave: -80.581\n",
      "a: 58211 | saving: -1.892 | cumsave: -82.473\n",
      "a: 58998 | saving: -0.025 | cumsave: -82.498\n",
      "a: 59206 | saving: -0.144 | cumsave: -82.642\n",
      "a: 60871 | saving: -0.257 | cumsave: -82.899\n",
      "a: 61208 | saving: -0.097 | cumsave: -82.997\n",
      "a: 64757 | saving: -2.728 | cumsave: -85.725\n",
      "a: 64790 | saving: -1.236 | cumsave: -86.960\n",
      "a: 66303 | saving: -0.418 | cumsave: -87.378\n",
      "a: 69872 | saving: -0.807 | cumsave: -88.185\n",
      "a: 69872 | saving: -0.287 | cumsave: -88.472\n",
      "a: 70459 | saving: -0.444 | cumsave: -88.916\n",
      "a: 70481 | saving: -0.182 | cumsave: -89.098\n",
      "a: 72311 | saving: -0.114 | cumsave: -89.212\n",
      "a: 72311 | saving: -1.833 | cumsave: -91.045\n",
      "a: 82523 | saving: -0.324 | cumsave: -91.370\n",
      "a: 83305 | saving: -2.380 | cumsave: -93.750\n",
      "a: 84098 | saving: -0.025 | cumsave: -93.775\n",
      "a: 93199 | saving: -0.767 | cumsave: -94.542\n",
      "a: 93574 | saving: -0.260 | cumsave: -94.802\n",
      "a: 93575 | saving: -2.727 | cumsave: -97.529\n",
      "a: 96498 | saving: -6.423 | cumsave: -103.952\n",
      "a: 96512 | saving: -2.930 | cumsave: -106.882\n",
      "a: 102762 | saving: -3.036 | cumsave: -109.918\n",
      "a: 102763 | saving: -1.933 | cumsave: -111.850\n",
      "a: 106838 | saving: -1.393 | cumsave: -113.243\n",
      "a: 108685 | saving: -0.126 | cumsave: -113.369\n",
      "a: 109442 | saving: -2.128 | cumsave: -115.497\n",
      "a: 109455 | saving: -1.603 | cumsave: -117.100\n",
      "a: 110816 | saving: -0.058 | cumsave: -117.158\n",
      "a: 110879 | saving: -2.520 | cumsave: -119.678\n",
      "a: 112920 | saving: -1.257 | cumsave: -120.935\n",
      "a: 115255 | saving: -5.646 | cumsave: -126.581\n",
      "a: 117149 | saving: -0.949 | cumsave: -127.530\n",
      "a: 117281 | saving: -0.055 | cumsave: -127.584\n",
      "a: 123208 | saving: -0.056 | cumsave: -127.640\n",
      "a: 124996 | saving: -2.712 | cumsave: -130.352\n",
      "a: 125269 | saving: -1.331 | cumsave: -131.683\n",
      "a: 133848 | saving: -0.298 | cumsave: -131.981\n",
      "a: 135968 | saving: -0.487 | cumsave: -132.468\n",
      "a: 136458 | saving: -0.567 | cumsave: -133.034\n",
      "a: 137088 | saving: -0.706 | cumsave: -133.740\n",
      "a: 137089 | saving: -0.089 | cumsave: -133.829\n",
      "a: 142202 | saving: -1.519 | cumsave: -135.348\n",
      "a: 146049 | saving: -1.538 | cumsave: -136.886\n",
      "a: 153274 | saving: -1.202 | cumsave: -138.087\n",
      "a: 153274 | saving: -6.862 | cumsave: -144.949\n",
      "a: 153837 | saving: -0.386 | cumsave: -145.336\n",
      "a: 154257 | saving: -0.435 | cumsave: -145.771\n",
      "a: 158279 | saving: -0.076 | cumsave: -145.846\n",
      "a: 158703 | saving: -0.887 | cumsave: -146.734\n",
      "a: 169964 | saving: -0.070 | cumsave: -146.804\n",
      "a: 170174 | saving: -2.059 | cumsave: -148.863\n",
      "a: 174962 | saving: -0.749 | cumsave: -149.612\n",
      "a: 178300 | saving: -0.183 | cumsave: -149.795\n",
      "a: 180189 | saving: -0.290 | cumsave: -150.085\n",
      "a: 180189 | saving: -3.510 | cumsave: -153.595\n",
      "a: 185988 | saving: -4.243 | cumsave: -157.838\n",
      "a: 185991 | saving: -1.317 | cumsave: -159.155\n",
      "a: 186137 | saving: -0.658 | cumsave: -159.813\n",
      "a: 190450 | saving: -0.761 | cumsave: -160.574\n",
      "a: 193828 | saving: -2.219 | cumsave: -162.794\n",
      "a: 193993 | saving: -0.406 | cumsave: -163.200\n",
      "a: 196032 | saving: -1.752 | cumsave: -164.952\n",
      "a: 197766 | saving: -9.268 | cumsave: -174.220\n",
      "iter 1 done, total swap 94, saves -174.220, time 857.5\n",
      "1516606.4731057382\n",
      "####################################\n",
      "Start iteration 2\n",
      "a: 3935 | saving: -0.087 | cumsave: -0.087\n",
      "a: 4193 | saving: -2.786 | cumsave: -2.873\n",
      "a: 26458 | saving: -7.352 | cumsave: -10.225\n",
      "a: 43105 | saving: -0.108 | cumsave: -10.333\n",
      "a: 43952 | saving: -0.287 | cumsave: -10.621\n",
      "a: 44342 | saving: -3.191 | cumsave: -13.811\n",
      "a: 82549 | saving: -0.571 | cumsave: -14.382\n",
      "a: 82550 | saving: -0.174 | cumsave: -14.556\n",
      "a: 96499 | saving: -4.062 | cumsave: -18.618\n",
      "a: 105618 | saving: -1.604 | cumsave: -20.222\n",
      "a: 106349 | saving: -3.186 | cumsave: -23.408\n",
      "a: 115255 | saving: -2.238 | cumsave: -25.646\n",
      "a: 117347 | saving: -0.224 | cumsave: -25.871\n",
      "a: 124996 | saving: -3.830 | cumsave: -29.701\n",
      "a: 125037 | saving: -1.295 | cumsave: -30.996\n",
      "a: 125041 | saving: -2.767 | cumsave: -33.762\n",
      "a: 153837 | saving: -0.423 | cumsave: -34.185\n",
      "a: 169964 | saving: -3.203 | cumsave: -37.388\n",
      "a: 173216 | saving: -4.233 | cumsave: -41.621\n",
      "a: 173530 | saving: -1.351 | cumsave: -42.972\n",
      "a: 174610 | saving: -0.011 | cumsave: -42.982\n",
      "a: 185988 | saving: -5.608 | cumsave: -48.591\n",
      "a: 193828 | saving: -0.591 | cumsave: -49.181\n",
      "a: 196030 | saving: -2.136 | cumsave: -51.318\n",
      "iter 2 done, total swap 24, saves -51.318, time 837.4\n",
      "1516555.1551959356\n",
      "####################################\n",
      "Start iteration 3\n",
      "a: 193719 | saving: -0.103 | cumsave: -0.103\n",
      "iter 3 done, total swap 1, saves -0.103, time 828.0\n",
      "1516555.052547304\n",
      "####################################\n",
      "Start iteration 4\n",
      "a: 193718 | saving: -0.781 | cumsave: -0.781\n",
      "a: 193718 | saving: -1.041 | cumsave: -1.821\n",
      "iter 4 done, total swap 2, saves -1.821, time 825.5\n",
      "1516553.2311118492\n",
      "####################################\n",
      "Start iteration 5\n",
      "iter 5 done, total swap 0, saves 0.000, time 855.5\n",
      "1516553.2311118492\n",
      "####################################\n",
      "zero\n",
      "1516553.2311118492\n"
     ]
    }
   ],
   "source": [
    "p.solve()"
   ]
  },
  {
   "cell_type": "code",
   "execution_count": 5,
   "metadata": {
    "collapsed": false
   },
   "outputs": [
    {
     "data": {
      "text/plain": [
       "1516780.6926535096"
      ]
     },
     "execution_count": 5,
     "metadata": {},
     "output_type": "execute_result"
    }
   ],
   "source": [
    "p.score(p.base)"
   ]
  },
  {
   "cell_type": "code",
   "execution_count": 11,
   "metadata": {
    "collapsed": false
   },
   "outputs": [
    {
     "data": {
      "text/plain": [
       "259200"
      ]
     },
     "execution_count": 11,
     "metadata": {},
     "output_type": "execute_result"
    }
   ],
   "source": [
    "3600*24*3"
   ]
  },
  {
   "cell_type": "code",
   "execution_count": null,
   "metadata": {
    "collapsed": true
   },
   "outputs": [],
   "source": []
  },
  {
   "cell_type": "code",
   "execution_count": null,
   "metadata": {
    "collapsed": true
   },
   "outputs": [],
   "source": []
  },
  {
   "cell_type": "code",
   "execution_count": null,
   "metadata": {
    "collapsed": true
   },
   "outputs": [],
   "source": []
  },
  {
   "cell_type": "code",
   "execution_count": null,
   "metadata": {
    "collapsed": true
   },
   "outputs": [],
   "source": []
  },
  {
   "cell_type": "code",
   "execution_count": null,
   "metadata": {
    "collapsed": true
   },
   "outputs": [],
   "source": []
  },
  {
   "cell_type": "code",
   "execution_count": 9,
   "metadata": {
    "collapsed": false
   },
   "outputs": [
    {
     "data": {
      "text/plain": [
       "1516537.4662957683"
      ]
     },
     "execution_count": 9,
     "metadata": {},
     "output_type": "execute_result"
    }
   ],
   "source": [
    "p.score(cls.solution)"
   ]
  },
  {
   "cell_type": "markdown",
   "metadata": {},
   "source": [
    "# UTILITY"
   ]
  },
  {
   "cell_type": "code",
   "execution_count": 10,
   "metadata": {
    "collapsed": false
   },
   "outputs": [],
   "source": [
    "#write result\n",
    "pd.DataFrame({'Path':cls.solution}).to_csv('./solution/submit_base2.csv',index=False)"
   ]
  },
  {
   "cell_type": "code",
   "execution_count": null,
   "metadata": {
    "collapsed": false
   },
   "outputs": [],
   "source": [
    "#read LKH result into solution\n",
    "f = open('./solver/tsp_solution.csv','r')\n",
    "line = 1\n",
    "content = '123'\n",
    "sol = []\n",
    "while content != '':\n",
    "    content = f.readline()\n",
    "    if line >=7:\n",
    "        \n",
    "        sol.append(content)\n",
    "    line+=1\n",
    "f.close()\n",
    "\n",
    "sol = sol[:-2]\n",
    "sol = [int(line.split('\\n')[0]) for line in sol]\n",
    "sol[-1] = 1\n",
    "solution = np.array(sol)\n",
    "solution-=1"
   ]
  },
  {
   "cell_type": "code",
   "execution_count": null,
   "metadata": {
    "collapsed": true
   },
   "outputs": [],
   "source": [
    "#make .tsp problem\n",
    "fname = path + 'problem/santa.tsp'\n",
    "with open(fname, 'w') as f:\n",
    "    f.write('NAME : santa\\n')\n",
    "    f.write('COMMENT : santa\\n')\n",
    "    f.write('TYPE : TSP\\n')\n",
    "    f.write('DIMENSION : %d\\n' % n)\n",
    "    f.write('EDGE_WEIGHT_TYPE : EUC_2D\\n')\n",
    "    f.write('NODE_COORD_SECTION\\n')\n",
    "    for idx,node in enumerate(nodes):\n",
    "        x,y=node*100000\n",
    "        f.write('%s %s %s\\n' % (idx+1,x,y))\n",
    "    f.write('EOF\\n')"
   ]
  },
  {
   "cell_type": "code",
   "execution_count": null,
   "metadata": {
    "collapsed": true
   },
   "outputs": [],
   "source": [
    "#read neos html\n",
    "fname = path + 'solution/neos2.html'\n",
    "l = 1\n",
    "sol = []\n",
    "with open(fname, 'r') as f:\n",
    "    while l< 207274:\n",
    "        line = f.readline()\n",
    "        if l>=9505:\n",
    "            sol.append(int(line.split(' ')[0]))\n",
    "        l += 1\n",
    "sol.append(0)\n",
    "solution = np.array(sol)"
   ]
  },
  {
   "cell_type": "code",
   "execution_count": null,
   "metadata": {
    "collapsed": false
   },
   "outputs": [],
   "source": [
    "#2-opt manual check calcucation\n",
    "a,d = 185337,186129 \n",
    "a_pre,d_nex = a-1,d+1\n",
    "\n",
    "node_a,node_d,node_a_pre,node_d_nex = solution[[a,d,a_pre,d_nex]]\n",
    "old = score(solution)[a_pre:d_nex].sum()\n",
    "\n",
    "to_d  = distance(nodes[node_a_pre],nodes[node_d])\n",
    "from_a = distance(nodes[node_a],nodes[node_d_nex])\n",
    "check = (d+1)%10 ==0 and node_a not in prime\n",
    "print(check)\n",
    "if check:\n",
    "    from_a*=1.1\n",
    "\n",
    "partial = solution[185337:186129+1][::-1]\n",
    "total = score(partial,offset = a%10).sum()"
   ]
  },
  {
   "cell_type": "code",
   "execution_count": null,
   "metadata": {
    "collapsed": false
   },
   "outputs": [],
   "source": [
    "#2-opt functions\n",
    "def calc_reverse(left, nodes, solution):\n",
    "    r_solution = solution[left:-1][::-1]\n",
    "    reverse_dist = []\n",
    "    for offset in range(10):\n",
    "        reverse_dist.append(np.cumsum(score(nodes,r_solution,offset)[::-1])[::-1])\n",
    "    reverse_dist = np.array(reverse_dist)\n",
    "    \n",
    "    return reverse_dist\n",
    "\n",
    "def calc_old_dist(nodes, solution, from_node):\n",
    "    offset = from_node%10\n",
    "    return np.cumsum(score(nodes,solution[from_node:],offset=offset))\n",
    "\n",
    "def calc_middle(reverse_dist, left):\n",
    "    middle = np.zeros(shape=(reverse_dist.shape[1]))\n",
    "    offset = left%10\n",
    "    \n",
    "    for o in range(10):\n",
    "        order = (offset-o)%10\n",
    "        using_reverse = reverse_dist[order]\n",
    "        middle[o::10] = using_reverse[o::10]\n",
    "    \n",
    "    reverse_dist[:,:-1] -= reverse_dist[:,-1:]\n",
    "    reverse_dist = reverse_dist[:,:-1]\n",
    "    return middle[::-1], reverse_dist\n",
    "\n",
    "def calc_connector(nodes, solution_nodes, roller, left, node_before_a, node_a, prime_set):\n",
    "    to_d = roller[:-1].copy()\n",
    "    offset = left%10\n",
    "    if node_before_a not in prime_set and offset == 0:\n",
    "        to_d *= 1.1\n",
    "        \n",
    "    roller = distance(nodes[node_a],solution_nodes[left+2:])\n",
    "    if node_a in prime_set:\n",
    "        return to_d, roller, roller  \n",
    "    else:\n",
    "        start_leg = (10-left+2)%10\n",
    "        from_a = roller.copy()\n",
    "        from_a[start_leg::10] *= 1.1\n",
    "        return to_d, from_a, roller\n",
    "    \n",
    "def calc_save(from_a,to_d,middle,old_dist):\n",
    "    save = from_a+to_d-old_dist[2:]+middle\n",
    "    old_dist[1:] -= old_dist[0]\n",
    "    old_dist = old_dist[1:]\n",
    "    \n",
    "    place = np.argmin(save)\n",
    "    saving = save[place]\n",
    "    return place, saving, old_dist\n",
    "\n",
    "def calc_basis(start_at, nodes, solution, solution_nodes):\n",
    "    reverse_dist = calc_reverse(start_at, nodes, solution)\n",
    "    old_dist = calc_old_dist(nodes, solution,from_node=start_at-1)\n",
    "    roller = distance(nodes[solution[start_at-1]],solution_nodes[start_at-1+2:])\n",
    "    \n",
    "    return reverse_dist, old_dist, roller\n",
    "\n",
    "def excute_swap(left,place,solution,solution_nodes):\n",
    "    target = place+1+left\n",
    "    \n",
    "    solution[left:target+1] = solution[target:left-1:-1]\n",
    "    solution_nodes[left:target+1] = solution_nodes[target:left-1:-1]\n",
    "    "
   ]
  },
  {
   "cell_type": "code",
   "execution_count": null,
   "metadata": {
    "collapsed": true
   },
   "outputs": [],
   "source": [
    "bests = []\n",
    "dids = []\n",
    "\n",
    "asd = nodes[solution]\n",
    "df = pd.DataFrame(asd)\n",
    "df.to_csv('asd.csv')\n",
    "solution_nodes = pd.read_csv('asd.csv').iloc[:,1:].values\n",
    "\n",
    "start = time.time()\n",
    "\n",
    "i=1\n",
    "iter_num = 5\n",
    "start_at = 1\n",
    "run_through = 2000\n",
    "\n",
    "fast = \n",
    "\n",
    "while i <= iter_num:\n",
    "    iter_start = time.time()\n",
    "    best = []\n",
    "    did = 0\n",
    "    \n",
    "    reverse_dist, old_dist, roller = calc_basis(start_at, nodes, solution, solution_nodes)\n",
    "\n",
    "    for left in range(start_at, run_through):\n",
    "        node_before_a, node_a = solution[left-1:left+1]\n",
    "\n",
    "        middle, reverse_dist = calc_middle(reverse_dist, left)\n",
    "\n",
    "        to_d, from_a, roller =  calc_connector(nodes, solution_nodes, roller, left, node_before_a, node_a, prime_set)\n",
    "\n",
    "        place, saving, old_dist = calc_save(from_a,to_d,middle,old_dist)\n",
    "        \n",
    "        if saving<0:\n",
    "            \n",
    "            best.append(saving)\n",
    "            did += saving\n",
    "            target = place+1+left\n",
    "            \n",
    "            #execute swap\n",
    "            excute_swap(left,place,solution,solution_nodes)\n",
    "            print('a: %s | saving: %.3f | cumsave: %.3f'%(left, saving, did))\n",
    "            \n",
    "            #reset infos\n",
    "            reverse_dist, old_dist, roller = calc_basis(left+1, nodes, solution, solution_nodes)\n",
    "\n",
    "    #pd.DataFrame({'Path':solution}).to_csv('./solution/neos_iter_%s.csv'%(i+1),index=False)\n",
    "    bests.append(best)\n",
    "    dids.append(did)\n",
    "    print('iter %s done, total swap %s, saves %.3f, time %.1f'%(i,len(best),did,time.time()-iter_start))\n",
    "    print(score(nodes,solution).sum())\n",
    "    print('####################################')\n",
    "    i+=1\n",
    "    if len(best) == 0:\n",
    "        print('zero')\n",
    "        break\n",
    "print(time.time()-start)"
   ]
  },
  {
   "cell_type": "markdown",
   "metadata": {},
   "source": [
    "# node swap"
   ]
  },
  {
   "cell_type": "code",
   "execution_count": 4,
   "metadata": {
    "collapsed": true
   },
   "outputs": [],
   "source": [
    "\n",
    "nodes = p.nodes\n",
    "solution = p.solution\n",
    "prime = p.prime\n",
    "n = len(nodes)"
   ]
  },
  {
   "cell_type": "code",
   "execution_count": 5,
   "metadata": {
    "collapsed": false
   },
   "outputs": [
    {
     "name": "stdout",
     "output_type": "stream",
     "text": [
      "10000 126.87462496757507\n",
      "20000 121.92999982833862\n",
      "30000 117.62800002098083\n",
      "40000 115.39000010490417\n",
      "50000 102.39299988746643\n",
      "60000 98.45900011062622\n",
      "70000 81.63500022888184\n",
      "80000 57.76199984550476\n",
      "90000 51.25800013542175\n",
      "100000 45.418999671936035\n",
      "110000 40.664000034332275\n",
      "120000 37.019999980926514\n",
      "130000 31.63700032234192\n",
      "140000 24.470999717712402\n",
      "150000 19.38700008392334\n",
      "160000 14.878999948501587\n",
      "170000 11.11900019645691\n",
      "180000 7.998999834060669\n",
      "190000 4.206000089645386\n",
      "1111.426614522934\n",
      "4\n"
     ]
    }
   ],
   "source": [
    "start = time.time()\n",
    "\n",
    "#every iter\n",
    "coor = nodes[solution]\n",
    "dist = score(nodes,solution,prime)\n",
    "neighbor = pd.DataFrame({'d':dist}).d.rolling(2,center=True).sum().values\n",
    "oldnext = pd.DataFrame({'d':dist}).d.rolling(3,center=True).sum().values\n",
    "notprime = ~np.isin(solution[:-1], prime)\n",
    "isten = (np.arange(n)+1)%10==0\n",
    "isextra = isten&notprime\n",
    "better = 0\n",
    "\n",
    "time_a = time.time()\n",
    "\n",
    "cur = np.append([0],distance(coor[0],coor))\n",
    "nex = np.append([0],distance(coor[1],coor))\n",
    "\n",
    "swap = {}\n",
    "for left in range(1,n-1):\n",
    "#every left\n",
    "    pre_coor, left_coor, next_coor = coor[left-1:left+2]\n",
    "    adj_dist = distance(left_coor, next_coor)\n",
    "    \n",
    "    FROM_FLAG = (left+1)%10 == 0\n",
    "    TO_FLAG = left%10 == 0\n",
    "    LEFT_FLAG = notprime[left]\n",
    "    LEFT_pre_FLAG = notprime[left-1]\n",
    "    LEFT_nex_FLAG = notprime[left+1]\n",
    "    \n",
    "    ##old cost\n",
    "    left_nb = neighbor[left]\n",
    "    old_cost = neighbor[left:] + left_nb\n",
    "    old_cost[0] = 0\n",
    "    old_cost[1] = oldnext[left]\n",
    "\n",
    "    ##new cost\n",
    "    pre = cur[1:]\n",
    "    \n",
    "    cur = nex[1:]\n",
    "    \n",
    "    nex = distance(next_coor,coor[left-1:])\n",
    "\n",
    "    cur_1 = cur[:-2]\n",
    "    cur_2 = cur[2:]\n",
    "    pre_ = pre[1:-1]\n",
    "    nex_ = nex[1:-1]\n",
    "    \n",
    "    if TO_FLAG & LEFT_pre_FLAG:\n",
    "        pre_ = pre_ + pre_*0.1\n",
    "    if FROM_FLAG:\n",
    "        nex_ = nex_ + nex_*notprime[left:]*0.1\n",
    "        \n",
    "    cur_1 = cur_1 + cur_1*isextra[left-1:-1]*0.1\n",
    "    \n",
    "    if LEFT_FLAG:\n",
    "        cur_2 = cur_2 + cur_2*isten[left:]*0.1\n",
    "    \n",
    "    if FROM_FLAG & LEFT_nex_FLAG:\n",
    "        adj_dist *= 1.1\n",
    "    new_cost = pre_ + nex_ + cur_1 + cur_2\n",
    "    \n",
    "    \n",
    "    new_cost[0] = 0\n",
    "    new_cost[1] += adj_dist\n",
    "    \n",
    "    save = old_cost - new_cost\n",
    "    good = np.where(save>0)[0]\n",
    "    \n",
    "    if len(good)>0:\n",
    "        good_save = save[good]\n",
    "        swap[left] = [good+left,good_save]\n",
    "    \n",
    "    if left%10000 == 0:\n",
    "        time_b = time.time()\n",
    "        print(left,time_b-time_a)\n",
    "        time_a = time_b\n",
    "print(time.time()-start)\n",
    "print(len(swap))\n",
    "###############################################\n",
    "bk = set()\n",
    "candidate = []\n",
    "for left in swap:\n",
    "    right,improve = swap[left]\n",
    "    for i in range(len(right)):\n",
    "        candidate.append((improve[i],right[i],left))\n",
    "        \n",
    "candidate = sorted(candidate)[::-1]\n",
    "l=[]\n",
    "r=[]\n",
    "for improve,left,right in candidate:\n",
    "    fill = [left-1,left,left+1,right-1,right,right+1]\n",
    "    fill = [not (x in bk) for x in fill]\n",
    "    if all(fill):\n",
    "        l.append(left)\n",
    "        r.append(right)\n",
    "        bk.add(left-1)\n",
    "        bk.add(left)\n",
    "        bk.add(left+1)\n",
    "        bk.add(right-1)\n",
    "        bk.add(right)\n",
    "        bk.add(right+1)\n",
    "\n",
    "buf = solution[l]\n",
    "solution[l] = solution[r]\n",
    "solution[r] = buf\n",
    "\n",
    "dist = score(nodes,solution,prime).sum()"
   ]
  },
  {
   "cell_type": "code",
   "execution_count": 8,
   "metadata": {
    "collapsed": false
   },
   "outputs": [
    {
     "data": {
      "text/plain": [
       "1516548.0797786727"
      ]
     },
     "execution_count": 8,
     "metadata": {},
     "output_type": "execute_result"
    }
   ],
   "source": [
    "p.score(p.solution)"
   ]
  }
 ],
 "metadata": {
  "kernelspec": {
   "display_name": "Python 3",
   "language": "python",
   "name": "python3"
  },
  "language_info": {
   "codemirror_mode": {
    "name": "ipython",
    "version": 3
   },
   "file_extension": ".py",
   "mimetype": "text/x-python",
   "name": "python",
   "nbconvert_exporter": "python",
   "pygments_lexer": "ipython3",
   "version": "3.6.0"
  }
 },
 "nbformat": 4,
 "nbformat_minor": 2
}
