{
 "cells": [
  {
   "cell_type": "code",
   "execution_count": 1,
   "metadata": {
    "collapsed": true
   },
   "outputs": [],
   "source": [
    "import pandas as pd\n",
    "import numpy as np\n",
    "import matplotlib.pyplot as plt\n",
    "%matplotlib inline\n",
    "from sympy import sieve\n",
    "import time"
   ]
  },
  {
   "cell_type": "code",
   "execution_count": 10,
   "metadata": {
    "collapsed": false
   },
   "outputs": [],
   "source": [
    "def score(nodes,solution,prime,offset=0,raw=False):\n",
    "    s = nodes[solution[:-1]]\n",
    "    e = nodes[solution[1:]]\n",
    "    out = distance(s,e)\n",
    "    n = len(s)\n",
    "    if raw:\n",
    "        return out\n",
    "    isten = (np.arange(n)+1+offset)%10==0\n",
    "    notprime = ~np.isin(solution[:-1],prime)\n",
    "    isextra = (isten&notprime)*0.1\n",
    "    out += out*isextra\n",
    "    return out\n",
    "\n",
    "def score_(*args):\n",
    "    return score(*args).sum()\n",
    "\n",
    "def distance(coor1,coor2):\n",
    "    return np.sqrt(((coor1-coor2)**2).sum(axis=-1))\n",
    "\n",
    "class problem:\n",
    "    def __init__(self, instance_path = './problem/cities.csv', base_path = './solution/base.csv'):\n",
    "        self.nodes = pd.read_csv(instance_path).iloc[:,1:].values\n",
    "        self.n = n = len(self.nodes)\n",
    "        if base_path:\n",
    "            self.base = pd.read_csv(base_path).values[:,0]\n",
    "            \n",
    "        prime_ = sieve.primerange(0,n)\n",
    "        self.prime = list(prime_)\n",
    "        prime_ = sieve.primerange(0,n)\n",
    "        self.prime_set = set(prime_)\n",
    "    \n",
    "    def solve(self, *args, **kwargs,):\n",
    "        solution = two_reverse.solve(self.nodes, self.base, self.prime, self.prime_set, *args, **kwargs)\n",
    "        print(score_(self.nodes,solution,self.prime))"
   ]
  },
  {
   "cell_type": "code",
   "execution_count": 11,
   "metadata": {
    "collapsed": false
   },
   "outputs": [],
   "source": [
    "p = problem()"
   ]
  },
  {
   "cell_type": "code",
   "execution_count": 12,
   "metadata": {
    "collapsed": false
   },
   "outputs": [
    {
     "name": "stdout",
     "output_type": "stream",
     "text": [
      "Start iteration 1\n",
      "iter 1 done, total swap 0, saves 0.000, time 1.8\n",
      "1516912.3751145517\n",
      "####################################\n",
      "zero\n",
      "1516912.3751145517\n"
     ]
    }
   ],
   "source": [
    "p.solve(120)"
   ]
  },
  {
   "cell_type": "code",
   "execution_count": 3,
   "metadata": {
    "collapsed": false
   },
   "outputs": [],
   "source": [
    "class two_reverse:\n",
    "    \n",
    "    @classmethod\n",
    "    def solve(cls, nodes, solution, prime, prime_set, run_through=None, max_iter=5, start_at=1):\n",
    "        solution = solution.copy()\n",
    "        start = time.time()\n",
    "        \n",
    "        i=1\n",
    "        if run_through == None:\n",
    "            run_through = len(nodes)-1\n",
    "        \n",
    "        asd = nodes[solution]\n",
    "        df = pd.DataFrame(asd)\n",
    "        df.to_csv('asd.csv')\n",
    "        solution_nodes = pd.read_csv('asd.csv').iloc[:,1:].values\n",
    "        \n",
    "        cls.nodes = nodes\n",
    "        cls.solution = solution\n",
    "        cls.prime = prime\n",
    "        cls.prime_set = prime_set\n",
    "        cls.solution_nodes = solution_nodes\n",
    "        \n",
    "        while i <= max_iter:\n",
    "            print('Start iteration %s'%i)\n",
    "            \n",
    "            iter_start = time.time()\n",
    "            best = []\n",
    "            did = 0\n",
    "\n",
    "            reverse_dist, old_dist, roller = cls.calc_basis(start_at)\n",
    "\n",
    "            for left in range(start_at, run_through):\n",
    "                node_before_a, node_a = solution[left-1:left+1]\n",
    "                \n",
    "                middle, reverse_dist = cls.calc_middle(reverse_dist, left)\n",
    "                to_d, from_a, roller =  cls.calc_connector(roller, left, node_before_a, node_a)\n",
    "                place, saving, old_dist = cls.calc_save(from_a,to_d,middle,old_dist)\n",
    "\n",
    "                if saving<0:\n",
    "                    best.append(saving)\n",
    "                    did += saving\n",
    "                    target = place+1+left\n",
    "\n",
    "                    #execute swap\n",
    "                    cls.excute_swap(left,place)\n",
    "                    print('a: %s | saving: %.3f | cumsave: %.3f'%(left, saving, did))\n",
    "\n",
    "                    #reset infos\n",
    "                    reverse_dist, old_dist, roller = cls.calc_basis(left+1)\n",
    "                    \n",
    "            print('iter %s done, total swap %s, saves %.3f, time %.1f'%(i,len(best),did,time.time()-iter_start))\n",
    "            print(score(nodes,solution,prime).sum())\n",
    "            print('####################################')\n",
    "            i+=1\n",
    "            if len(best) == 0:\n",
    "                print('zero')\n",
    "                break\n",
    "        return solution\n",
    "    \n",
    "    @classmethod\n",
    "    def calc_reverse(cls,left):\n",
    "        r_solution = cls.solution[left:-1][::-1]\n",
    "        reverse_dist = []\n",
    "        for offset in range(10):\n",
    "            reverse_dist.append(np.cumsum(score(cls.nodes,r_solution,cls.prime,offset)[::-1])[::-1])\n",
    "        reverse_dist = np.array(reverse_dist)\n",
    "        return reverse_dist\n",
    "    \n",
    "    @classmethod\n",
    "    def calc_old_dist(cls, from_node):\n",
    "        offset = from_node%10\n",
    "        return np.cumsum(score(cls.nodes, cls.solution[from_node:],cls.prime, offset=offset))\n",
    "    \n",
    "    @classmethod\n",
    "    def calc_middle(cls, reverse_dist, left):\n",
    "        middle = np.zeros(shape=(reverse_dist.shape[1]))\n",
    "        offset = left%10\n",
    "\n",
    "        for o in range(10):\n",
    "            order = (offset-o)%10\n",
    "            using_reverse = reverse_dist[order]\n",
    "            middle[o::10] = using_reverse[o::10]\n",
    "\n",
    "        reverse_dist[:,:-1] -= reverse_dist[:,-1:]\n",
    "        reverse_dist = reverse_dist[:,:-1]\n",
    "        return middle[::-1], reverse_dist\n",
    "    \n",
    "    @classmethod\n",
    "    def calc_connector(cls, roller, left, node_before_a, node_a):\n",
    "        to_d = roller[:-1].copy()\n",
    "        offset = left%10\n",
    "        if node_before_a not in cls.prime_set and offset == 0:\n",
    "            to_d *= 1.1\n",
    "\n",
    "        roller = distance(cls.nodes[node_a], cls.solution_nodes[left+2:])\n",
    "        if node_a in cls.prime_set:\n",
    "            return to_d, roller, roller  \n",
    "        else:\n",
    "            start_leg = (10-left+2)%10\n",
    "            from_a = roller.copy()\n",
    "            from_a[start_leg::10] *= 1.1\n",
    "            return to_d, from_a, roller\n",
    "    \n",
    "    @classmethod\n",
    "    def calc_save(cls, from_a,to_d,middle,old_dist):\n",
    "        save = from_a+to_d-old_dist[2:]+middle\n",
    "        old_dist[1:] -= old_dist[0]\n",
    "        old_dist = old_dist[1:]\n",
    "\n",
    "        place = np.argmin(save)\n",
    "        saving = save[place]\n",
    "        return place, saving, old_dist\n",
    "    \n",
    "    @classmethod\n",
    "    def calc_basis(cls, start_at):\n",
    "        reverse_dist = cls.calc_reverse(start_at)\n",
    "        old_dist = cls.calc_old_dist(from_node=start_at-1)\n",
    "        roller = distance(cls.nodes[cls.solution[start_at-1]], cls.solution_nodes[start_at-1+2:])\n",
    "\n",
    "        return reverse_dist, old_dist, roller\n",
    "    \n",
    "    @classmethod\n",
    "    def excute_swap(cls,left,place):\n",
    "        target = place+1+left\n",
    "        cls.solution[left:target+1] = cls.solution[target:left-1:-1]\n",
    "        cls.solution_nodes[left:target+1] = cls.solution_nodes[target:left-1:-1]\n"
   ]
  },
  {
   "cell_type": "code",
   "execution_count": 313,
   "metadata": {
    "collapsed": false
   },
   "outputs": [],
   "source": [
    "def calc_reverse(left, nodes, solution):\n",
    "    r_solution = solution[left:-1][::-1]\n",
    "    reverse_dist = []\n",
    "    for offset in range(10):\n",
    "        reverse_dist.append(np.cumsum(score(nodes,r_solution,offset)[::-1])[::-1])\n",
    "    reverse_dist = np.array(reverse_dist)\n",
    "    \n",
    "    return reverse_dist\n",
    "\n",
    "def calc_old_dist(nodes, solution, from_node):\n",
    "    offset = from_node%10\n",
    "    return np.cumsum(score(nodes,solution[from_node:],offset=offset))\n",
    "\n",
    "def calc_middle(reverse_dist, left):\n",
    "    middle = np.zeros(shape=(reverse_dist.shape[1]))\n",
    "    offset = left%10\n",
    "    \n",
    "    for o in range(10):\n",
    "        order = (offset-o)%10\n",
    "        using_reverse = reverse_dist[order]\n",
    "        middle[o::10] = using_reverse[o::10]\n",
    "    \n",
    "    reverse_dist[:,:-1] -= reverse_dist[:,-1:]\n",
    "    reverse_dist = reverse_dist[:,:-1]\n",
    "    return middle[::-1], reverse_dist\n",
    "\n",
    "def calc_connector(nodes, solution_nodes, roller, left, node_before_a, node_a, prime_set):\n",
    "    to_d = roller[:-1].copy()\n",
    "    offset = left%10\n",
    "    if node_before_a not in prime_set and offset == 0:\n",
    "        to_d *= 1.1\n",
    "        \n",
    "    roller = distance(nodes[node_a],solution_nodes[left+2:])\n",
    "    if node_a in prime_set:\n",
    "        return to_d, roller, roller  \n",
    "    else:\n",
    "        start_leg = (10-left+2)%10\n",
    "        from_a = roller.copy()\n",
    "        from_a[start_leg::10] *= 1.1\n",
    "        return to_d, from_a, roller\n",
    "    \n",
    "def calc_save(from_a,to_d,middle,old_dist):\n",
    "    save = from_a+to_d-old_dist[2:]+middle\n",
    "    old_dist[1:] -= old_dist[0]\n",
    "    old_dist = old_dist[1:]\n",
    "    \n",
    "    place = np.argmin(save)\n",
    "    saving = save[place]\n",
    "    return place, saving, old_dist\n",
    "\n",
    "def calc_basis(start_at, nodes, solution, solution_nodes):\n",
    "    reverse_dist = calc_reverse(start_at, nodes, solution)\n",
    "    old_dist = calc_old_dist(nodes, solution,from_node=start_at-1)\n",
    "    roller = distance(nodes[solution[start_at-1]],solution_nodes[start_at-1+2:])\n",
    "    \n",
    "    return reverse_dist, old_dist, roller\n",
    "\n",
    "def excute_swap(left,place,solution,solution_nodes):\n",
    "    target = place+1+left\n",
    "    \n",
    "    solution[left:target+1] = solution[target:left-1:-1]\n",
    "    solution_nodes[left:target+1] = solution_nodes[target:left-1:-1]\n",
    "    "
   ]
  },
  {
   "cell_type": "code",
   "execution_count": 314,
   "metadata": {
    "collapsed": false
   },
   "outputs": [
    {
     "data": {
      "text/plain": [
       "1516912.3751145517"
      ]
     },
     "execution_count": 314,
     "metadata": {},
     "output_type": "execute_result"
    }
   ],
   "source": [
    "solution = pd.read_csv('./solution/base.csv').values[:,0]\n",
    "\n",
    "asd = nodes[solution]\n",
    "df = pd.DataFrame(asd)\n",
    "df.to_csv('asd.csv')\n",
    "solution_nodes = pd.read_csv('asd.csv').iloc[:,1:].values\n",
    "\n",
    "score(nodes,solution).sum()"
   ]
  },
  {
   "cell_type": "code",
   "execution_count": 316,
   "metadata": {
    "collapsed": false
   },
   "outputs": [
    {
     "name": "stdout",
     "output_type": "stream",
     "text": [
      "a: 1041 | saving: -0.738 | cumsave: -0.738\n",
      "a: 1778 | saving: -0.524 | cumsave: -1.262\n",
      "iter 1 done, total swap 2, saves -1.262, time 20.8\n",
      "1516911.1133771057\n",
      "####################################\n"
     ]
    },
    {
     "ename": "KeyboardInterrupt",
     "evalue": "",
     "output_type": "error",
     "traceback": [
      "\u001b[1;31m---------------------------------------------------------------------------\u001b[0m",
      "\u001b[1;31mKeyboardInterrupt\u001b[0m                         Traceback (most recent call last)",
      "\u001b[1;32m<ipython-input-316-f1d4373e668e>\u001b[0m in \u001b[0;36m<module>\u001b[1;34m()\u001b[0m\n\u001b[0;32m     21\u001b[0m         \u001b[0mmiddle\u001b[0m\u001b[1;33m,\u001b[0m \u001b[0mreverse_dist\u001b[0m \u001b[1;33m=\u001b[0m \u001b[0mcalc_middle\u001b[0m\u001b[1;33m(\u001b[0m\u001b[0mreverse_dist\u001b[0m\u001b[1;33m,\u001b[0m \u001b[0mleft\u001b[0m\u001b[1;33m)\u001b[0m\u001b[1;33m\u001b[0m\u001b[0m\n\u001b[0;32m     22\u001b[0m \u001b[1;33m\u001b[0m\u001b[0m\n\u001b[1;32m---> 23\u001b[1;33m         \u001b[0mto_d\u001b[0m\u001b[1;33m,\u001b[0m \u001b[0mfrom_a\u001b[0m\u001b[1;33m,\u001b[0m \u001b[0mroller\u001b[0m \u001b[1;33m=\u001b[0m  \u001b[0mcalc_connector\u001b[0m\u001b[1;33m(\u001b[0m\u001b[0mnodes\u001b[0m\u001b[1;33m,\u001b[0m \u001b[0msolution_nodes\u001b[0m\u001b[1;33m,\u001b[0m \u001b[0mroller\u001b[0m\u001b[1;33m,\u001b[0m \u001b[0mleft\u001b[0m\u001b[1;33m,\u001b[0m \u001b[0mnode_before_a\u001b[0m\u001b[1;33m,\u001b[0m \u001b[0mnode_a\u001b[0m\u001b[1;33m,\u001b[0m \u001b[0mprime_set\u001b[0m\u001b[1;33m)\u001b[0m\u001b[1;33m\u001b[0m\u001b[0m\n\u001b[0m\u001b[0;32m     24\u001b[0m \u001b[1;33m\u001b[0m\u001b[0m\n\u001b[0;32m     25\u001b[0m         \u001b[0mplace\u001b[0m\u001b[1;33m,\u001b[0m \u001b[0msaving\u001b[0m\u001b[1;33m,\u001b[0m \u001b[0mold_dist\u001b[0m \u001b[1;33m=\u001b[0m \u001b[0mcalc_save\u001b[0m\u001b[1;33m(\u001b[0m\u001b[0mfrom_a\u001b[0m\u001b[1;33m,\u001b[0m\u001b[0mto_d\u001b[0m\u001b[1;33m,\u001b[0m\u001b[0mmiddle\u001b[0m\u001b[1;33m,\u001b[0m\u001b[0mold_dist\u001b[0m\u001b[1;33m)\u001b[0m\u001b[1;33m\u001b[0m\u001b[0m\n",
      "\u001b[1;32m<ipython-input-313-4d565c29b857>\u001b[0m in \u001b[0;36mcalc_connector\u001b[1;34m(nodes, solution_nodes, roller, left, node_before_a, node_a, prime_set)\u001b[0m\n\u001b[0;32m     31\u001b[0m         \u001b[0mto_d\u001b[0m \u001b[1;33m*=\u001b[0m \u001b[1;36m1.1\u001b[0m\u001b[1;33m\u001b[0m\u001b[0m\n\u001b[0;32m     32\u001b[0m \u001b[1;33m\u001b[0m\u001b[0m\n\u001b[1;32m---> 33\u001b[1;33m     \u001b[0mroller\u001b[0m \u001b[1;33m=\u001b[0m \u001b[0mdistance\u001b[0m\u001b[1;33m(\u001b[0m\u001b[0mnodes\u001b[0m\u001b[1;33m[\u001b[0m\u001b[0mnode_a\u001b[0m\u001b[1;33m]\u001b[0m\u001b[1;33m,\u001b[0m\u001b[0msolution_nodes\u001b[0m\u001b[1;33m[\u001b[0m\u001b[0mleft\u001b[0m\u001b[1;33m+\u001b[0m\u001b[1;36m2\u001b[0m\u001b[1;33m:\u001b[0m\u001b[1;33m]\u001b[0m\u001b[1;33m)\u001b[0m\u001b[1;33m\u001b[0m\u001b[0m\n\u001b[0m\u001b[0;32m     34\u001b[0m     \u001b[1;32mif\u001b[0m \u001b[0mnode_a\u001b[0m \u001b[1;32min\u001b[0m \u001b[0mprime_set\u001b[0m\u001b[1;33m:\u001b[0m\u001b[1;33m\u001b[0m\u001b[0m\n\u001b[0;32m     35\u001b[0m         \u001b[1;32mreturn\u001b[0m \u001b[0mto_d\u001b[0m\u001b[1;33m,\u001b[0m \u001b[0mroller\u001b[0m\u001b[1;33m,\u001b[0m \u001b[0mroller\u001b[0m\u001b[1;33m\u001b[0m\u001b[0m\n",
      "\u001b[1;32m<ipython-input-312-8d650924900c>\u001b[0m in \u001b[0;36mdistance\u001b[1;34m(coor1, coor2)\u001b[0m\n\u001b[0;32m     13\u001b[0m \u001b[1;33m\u001b[0m\u001b[0m\n\u001b[0;32m     14\u001b[0m \u001b[1;32mdef\u001b[0m \u001b[0mdistance\u001b[0m\u001b[1;33m(\u001b[0m\u001b[0mcoor1\u001b[0m\u001b[1;33m,\u001b[0m\u001b[0mcoor2\u001b[0m\u001b[1;33m)\u001b[0m\u001b[1;33m:\u001b[0m\u001b[1;33m\u001b[0m\u001b[0m\n\u001b[1;32m---> 15\u001b[1;33m     \u001b[1;32mreturn\u001b[0m \u001b[0mnp\u001b[0m\u001b[1;33m.\u001b[0m\u001b[0msqrt\u001b[0m\u001b[1;33m(\u001b[0m\u001b[1;33m(\u001b[0m\u001b[1;33m(\u001b[0m\u001b[0mcoor1\u001b[0m\u001b[1;33m-\u001b[0m\u001b[0mcoor2\u001b[0m\u001b[1;33m)\u001b[0m\u001b[1;33m**\u001b[0m\u001b[1;36m2\u001b[0m\u001b[1;33m)\u001b[0m\u001b[1;33m.\u001b[0m\u001b[0msum\u001b[0m\u001b[1;33m(\u001b[0m\u001b[0maxis\u001b[0m\u001b[1;33m=\u001b[0m\u001b[1;33m-\u001b[0m\u001b[1;36m1\u001b[0m\u001b[1;33m)\u001b[0m\u001b[1;33m)\u001b[0m\u001b[1;33m\u001b[0m\u001b[0m\n\u001b[0m",
      "\u001b[1;32mC:\\ProgramData\\Anaconda3\\lib\\site-packages\\numpy\\core\\_methods.py\u001b[0m in \u001b[0;36m_sum\u001b[1;34m(a, axis, dtype, out, keepdims)\u001b[0m\n\u001b[0;32m     30\u001b[0m \u001b[1;33m\u001b[0m\u001b[0m\n\u001b[0;32m     31\u001b[0m \u001b[1;32mdef\u001b[0m \u001b[0m_sum\u001b[0m\u001b[1;33m(\u001b[0m\u001b[0ma\u001b[0m\u001b[1;33m,\u001b[0m \u001b[0maxis\u001b[0m\u001b[1;33m=\u001b[0m\u001b[1;32mNone\u001b[0m\u001b[1;33m,\u001b[0m \u001b[0mdtype\u001b[0m\u001b[1;33m=\u001b[0m\u001b[1;32mNone\u001b[0m\u001b[1;33m,\u001b[0m \u001b[0mout\u001b[0m\u001b[1;33m=\u001b[0m\u001b[1;32mNone\u001b[0m\u001b[1;33m,\u001b[0m \u001b[0mkeepdims\u001b[0m\u001b[1;33m=\u001b[0m\u001b[1;32mFalse\u001b[0m\u001b[1;33m)\u001b[0m\u001b[1;33m:\u001b[0m\u001b[1;33m\u001b[0m\u001b[0m\n\u001b[1;32m---> 32\u001b[1;33m     \u001b[1;32mreturn\u001b[0m \u001b[0mumr_sum\u001b[0m\u001b[1;33m(\u001b[0m\u001b[0ma\u001b[0m\u001b[1;33m,\u001b[0m \u001b[0maxis\u001b[0m\u001b[1;33m,\u001b[0m \u001b[0mdtype\u001b[0m\u001b[1;33m,\u001b[0m \u001b[0mout\u001b[0m\u001b[1;33m,\u001b[0m \u001b[0mkeepdims\u001b[0m\u001b[1;33m)\u001b[0m\u001b[1;33m\u001b[0m\u001b[0m\n\u001b[0m\u001b[0;32m     33\u001b[0m \u001b[1;33m\u001b[0m\u001b[0m\n\u001b[0;32m     34\u001b[0m \u001b[1;32mdef\u001b[0m \u001b[0m_prod\u001b[0m\u001b[1;33m(\u001b[0m\u001b[0ma\u001b[0m\u001b[1;33m,\u001b[0m \u001b[0maxis\u001b[0m\u001b[1;33m=\u001b[0m\u001b[1;32mNone\u001b[0m\u001b[1;33m,\u001b[0m \u001b[0mdtype\u001b[0m\u001b[1;33m=\u001b[0m\u001b[1;32mNone\u001b[0m\u001b[1;33m,\u001b[0m \u001b[0mout\u001b[0m\u001b[1;33m=\u001b[0m\u001b[1;32mNone\u001b[0m\u001b[1;33m,\u001b[0m \u001b[0mkeepdims\u001b[0m\u001b[1;33m=\u001b[0m\u001b[1;32mFalse\u001b[0m\u001b[1;33m)\u001b[0m\u001b[1;33m:\u001b[0m\u001b[1;33m\u001b[0m\u001b[0m\n",
      "\u001b[1;31mKeyboardInterrupt\u001b[0m: "
     ]
    }
   ],
   "source": [
    "bests = []\n",
    "dids = []\n",
    "\n",
    "start = time.time()\n",
    "\n",
    "i=1\n",
    "iter_num = 5\n",
    "start_at = 1\n",
    "run_through = 2000\n",
    "\n",
    "while i <= iter_num:\n",
    "    iter_start = time.time()\n",
    "    best = []\n",
    "    did = 0\n",
    "    \n",
    "    reverse_dist, old_dist, roller = calc_basis(start_at, nodes, solution, solution_nodes)\n",
    "\n",
    "    for left in range(start_at, run_through):\n",
    "        node_before_a, node_a = solution[left-1:left+1]\n",
    "\n",
    "        middle, reverse_dist = calc_middle(reverse_dist, left)\n",
    "\n",
    "        to_d, from_a, roller =  calc_connector(nodes, solution_nodes, roller, left, node_before_a, node_a, prime_set)\n",
    "\n",
    "        place, saving, old_dist = calc_save(from_a,to_d,middle,old_dist)\n",
    "        \n",
    "        if saving<0:\n",
    "            \n",
    "            best.append(saving)\n",
    "            did += saving\n",
    "            target = place+1+left\n",
    "            \n",
    "            #execute swap\n",
    "            excute_swap(left,place,solution,solution_nodes)\n",
    "            print('a: %s | saving: %.3f | cumsave: %.3f'%(left, saving, did))\n",
    "            \n",
    "            #reset infos\n",
    "            reverse_dist, old_dist, roller = calc_basis(left+1, nodes, solution, solution_nodes)\n",
    "\n",
    "    #pd.DataFrame({'Path':solution}).to_csv('./solution/neos_iter_%s.csv'%(i+1),index=False)\n",
    "    bests.append(best)\n",
    "    dids.append(did)\n",
    "    print('iter %s done, total swap %s, saves %.3f, time %.1f'%(i,len(best),did,time.time()-iter_start))\n",
    "    print(score(nodes,solution).sum())\n",
    "    print('####################################')\n",
    "    i+=1\n",
    "    if len(best) == 0:\n",
    "        print('zero')\n",
    "        break\n",
    "print(time.time()-start)"
   ]
  },
  {
   "cell_type": "code",
   "execution_count": null,
   "metadata": {
    "collapsed": true
   },
   "outputs": [],
   "source": []
  },
  {
   "cell_type": "code",
   "execution_count": null,
   "metadata": {
    "collapsed": true
   },
   "outputs": [],
   "source": []
  },
  {
   "cell_type": "code",
   "execution_count": null,
   "metadata": {
    "collapsed": true
   },
   "outputs": [],
   "source": []
  },
  {
   "cell_type": "code",
   "execution_count": null,
   "metadata": {
    "collapsed": true
   },
   "outputs": [],
   "source": []
  },
  {
   "cell_type": "markdown",
   "metadata": {},
   "source": [
    "# UTILITY"
   ]
  },
  {
   "cell_type": "code",
   "execution_count": 20,
   "metadata": {
    "collapsed": false
   },
   "outputs": [],
   "source": [
    "#write result\n",
    "pd.DataFrame({'Path':solution}).to_csv(path+'solution/submit2.csv',index=False)"
   ]
  },
  {
   "cell_type": "code",
   "execution_count": 21,
   "metadata": {
    "collapsed": true
   },
   "outputs": [],
   "source": [
    "#make .tsp problem\n",
    "fname = path + 'problem/santa.tsp'\n",
    "with open(fname, 'w') as f:\n",
    "    f.write('NAME : santa\\n')\n",
    "    f.write('COMMENT : santa\\n')\n",
    "    f.write('TYPE : TSP\\n')\n",
    "    f.write('DIMENSION : %d\\n' % n)\n",
    "    f.write('EDGE_WEIGHT_TYPE : EUC_2D\\n')\n",
    "    f.write('NODE_COORD_SECTION\\n')\n",
    "    for idx,node in enumerate(nodes):\n",
    "        x,y=node*100000\n",
    "        f.write('%s %s %s\\n' % (idx+1,x,y))\n",
    "    f.write('EOF\\n')"
   ]
  },
  {
   "cell_type": "code",
   "execution_count": 24,
   "metadata": {
    "collapsed": true
   },
   "outputs": [],
   "source": [
    "#read neos html\n",
    "fname = path + 'solution/neos2.html'\n",
    "l = 1\n",
    "sol = []\n",
    "with open(fname, 'r') as f:\n",
    "    while l< 207274:\n",
    "        line = f.readline()\n",
    "        if l>=9505:\n",
    "            sol.append(int(line.split(' ')[0]))\n",
    "        l += 1\n",
    "sol.append(0)\n",
    "solution = np.array(sol)"
   ]
  },
  {
   "cell_type": "code",
   "execution_count": 279,
   "metadata": {
    "collapsed": false
   },
   "outputs": [
    {
     "name": "stdout",
     "output_type": "stream",
     "text": [
      "True\n"
     ]
    }
   ],
   "source": [
    "#2-opt manual check calcucation\n",
    "a,d = 185337,186129 \n",
    "a_pre,d_nex = a-1,d+1\n",
    "\n",
    "node_a,node_d,node_a_pre,node_d_nex = solution[[a,d,a_pre,d_nex]]\n",
    "old = score(solution)[a_pre:d_nex].sum()\n",
    "\n",
    "to_d  = distance(nodes[node_a_pre],nodes[node_d])\n",
    "from_a = distance(nodes[node_a],nodes[node_d_nex])\n",
    "check = (d+1)%10 ==0 and node_a not in prime\n",
    "print(check)\n",
    "if check:\n",
    "    from_a*=1.1\n",
    "\n",
    "partial = solution[185337:186129+1][::-1]\n",
    "total = score(partial,offset = a%10).sum()"
   ]
  },
  {
   "cell_type": "markdown",
   "metadata": {},
   "source": [
    "# node swap"
   ]
  },
  {
   "cell_type": "code",
   "execution_count": 283,
   "metadata": {
    "collapsed": false
   },
   "outputs": [
    {
     "name": "stdout",
     "output_type": "stream",
     "text": [
      "10000 127.05045962333679\n",
      "20000 114.68600010871887\n",
      "30000 109.48599982261658\n",
      "40000 103.19978618621826\n",
      "50000 94.87000012397766\n",
      "60000 89.02499985694885\n",
      "70000 75.71099996566772\n",
      "80000 52.21399998664856\n",
      "90000 47.068000078201294\n",
      "100000 42.63800001144409\n",
      "110000 38.1710000038147\n",
      "120000 33.9300000667572\n",
      "130000 30.115999937057495\n",
      "140000 23.044999837875366\n",
      "150000 18.130000114440918\n",
      "160000 15.259000062942505\n",
      "170000 10.917999982833862\n",
      "180000 7.343999862670898\n",
      "190000 4.000999927520752\n",
      "1038.1812453269958\n",
      "0\n"
     ]
    },
    {
     "data": {
      "text/plain": [
       "1516677.4252172827"
      ]
     },
     "execution_count": 283,
     "metadata": {},
     "output_type": "execute_result"
    }
   ],
   "source": [
    "start = time.time()\n",
    "\n",
    "#every iter\n",
    "coor = nodes[solution]\n",
    "dist = score(solution)\n",
    "neighbor = pd.DataFrame({'d':dist}).d.rolling(2,center=True).sum().values\n",
    "oldnext = pd.DataFrame({'d':dist}).d.rolling(3,center=True).sum().values\n",
    "notprime = ~np.isin(solution[:-1], prime)\n",
    "isten = (np.arange(n)+1)%10==0\n",
    "isextra = isten&notprime\n",
    "better = 0\n",
    "\n",
    "time_a = time.time()\n",
    "\n",
    "cur = np.append([0],distance(coor[0],coor))\n",
    "nex = np.append([0],distance(coor[1],coor))\n",
    "\n",
    "swap = {}\n",
    "for left in range(1,n-1):\n",
    "#every left\n",
    "    pre_coor, left_coor, next_coor = coor[left-1:left+2]\n",
    "    adj_dist = distance(left_coor, next_coor)\n",
    "    \n",
    "    FROM_FLAG = (left+1)%10 == 0\n",
    "    TO_FLAG = left%10 == 0\n",
    "    LEFT_FLAG = notprime[left]\n",
    "    LEFT_pre_FLAG = notprime[left-1]\n",
    "    LEFT_nex_FLAG = notprime[left+1]\n",
    "    \n",
    "    ##old cost\n",
    "    left_nb = neighbor[left]\n",
    "    old_cost = neighbor[left:] + left_nb\n",
    "    old_cost[0] = 0\n",
    "    old_cost[1] = oldnext[left]\n",
    "\n",
    "    ##new cost\n",
    "    pre = cur[1:]\n",
    "    \n",
    "    cur = nex[1:]\n",
    "    \n",
    "    nex = distance(next_coor,coor[left-1:])\n",
    "\n",
    "    cur_1 = cur[:-2]\n",
    "    cur_2 = cur[2:]\n",
    "    pre_ = pre[1:-1]\n",
    "    nex_ = nex[1:-1]\n",
    "    \n",
    "    if TO_FLAG & LEFT_pre_FLAG:\n",
    "        pre_ = pre_ + pre_*0.1\n",
    "    if FROM_FLAG:\n",
    "        nex_ = nex_ + nex_*notprime[left:]*0.1\n",
    "        \n",
    "    cur_1 = cur_1 + cur_1*isextra[left-1:-1]*0.1\n",
    "    \n",
    "    if LEFT_FLAG:\n",
    "        cur_2 = cur_2 + cur_2*isten[left:]*0.1\n",
    "    \n",
    "    if FROM_FLAG & LEFT_nex_FLAG:\n",
    "        adj_dist *= 1.1\n",
    "    new_cost = pre_ + nex_ + cur_1 + cur_2\n",
    "    \n",
    "    \n",
    "    new_cost[0] = 0\n",
    "    new_cost[1] += adj_dist\n",
    "    \n",
    "    save = old_cost - new_cost\n",
    "    good = np.where(save>0)[0]\n",
    "    \n",
    "    if len(good)>0:\n",
    "        good_save = save[good]\n",
    "        swap[left] = [good+left,good_save]\n",
    "    \n",
    "    if left%10000 == 0:\n",
    "        time_b = time.time()\n",
    "        print(left,time_b-time_a)\n",
    "        time_a = time_b\n",
    "print(time.time()-start)\n",
    "print(len(swap))\n",
    "###############################################\n",
    "bk = set()\n",
    "candidate = []\n",
    "for left in swap:\n",
    "    right,improve = swap[left]\n",
    "    for i in range(len(right)):\n",
    "        candidate.append((improve[i],right[i],left))\n",
    "        \n",
    "candidate = sorted(candidate)[::-1]\n",
    "l=[]\n",
    "r=[]\n",
    "for improve,left,right in candidate:\n",
    "    fill = [left-1,left,left+1,right-1,right,right+1]\n",
    "    fill = [not (x in bk) for x in fill]\n",
    "    if all(fill):\n",
    "        l.append(left)\n",
    "        r.append(right)\n",
    "        bk.add(left-1)\n",
    "        bk.add(left)\n",
    "        bk.add(left+1)\n",
    "        bk.add(right-1)\n",
    "        bk.add(right)\n",
    "        bk.add(right+1)\n",
    "\n",
    "buf = solution[l]\n",
    "solution[l] = solution[r]\n",
    "solution[r] = buf\n",
    "\n",
    "score(solution).sum()"
   ]
  }
 ],
 "metadata": {
  "kernelspec": {
   "display_name": "Python 3",
   "language": "python",
   "name": "python3"
  },
  "language_info": {
   "codemirror_mode": {
    "name": "ipython",
    "version": 3
   },
   "file_extension": ".py",
   "mimetype": "text/x-python",
   "name": "python",
   "nbconvert_exporter": "python",
   "pygments_lexer": "ipython3",
   "version": "3.6.0"
  }
 },
 "nbformat": 4,
 "nbformat_minor": 2
}
