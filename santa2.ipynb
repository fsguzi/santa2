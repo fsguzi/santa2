{
 "cells": [
  {
   "cell_type": "code",
   "execution_count": 1,
   "metadata": {
    "collapsed": true
   },
   "outputs": [],
   "source": [
    "import pandas as pd\n",
    "import numpy as np\n",
    "import matplotlib.pyplot as plt\n",
    "%matplotlib inline\n",
    "from sympy import sieve\n",
    "import time"
   ]
  },
  {
   "cell_type": "code",
   "execution_count": 2,
   "metadata": {
    "collapsed": false
   },
   "outputs": [],
   "source": [
    "nodes = pd.read_csv('./problem/cities.csv')\n",
    "nodes = nodes.iloc[:,1:].values\n",
    "n = len(nodes)\n",
    "prime_ = sieve.primerange(0,n)\n",
    "prime = list(prime_)"
   ]
  },
  {
   "cell_type": "code",
   "execution_count": 3,
   "metadata": {
    "collapsed": false
   },
   "outputs": [],
   "source": [
    "def score(solution,offset=0,raw=False):\n",
    "    s = nodes[solution[:-1]]\n",
    "    e = nodes[solution[1:]]\n",
    "    out = distance(s,e)\n",
    "    n = len(s)\n",
    "    if raw:\n",
    "        return out\n",
    "    isten = (np.arange(n)+1+offset)%10==0\n",
    "    notprime = ~np.isin(solution[:-1],prime)\n",
    "    isextra = (isten&notprime)*0.1\n",
    "    out += out*isextra\n",
    "    return out\n",
    "\n",
    "def distance(coor1,coor2):\n",
    "    return np.sqrt(((coor1-coor2)**2).sum(axis=-1))\n"
   ]
  },
  {
   "cell_type": "code",
   "execution_count": 270,
   "metadata": {
    "collapsed": false
   },
   "outputs": [
    {
     "data": {
      "text/plain": [
       "1516912.3751145517"
      ]
     },
     "execution_count": 270,
     "metadata": {},
     "output_type": "execute_result"
    }
   ],
   "source": [
    "solution = pd.read_csv('./solution/base.csv').values[:,0]\n",
    "score(solution).sum()"
   ]
  },
  {
   "cell_type": "code",
   "execution_count": 271,
   "metadata": {
    "collapsed": false
   },
   "outputs": [],
   "source": [
    "def calc_reverse(left, solution):\n",
    "    r_solution = solution[left:-1][::-1]\n",
    "    reverse_dist = []\n",
    "    for offset in range(10):\n",
    "        reverse_dist.append(np.cumsum(score(r_solution,offset)[::-1])[::-1])\n",
    "    reverse_dist = np.array(reverse_dist)\n",
    "    \n",
    "    return reverse_dist\n",
    "\n",
    "def calc_old_dist(solution,from_node):\n",
    "    offset = from_node%10\n",
    "    return np.cumsum(score(solution[from_node:],offset=offset))\n",
    "\n",
    "def calc_middle(reverse_dist, offset):\n",
    "    middle = np.zeros(shape=(reverse_dist.shape[1]))\n",
    "    for o in range(10):\n",
    "        order = (offset-o)%10\n",
    "        using_reverse = reverse_dist[order]\n",
    "        middle[o::10] = using_reverse[o::10]\n",
    "    \n",
    "    reverse_dist[:,:-1] -= reverse_dist[:,-1:]\n",
    "    reverse_dist = reverse_dist[:,:-1]\n",
    "    return middle[::-1], reverse_dist\n",
    "\n",
    "def calc_connector(roller, left, node_before_a, node_a):\n",
    "    to_d = roller[:-1]\n",
    "    offset = left%10\n",
    "    if node_before_a not in prime and offset == 0:\n",
    "        to_d = to_d*1.1\n",
    "    \n",
    "    roller = distance(nodes[node_a],nodes[solution[left+2:]])\n",
    "    if node_a not in prime:\n",
    "        from_a = roller + roller*isten[left+1:]*0.1\n",
    "    else:\n",
    "        from_a = roller \n",
    "    \n",
    "    return to_d, from_a, roller\n",
    "        \n",
    "#def print_on_iter(iter_num)"
   ]
  },
  {
   "cell_type": "code",
   "execution_count": 272,
   "metadata": {
    "collapsed": false
   },
   "outputs": [
    {
     "name": "stdout",
     "output_type": "stream",
     "text": [
      "a: 1041 | d: 167717 | saving: -0.738 | cumsave: -0.738\n",
      "a: 1778 | d: 1779 | saving: -0.524 | cumsave: -1.262\n",
      "a: 8021 | d: 12731 | saving: -3.262 | cumsave: -4.524\n",
      "a: 8022 | d: 12731 | saving: -6.717 | cumsave: -11.241\n",
      "a: 8681 | d: 10199 | saving: -0.364 | cumsave: -11.605\n",
      "a: 8763 | d: 10342 | saving: -1.999 | cumsave: -13.604\n",
      "a: 14707 | d: 149066 | saving: -8.762 | cumsave: -22.366\n",
      "a: 17001 | d: 21910 | saving: -3.304 | cumsave: -25.669\n",
      "a: 17998 | d: 18827 | saving: -0.421 | cumsave: -26.090\n",
      "a: 19310 | d: 47497 | saving: -6.297 | cumsave: -32.388\n",
      "a: 19311 | d: 47497 | saving: -6.463 | cumsave: -38.851\n",
      "a: 20718 | d: 21672 | saving: -0.009 | cumsave: -38.860\n",
      "a: 25667 | d: 26344 | saving: -0.377 | cumsave: -39.237\n",
      "a: 25962 | d: 28632 | saving: -3.525 | cumsave: -42.761\n",
      "a: 26454 | d: 31189 | saving: -0.958 | cumsave: -43.720\n",
      "a: 29721 | d: 137167 | saving: -0.050 | cumsave: -43.769\n",
      "a: 31819 | d: 71484 | saving: -4.014 | cumsave: -47.783\n",
      "a: 31828 | d: 71490 | saving: -3.867 | cumsave: -51.651\n",
      "a: 34927 | d: 142501 | saving: -0.877 | cumsave: -52.528\n",
      "a: 36390 | d: 39313 | saving: -1.815 | cumsave: -54.343\n",
      "a: 36579 | d: 36580 | saving: -0.035 | cumsave: -54.378\n",
      "a: 42990 | d: 43419 | saving: -0.093 | cumsave: -54.471\n",
      "a: 44985 | d: 45741 | saving: -1.087 | cumsave: -55.558\n",
      "a: 47580 | d: 74711 | saving: -0.993 | cumsave: -56.551\n",
      "a: 47671 | d: 74897 | saving: -1.430 | cumsave: -57.981\n",
      "a: 49668 | d: 49669 | saving: -0.021 | cumsave: -58.002\n",
      "a: 50668 | d: 50669 | saving: -0.375 | cumsave: -58.377\n",
      "a: 56271 | d: 67919 | saving: -3.840 | cumsave: -62.218\n",
      "a: 57163 | d: 58660 | saving: -3.121 | cumsave: -65.338\n",
      "a: 57501 | d: 62901 | saving: -0.322 | cumsave: -65.660\n",
      "a: 58832 | d: 159446 | saving: -1.710 | cumsave: -67.370\n",
      "a: 59270 | d: 63825 | saving: -0.679 | cumsave: -68.049\n",
      "a: 60296 | d: 64248 | saving: -0.481 | cumsave: -68.530\n",
      "a: 60719 | d: 60721 | saving: -6.755 | cumsave: -75.285\n",
      "a: 61117 | d: 159971 | saving: -2.734 | cumsave: -78.019\n",
      "a: 61904 | d: 63549 | saving: -2.194 | cumsave: -80.213\n",
      "a: 62085 | d: 63603 | saving: -0.613 | cumsave: -80.826\n",
      "a: 64705 | d: 65607 | saving: -0.444 | cumsave: -81.270\n",
      "a: 78646 | d: 79371 | saving: -1.061 | cumsave: -82.331\n",
      "a: 78799 | d: 85809 | saving: -0.286 | cumsave: -82.617\n",
      "a: 78819 | d: 94321 | saving: -2.407 | cumsave: -85.024\n",
      "a: 79031 | d: 106107 | saving: -1.438 | cumsave: -86.462\n",
      "a: 79597 | d: 106584 | saving: -5.829 | cumsave: -92.290\n",
      "a: 82799 | d: 107014 | saving: -0.183 | cumsave: -92.473\n",
      "a: 85811 | d: 93982 | saving: -1.940 | cumsave: -94.412\n",
      "a: 96564 | d: 97718 | saving: -0.242 | cumsave: -94.654\n",
      "a: 103373 | d: 104974 | saving: -0.046 | cumsave: -94.700\n",
      "a: 103831 | d: 105884 | saving: -0.406 | cumsave: -95.106\n",
      "a: 104470 | d: 104471 | saving: -0.044 | cumsave: -95.150\n",
      "a: 108829 | d: 109818 | saving: -1.610 | cumsave: -96.760\n",
      "a: 108830 | d: 109818 | saving: -3.730 | cumsave: -100.490\n",
      "a: 110952 | d: 134593 | saving: -2.173 | cumsave: -102.663\n",
      "a: 111553 | d: 114161 | saving: -0.864 | cumsave: -103.527\n",
      "a: 117418 | d: 118291 | saving: -0.071 | cumsave: -103.597\n",
      "a: 117488 | d: 119344 | saving: -0.279 | cumsave: -103.877\n",
      "a: 117835 | d: 122904 | saving: -3.251 | cumsave: -107.128\n",
      "a: 125340 | d: 133923 | saving: -1.095 | cumsave: -108.222\n",
      "a: 128991 | d: 133302 | saving: -0.293 | cumsave: -108.515\n",
      "a: 132298 | d: 132299 | saving: -0.444 | cumsave: -108.959\n",
      "a: 136129 | d: 136130 | saving: -0.447 | cumsave: -109.406\n",
      "a: 137268 | d: 137269 | saving: -0.060 | cumsave: -109.466\n",
      "a: 138997 | d: 140108 | saving: -0.501 | cumsave: -109.967\n",
      "a: 139585 | d: 142127 | saving: -0.984 | cumsave: -110.952\n",
      "a: 139771 | d: 142837 | saving: -0.630 | cumsave: -111.582\n",
      "a: 153108 | d: 153109 | saving: -0.476 | cumsave: -112.058\n",
      "a: 155661 | d: 156450 | saving: -0.058 | cumsave: -112.116\n",
      "a: 157620 | d: 159561 | saving: -0.287 | cumsave: -112.403\n",
      "a: 157831 | d: 162166 | saving: -2.642 | cumsave: -115.045\n",
      "a: 158092 | d: 159341 | saving: -0.868 | cumsave: -115.913\n",
      "a: 163491 | d: 166751 | saving: -5.404 | cumsave: -121.317\n",
      "a: 163699 | d: 166809 | saving: -0.687 | cumsave: -122.005\n",
      "a: 170286 | d: 196331 | saving: -1.614 | cumsave: -123.619\n",
      "a: 171532 | d: 180476 | saving: -0.101 | cumsave: -123.720\n",
      "a: 171533 | d: 180476 | saving: -0.719 | cumsave: -124.439\n",
      "a: 171551 | d: 180435 | saving: -0.074 | cumsave: -124.514\n",
      "a: 171562 | d: 173423 | saving: -0.088 | cumsave: -124.602\n",
      "a: 171659 | d: 173499 | saving: -1.962 | cumsave: -126.563\n",
      "a: 174227 | d: 178450 | saving: -2.329 | cumsave: -128.892\n",
      "a: 185337 | d: 186129 | saving: -0.181 | cumsave: -129.073\n",
      "a: 187528 | d: 187529 | saving: -0.201 | cumsave: -129.274\n",
      "a: 188062 | d: 195467 | saving: -1.298 | cumsave: -130.572\n",
      "a: 188069 | d: 195473 | saving: -2.608 | cumsave: -133.180\n",
      "a: 191077 | d: 191909 | saving: -1.823 | cumsave: -135.004\n"
     ]
    },
    {
     "ename": "TypeError",
     "evalue": "must be str, not int",
     "output_type": "error",
     "traceback": [
      "\u001b[1;31m---------------------------------------------------------------------------\u001b[0m",
      "\u001b[1;31mTypeError\u001b[0m                                 Traceback (most recent call last)",
      "\u001b[1;32m<ipython-input-272-e5bd0bcdd991>\u001b[0m in \u001b[0;36m<module>\u001b[1;34m()\u001b[0m\n\u001b[0;32m     42\u001b[0m             \u001b[0mroller\u001b[0m \u001b[1;33m=\u001b[0m \u001b[0mdistance\u001b[0m\u001b[1;33m(\u001b[0m\u001b[0mnodes\u001b[0m\u001b[1;33m[\u001b[0m\u001b[0msolution\u001b[0m\u001b[1;33m[\u001b[0m\u001b[0mleft\u001b[0m\u001b[1;33m]\u001b[0m\u001b[1;33m]\u001b[0m\u001b[1;33m,\u001b[0m\u001b[0mnodes\u001b[0m\u001b[1;33m[\u001b[0m\u001b[0msolution\u001b[0m\u001b[1;33m[\u001b[0m\u001b[0mleft\u001b[0m\u001b[1;33m+\u001b[0m\u001b[1;36m2\u001b[0m\u001b[1;33m:\u001b[0m\u001b[1;33m]\u001b[0m\u001b[1;33m]\u001b[0m\u001b[1;33m)\u001b[0m\u001b[1;33m\u001b[0m\u001b[0m\n\u001b[0;32m     43\u001b[0m \u001b[1;33m\u001b[0m\u001b[0m\n\u001b[1;32m---> 44\u001b[1;33m     \u001b[0mpd\u001b[0m\u001b[1;33m.\u001b[0m\u001b[0mDataFrame\u001b[0m\u001b[1;33m(\u001b[0m\u001b[1;33m{\u001b[0m\u001b[1;34m'Path'\u001b[0m\u001b[1;33m:\u001b[0m\u001b[0msolution\u001b[0m\u001b[1;33m}\u001b[0m\u001b[1;33m)\u001b[0m\u001b[1;33m.\u001b[0m\u001b[0mto_csv\u001b[0m\u001b[1;33m(\u001b[0m\u001b[1;34m'./solution/iter_%s.csv'\u001b[0m\u001b[1;33m%\u001b[0m\u001b[0mi\u001b[0m\u001b[1;33m+\u001b[0m\u001b[1;36m1\u001b[0m\u001b[1;33m,\u001b[0m\u001b[0mindex\u001b[0m\u001b[1;33m=\u001b[0m\u001b[1;32mFalse\u001b[0m\u001b[1;33m)\u001b[0m\u001b[1;33m\u001b[0m\u001b[0m\n\u001b[0m\u001b[0;32m     45\u001b[0m     \u001b[0mbests\u001b[0m\u001b[1;33m.\u001b[0m\u001b[0mappend\u001b[0m\u001b[1;33m(\u001b[0m\u001b[0mbest\u001b[0m\u001b[1;33m)\u001b[0m\u001b[1;33m\u001b[0m\u001b[0m\n\u001b[0;32m     46\u001b[0m     \u001b[0mdids\u001b[0m\u001b[1;33m.\u001b[0m\u001b[0mappend\u001b[0m\u001b[1;33m(\u001b[0m\u001b[0mdid\u001b[0m\u001b[1;33m)\u001b[0m\u001b[1;33m\u001b[0m\u001b[0m\n",
      "\u001b[1;31mTypeError\u001b[0m: must be str, not int"
     ]
    }
   ],
   "source": [
    "bests = []\n",
    "dids = []\n",
    "\n",
    "start = time.time()\n",
    "\n",
    "for i in range(1,5):\n",
    "    best = []\n",
    "    did = 0\n",
    "    \n",
    "    isten = (np.arange(n)+1)%10==0\n",
    "    reverse_dist = calc_reverse(1, solution)\n",
    "    old_dist = calc_old_dist(solution,from_node=0)\n",
    "\n",
    "    roller = distance(nodes[solution[0]],nodes[solution[0+2:]])\n",
    "\n",
    "\n",
    "    for left in range(1,n-1):\n",
    "        node_before_a, node_a = solution[left-1:left+1]\n",
    "        offset = left%10\n",
    "\n",
    "        middle, reverse_dist = calc_middle(reverse_dist, offset)\n",
    "\n",
    "        to_d, from_a, roller =  calc_connector(roller, left, node_before_a, node_a)\n",
    "\n",
    "\n",
    "        save = from_a+middle+to_d-old_dist[2:]\n",
    "        old_dist[1:] -= old_dist[0]\n",
    "        old_dist = old_dist[1:]\n",
    "\n",
    "        place = np.argmin(save)\n",
    "        saving = save[place]\n",
    "        if saving<0:\n",
    "            best.append(saving)\n",
    "            did += saving\n",
    "\n",
    "            target = np.argmin(save)+1+left\n",
    "            solution[left:target+1] = solution[left:target+1][::-1]\n",
    "\n",
    "            print('a: %s | d: %s | saving: %.3f | cumsave: %.3f'%(left, target, saving, did))\n",
    "            reverse_dist = calc_reverse(left+1, solution)\n",
    "            old_dist = calc_old_dist(solution,left)\n",
    "            roller = distance(nodes[solution[left]],nodes[solution[left+2:]])\n",
    "\n",
    "    pd.DataFrame({'Path':solution}).to_csv('./solution/iter_%s.csv'(%i+1),index=False)\n",
    "    bests.append(best)\n",
    "    dids.append(did)\n",
    "    print('iter %s done, total swap %s, saves %.3f'%(i+1,len(best),did))\n",
    "    print('####################################')"
   ]
  },
  {
   "cell_type": "code",
   "execution_count": 277,
   "metadata": {
    "collapsed": false
   },
   "outputs": [
    {
     "data": {
      "text/plain": [
       "1516777.3712323203"
      ]
     },
     "execution_count": 277,
     "metadata": {},
     "output_type": "execute_result"
    }
   ],
   "source": [
    "score(solution).sum()"
   ]
  },
  {
   "cell_type": "code",
   "execution_count": 276,
   "metadata": {
    "collapsed": false
   },
   "outputs": [
    {
     "data": {
      "text/plain": [
       "135.00388223142363"
      ]
     },
     "execution_count": 276,
     "metadata": {},
     "output_type": "execute_result"
    }
   ],
   "source": [
    "1516912.3751145517-score(solution).sum()"
   ]
  },
  {
   "cell_type": "code",
   "execution_count": 262,
   "metadata": {
    "collapsed": false
   },
   "outputs": [
    {
     "data": {
      "text/plain": [
       "-1.2617374440491105"
      ]
     },
     "execution_count": 262,
     "metadata": {},
     "output_type": "execute_result"
    }
   ],
   "source": [
    "sum(best)"
   ]
  },
  {
   "cell_type": "markdown",
   "metadata": {},
   "source": [
    "# UTILITY"
   ]
  },
  {
   "cell_type": "code",
   "execution_count": 20,
   "metadata": {
    "collapsed": false
   },
   "outputs": [],
   "source": [
    "#write result\n",
    "pd.DataFrame({'Path':solution}).to_csv(path+'solution/submit2.csv',index=False)"
   ]
  },
  {
   "cell_type": "code",
   "execution_count": 21,
   "metadata": {
    "collapsed": true
   },
   "outputs": [],
   "source": [
    "#make .tsp problem\n",
    "fname = path + 'problem/santa.tsp'\n",
    "with open(fname, 'w') as f:\n",
    "    f.write('NAME : santa\\n')\n",
    "    f.write('COMMENT : santa\\n')\n",
    "    f.write('TYPE : TSP\\n')\n",
    "    f.write('DIMENSION : %d\\n' % n)\n",
    "    f.write('EDGE_WEIGHT_TYPE : EUC_2D\\n')\n",
    "    f.write('NODE_COORD_SECTION\\n')\n",
    "    for idx,node in enumerate(nodes):\n",
    "        x,y=node*100000\n",
    "        f.write('%s %s %s\\n' % (idx+1,x,y))\n",
    "    f.write('EOF\\n')"
   ]
  },
  {
   "cell_type": "code",
   "execution_count": 24,
   "metadata": {
    "collapsed": true
   },
   "outputs": [],
   "source": [
    "#read neos html\n",
    "fname = path + 'solution/neos2.html'\n",
    "l = 1\n",
    "sol = []\n",
    "with open(fname, 'r') as f:\n",
    "    while l< 207274:\n",
    "        line = f.readline()\n",
    "        if l>=9505:\n",
    "            sol.append(int(line.split(' ')[0]))\n",
    "        l += 1\n",
    "sol.append(0)\n",
    "solution = np.array(sol)"
   ]
  },
  {
   "cell_type": "markdown",
   "metadata": {},
   "source": [
    "# node swap"
   ]
  },
  {
   "cell_type": "code",
   "execution_count": null,
   "metadata": {
    "collapsed": false
   },
   "outputs": [
    {
     "name": "stdout",
     "output_type": "stream",
     "text": [
      "10000 130.5129473209381\n",
      "20000 119.38748025894165\n"
     ]
    }
   ],
   "source": [
    "start = time.time()\n",
    "\n",
    "#every iter\n",
    "coor = nodes[solution]\n",
    "dist = score(solution)\n",
    "neighbor = pd.DataFrame({'d':dist}).d.rolling(2,center=True).sum().values\n",
    "oldnext = pd.DataFrame({'d':dist}).d.rolling(3,center=True).sum().values\n",
    "notprime = ~np.isin(solution[:-1], prime)\n",
    "isten = (np.arange(n)+1)%10==0\n",
    "isextra = isten&notprime\n",
    "better = 0\n",
    "\n",
    "time_a = time.time()\n",
    "\n",
    "cur = np.append([0],distance(coor[0],coor))\n",
    "nex = np.append([0],distance(coor[1],coor))\n",
    "\n",
    "swap = {}\n",
    "for left in range(1,n-1):\n",
    "#every left\n",
    "    pre_coor, left_coor, next_coor = coor[left-1:left+2]\n",
    "    adj_dist = distance(left_coor, next_coor)\n",
    "    \n",
    "    FROM_FLAG = (left+1)%10 == 0\n",
    "    TO_FLAG = left%10 == 0\n",
    "    LEFT_FLAG = notprime[left]\n",
    "    LEFT_pre_FLAG = notprime[left-1]\n",
    "    LEFT_nex_FLAG = notprime[left+1]\n",
    "    \n",
    "    ##old cost\n",
    "    left_nb = neighbor[left]\n",
    "    old_cost = neighbor[left:] + left_nb\n",
    "    old_cost[0] = 0\n",
    "    old_cost[1] = oldnext[left]\n",
    "\n",
    "    ##new cost\n",
    "    pre = cur[1:]\n",
    "    \n",
    "    cur = nex[1:]\n",
    "    \n",
    "    nex = distance(next_coor,coor[left-1:])\n",
    "\n",
    "    cur_1 = cur[:-2]\n",
    "    cur_2 = cur[2:]\n",
    "    pre_ = pre[1:-1]\n",
    "    nex_ = nex[1:-1]\n",
    "    \n",
    "    if TO_FLAG & LEFT_pre_FLAG:\n",
    "        pre_ = pre_ + pre_*0.1\n",
    "    if FROM_FLAG:\n",
    "        nex_ = nex_ + nex_*notprime[left:]*0.1\n",
    "        \n",
    "    cur_1 = cur_1 + cur_1*isextra[left-1:-1]*0.1\n",
    "    \n",
    "    if LEFT_FLAG:\n",
    "        cur_2 = cur_2 + cur_2*isten[left:]*0.1\n",
    "    \n",
    "    if FROM_FLAG & LEFT_nex_FLAG:\n",
    "        adj_dist *= 1.1\n",
    "    new_cost = pre_ + nex_ + cur_1 + cur_2\n",
    "    \n",
    "    \n",
    "    new_cost[0] = 0\n",
    "    new_cost[1] += adj_dist\n",
    "    \n",
    "    save = old_cost - new_cost\n",
    "    good = np.where(save>0)[0]\n",
    "    \n",
    "    if len(good)>0:\n",
    "        good_save = save[good]\n",
    "        swap[left] = [good+left,good_save]\n",
    "    \n",
    "    if left%10000 == 0:\n",
    "        time_b = time.time()\n",
    "        print(left,time_b-time_a)\n",
    "        time_a = time_b\n",
    "print(time.time()-start)\n",
    "print(len(swap))\n",
    "###############################################\n",
    "bk = set()\n",
    "candidate = []\n",
    "for left in swap:\n",
    "    right,improve = swap[left]\n",
    "    for i in range(len(right)):\n",
    "        candidate.append((improve[i],right[i],left))\n",
    "        \n",
    "candidate = sorted(candidate)[::-1]\n",
    "l=[]\n",
    "r=[]\n",
    "for improve,left,right in candidate:\n",
    "    fill = [left-1,left,left+1,right-1,right,right+1]\n",
    "    fill = [not (x in bk) for x in fill]\n",
    "    if all(fill):\n",
    "        l.append(left)\n",
    "        r.append(right)\n",
    "        bk.add(left-1)\n",
    "        bk.add(left)\n",
    "        bk.add(left+1)\n",
    "        bk.add(right-1)\n",
    "        bk.add(right)\n",
    "        bk.add(right+1)\n",
    "\n",
    "buf = solution[l]\n",
    "solution[l] = solution[r]\n",
    "solution[r] = buf\n",
    "\n",
    "score(solution).sum()"
   ]
  }
 ],
 "metadata": {
  "kernelspec": {
   "display_name": "Python 3",
   "language": "python",
   "name": "python3"
  },
  "language_info": {
   "codemirror_mode": {
    "name": "ipython",
    "version": 3
   },
   "file_extension": ".py",
   "mimetype": "text/x-python",
   "name": "python",
   "nbconvert_exporter": "python",
   "pygments_lexer": "ipython3",
   "version": "3.6.0"
  }
 },
 "nbformat": 4,
 "nbformat_minor": 2
}
